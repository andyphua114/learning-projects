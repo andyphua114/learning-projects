{
 "cells": [
  {
   "cell_type": "markdown",
   "id": "f0ffb1a6",
   "metadata": {},
   "source": [
    "# Data Analysis for Mobile Apps\n",
    "This project will analyse data to help our developers understand what type of apps are likely to attract more users. This will help to increase  of main source of revenue through in-app ads."
   ]
  },
  {
   "cell_type": "markdown",
   "id": "8331c1e7",
   "metadata": {},
   "source": [
    "# Opening Dataset\n",
    "Open the datasets that we have (from [Kaggle - Google Play Store](https://www.kaggle.com/lava18/google-play-store-apps) and [Kaggle - Apple Store](https://www.kaggle.com/ramamet4/app-store-apple-data-set-10k-apps)), consisting of mobile apps data from Google Play Store and Apple Store. \n",
    "\n",
    "Here, we created a function `open_file` to read the csv file and store the datasets from Google and Apple into a list of lists respectively. Note that the directory pre-identified and the csv files must be saved in the correct directory."
   ]
  },
  {
   "cell_type": "code",
   "execution_count": 1,
   "id": "749d66d4",
   "metadata": {},
   "outputs": [],
   "source": [
    "def open_file(filename):\n",
    "    opened_file = open(r'C:'+\"\\\\\"+'Users'+\"\\\\\"+'Andy'+\"\\\\\"+'Desktop'+\"\\\\\"+'Learning'+\"\\\\\"+'Dataquest'+\"\\\\\"+'Project_1'+\"\\\\\"+\n",
    "                         filename, encoding='utf8')\n",
    "    from csv import reader\n",
    "    read_file = reader(opened_file)\n",
    "    dataset = list(read_file)\n",
    "    \n",
    "    return dataset"
   ]
  },
  {
   "cell_type": "code",
   "execution_count": 2,
   "id": "8a7dfaaf",
   "metadata": {},
   "outputs": [],
   "source": [
    "dataset_google = open_file('googleplaystore.csv')"
   ]
  },
  {
   "cell_type": "code",
   "execution_count": 3,
   "id": "44c245b1",
   "metadata": {},
   "outputs": [],
   "source": [
    "dataset_apple = open_file('Applestore.csv')"
   ]
  },
  {
   "cell_type": "markdown",
   "id": "3fa0d6bd",
   "metadata": {},
   "source": [
    "# Exploring Dataset\n",
    "Here we define a function so that we can quickly explore the datasets that we have, by printing the selected slice of data in the output. We can also choose to print the header row and the total number of rows and columns. This will allow us to see if the datasets headers are the same, and the amount of data we have in each datasets."
   ]
  },
  {
   "cell_type": "code",
   "execution_count": 4,
   "id": "c7a3af66",
   "metadata": {},
   "outputs": [],
   "source": [
    "def explore_data(dataset, start, end, table_header = False, rows_and_columns = False):\n",
    "    dataset_slice = dataset[start:end]\n",
    "    \n",
    "    if table_header:\n",
    "        print('The data headers are: ')\n",
    "        print(dataset[0])\n",
    "        print('\\n')\n",
    "        \n",
    "    for row in dataset_slice:\n",
    "        print(row)\n",
    "        print('\\n')\n",
    "    \n",
    "    if rows_and_columns:\n",
    "        print('Number of rows: ', len(dataset))\n",
    "        print('Number of columns: ', len(dataset[0]))"
   ]
  },
  {
   "cell_type": "markdown",
   "id": "6e4a14dc",
   "metadata": {},
   "source": [
    "Using the `explore_data function` we have defined, we can quickly see that the datasets headers are different. We also note that the number of columns are different (Google Play Store with 13 and Apple Store with 16), which suggest that the data information that we have for each datasets are different."
   ]
  },
  {
   "cell_type": "code",
   "execution_count": 5,
   "id": "23a0d653",
   "metadata": {},
   "outputs": [
    {
     "name": "stdout",
     "output_type": "stream",
     "text": [
      "The data headers are: \n",
      "['App', 'Category', 'Rating', 'Reviews', 'Size', 'Installs', 'Type', 'Price', 'Content Rating', 'Genres', 'Last Updated', 'Current Ver', 'Android Ver']\n",
      "\n",
      "\n",
      "['Photo Editor & Candy Camera & Grid & ScrapBook', 'ART_AND_DESIGN', '4.1', '159', '19M', '10,000+', 'Free', '0', 'Everyone', 'Art & Design', 'January 7, 2018', '1.0.0', '4.0.3 and up']\n",
      "\n",
      "\n",
      "['Coloring book moana', 'ART_AND_DESIGN', '3.9', '967', '14M', '500,000+', 'Free', '0', 'Everyone', 'Art & Design;Pretend Play', 'January 15, 2018', '2.0.0', '4.0.3 and up']\n",
      "\n",
      "\n",
      "Number of rows:  10842\n",
      "Number of columns:  13\n"
     ]
    }
   ],
   "source": [
    "explore_data(dataset_google, 1, 3, True, True)"
   ]
  },
  {
   "cell_type": "code",
   "execution_count": 6,
   "id": "cd96e1ea",
   "metadata": {},
   "outputs": [
    {
     "name": "stdout",
     "output_type": "stream",
     "text": [
      "The data headers are: \n",
      "['id', 'track_name', 'size_bytes', 'currency', 'price', 'rating_count_tot', 'rating_count_ver', 'user_rating', 'user_rating_ver', 'ver', 'cont_rating', 'prime_genre', 'sup_devices.num', 'ipadSc_urls.num', 'lang.num', 'vpp_lic']\n",
      "\n",
      "\n",
      "['284882215', 'Facebook', '389879808', 'USD', '0.0', '2974676', '212', '3.5', '3.5', '95.0', '4+', 'Social Networking', '37', '1', '29', '1']\n",
      "\n",
      "\n",
      "['389801252', 'Instagram', '113954816', 'USD', '0.0', '2161558', '1289', '4.5', '4.0', '10.23', '12+', 'Photo & Video', '37', '0', '29', '1']\n",
      "\n",
      "\n",
      "Number of rows:  7198\n",
      "Number of columns:  16\n"
     ]
    }
   ],
   "source": [
    "explore_data(dataset_apple, 1, 3, True, True)"
   ]
  },
  {
   "cell_type": "markdown",
   "id": "31e43198",
   "metadata": {},
   "source": [
    "# Cleaning Datasets\n",
    "\n",
    "### Part 1: Removing Duplicate Entries of the Same App\n",
    "\n",
    "#### From knowledge/information of duplicate entries\n",
    "\n",
    "From the source of the datasets via Kaggle, we found out that there are erroneous data in the Google Play Store dataset, and it is found at row 10472. We will first check whether the data is indeed an error and thereafter remove it if so. Note that we are accessing index 10473 as the dataset consists of the header as the first row."
   ]
  },
  {
   "cell_type": "code",
   "execution_count": 7,
   "id": "3e36426b",
   "metadata": {},
   "outputs": [
    {
     "name": "stdout",
     "output_type": "stream",
     "text": [
      "The data headers are: \n",
      "['App', 'Category', 'Rating', 'Reviews', 'Size', 'Installs', 'Type', 'Price', 'Content Rating', 'Genres', 'Last Updated', 'Current Ver', 'Android Ver']\n",
      "\n",
      "\n",
      "['Life Made WI-Fi Touchscreen Photo Frame', '1.9', '19', '3.0M', '1,000+', 'Free', '0', 'Everyone', '', 'February 11, 2018', '1.0.19', '4.0 and up']\n",
      "\n",
      "\n"
     ]
    }
   ],
   "source": [
    "explore_data(dataset_google, 10473, 10474, True)"
   ]
  },
  {
   "cell_type": "markdown",
   "id": "23ca846a",
   "metadata": {},
   "source": [
    "From above, we notice that there is a missing entry in 'Category' field and resulting in the misalignment of data from the dataset headers (e.g. Rating for this app is 19 which is not possible as it should only be a maximum of 5). We will hence remove this row using the `del` function."
   ]
  },
  {
   "cell_type": "code",
   "execution_count": 8,
   "id": "e5b575c2",
   "metadata": {},
   "outputs": [],
   "source": [
    "del(dataset_google[10473])"
   ]
  },
  {
   "cell_type": "markdown",
   "id": "e735eb0f",
   "metadata": {},
   "source": [
    "#### Checking through every entry in the dataset using app name to identify duplicates\n",
    "\n",
    "To make sure that our analysis is accurate, we will need to check through if there is/are duplicate(s) in our dataset. We will first use some commonly known mobile apps for quick check. In this example, we have used Clash of Clans and Facebook."
   ]
  },
  {
   "cell_type": "code",
   "execution_count": 9,
   "id": "e8e18734",
   "metadata": {},
   "outputs": [
    {
     "name": "stdout",
     "output_type": "stream",
     "text": [
      "['Clash of Clans', 'GAME', '4.6', '44891723', '98M', '100,000,000+', 'Free', '0', 'Everyone 10+', 'Strategy', 'July 15, 2018', '10.322.16', '4.1 and up']\n",
      "['Clash of Clans', 'GAME', '4.6', '44891723', '98M', '100,000,000+', 'Free', '0', 'Everyone 10+', 'Strategy', 'July 15, 2018', '10.322.16', '4.1 and up']\n",
      "['Clash of Clans', 'GAME', '4.6', '44893888', '98M', '100,000,000+', 'Free', '0', 'Everyone 10+', 'Strategy', 'July 15, 2018', '10.322.16', '4.1 and up']\n",
      "['Clash of Clans', 'FAMILY', '4.6', '44881447', '98M', '100,000,000+', 'Free', '0', 'Everyone 10+', 'Strategy', 'July 15, 2018', '10.322.16', '4.1 and up']\n",
      "\n",
      "\n",
      "['Facebook', 'SOCIAL', '4.1', '78158306', 'Varies with device', '1,000,000,000+', 'Free', '0', 'Teen', 'Social', 'August 3, 2018', 'Varies with device', 'Varies with device']\n",
      "['Facebook', 'SOCIAL', '4.1', '78128208', 'Varies with device', '1,000,000,000+', 'Free', '0', 'Teen', 'Social', 'August 3, 2018', 'Varies with device', 'Varies with device']\n"
     ]
    }
   ],
   "source": [
    "for app in dataset_google[1:]:\n",
    "    if app[0] == \"Clash of Clans\":\n",
    "        print(app)\n",
    "    \n",
    "print('\\n')\n",
    "        \n",
    "for app in dataset_google[1:]:\n",
    "    if app[0] == \"Facebook\":\n",
    "        print(app)  "
   ]
  },
  {
   "cell_type": "markdown",
   "id": "317bfe04",
   "metadata": {},
   "source": [
    "Above, we notice that there are duplicate entries for an apps called \"Clash of Clans\" and \"Facebook\". \n",
    "\n",
    "We will first determine which are the unique apps in the dataset by screening through using the app name.\n",
    "\n",
    "Here we define a function `unique_duplicate_apps` which take in the `dataset` as well as an `index` to indicate the column in which the app name is found. This `index` is required as earlier we have noticed that the headers for the Google and Apple datasets are different. In fact, the app name for each are found under different column number."
   ]
  },
  {
   "cell_type": "code",
   "execution_count": 10,
   "id": "e495f28f",
   "metadata": {},
   "outputs": [],
   "source": [
    "def unique_duplicate_apps(dataset, index):\n",
    "    unique_apps = []\n",
    "    duplicate_apps = []\n",
    "    index = int(index)\n",
    "    \n",
    "    for row in dataset[1:]:\n",
    "        app_name = row[index]\n",
    "        if app_name in unique_apps:\n",
    "            duplicate_apps.append(app_name)\n",
    "        else:\n",
    "            unique_apps.append(app_name)\n",
    "    \n",
    "    print('Number of unique apps: ' + str(len(unique_apps)))\n",
    "    print('Number of duplicate apps: ' + str(len(duplicate_apps)))\n",
    "    print('\\n')\n",
    "    print('Examples of duplicate apps: ')\n",
    "    print(duplicate_apps[:15])"
   ]
  },
  {
   "cell_type": "code",
   "execution_count": 11,
   "id": "8e81b9e9",
   "metadata": {},
   "outputs": [
    {
     "name": "stdout",
     "output_type": "stream",
     "text": [
      "Number of unique apps: 9659\n",
      "Number of duplicate apps: 1181\n",
      "\n",
      "\n",
      "Examples of duplicate apps: \n",
      "['Quick PDF Scanner + OCR FREE', 'Box', 'Google My Business', 'ZOOM Cloud Meetings', 'join.me - Simple Meetings', 'Box', 'Zenefits', 'Google Ads', 'Google My Business', 'Slack', 'FreshBooks Classic', 'Insightly CRM', 'QuickBooks Accounting: Invoicing & Expenses', 'HipChat - Chat Built for Teams', 'Xero Accounting Software']\n"
     ]
    }
   ],
   "source": [
    "unique_duplicate_apps(dataset_google, 0)"
   ]
  },
  {
   "cell_type": "code",
   "execution_count": 12,
   "id": "e6e7d9d8",
   "metadata": {},
   "outputs": [
    {
     "name": "stdout",
     "output_type": "stream",
     "text": [
      "Number of unique apps: 7195\n",
      "Number of duplicate apps: 2\n",
      "\n",
      "\n",
      "Examples of duplicate apps: \n",
      "['Mannequin Challenge', 'VR Roller Coaster']\n"
     ]
    }
   ],
   "source": [
    "unique_duplicate_apps(dataset_apple, 1)"
   ]
  },
  {
   "cell_type": "markdown",
   "id": "e51a5665",
   "metadata": {},
   "source": [
    "From above, we note that there are **1181** duplicate apps in the **Google dataset** and **2** duplicate apps in the **Apple dataset**.\n",
    "\n",
    "#### Determining which entry to keep for those with duplicates using total number of reviews\n",
    "\n",
    "For the dataset with duplicate entries, we will have to determine which to keep and which to delete. We can use the total number of reviews as a measure to do so. The higher the number of reviews could suggest that the entry is the latest. \n",
    "\n",
    "We define a function `most_review` to create a dictionary with the key as the app name and the value as the number of reviews. We will cycle through the dataset and only keep the most number of reviews corresponding to each app as the value. Note that this time round, we will need two indices: `app_name_index` and `review_index` to indicate the column in which the app name and number of reviews are found (for Google, we will use `reviews` column; and for Apple, we will use `rating_count_tot` column),\n",
    "\n",
    "We then do a check to make sure that all unique apps' total number of reviews are captured by comparing the length of our dictionary with the number of unique apps."
   ]
  },
  {
   "cell_type": "code",
   "execution_count": 27,
   "id": "05aaa654",
   "metadata": {},
   "outputs": [],
   "source": [
    "def most_review(dataset, app_name_index, review_index):\n",
    "    \n",
    "    most_review = {}\n",
    "\n",
    "    for row in dataset[1:]:\n",
    "        app_name = row[app_name_index]\n",
    "        app_review = int(row[review_index])\n",
    "        if app_name in most_review and app_review > most_review[app_name]:\n",
    "            most_review[app_name] = app_review\n",
    "        else:\n",
    "            most_review[app_name] = app_review\n",
    "        \n",
    "    print(len(most_review))\n",
    "    \n",
    "    return most_review"
   ]
  },
  {
   "cell_type": "code",
   "execution_count": 28,
   "id": "23c667fe",
   "metadata": {},
   "outputs": [
    {
     "name": "stdout",
     "output_type": "stream",
     "text": [
      "9659\n"
     ]
    }
   ],
   "source": [
    "most_review_google = most_review(dataset_google,0,3)"
   ]
  },
  {
   "cell_type": "code",
   "execution_count": 29,
   "id": "317b2604",
   "metadata": {},
   "outputs": [
    {
     "name": "stdout",
     "output_type": "stream",
     "text": [
      "7195\n"
     ]
    }
   ],
   "source": [
    "most_review_apple = most_review(dataset_apple,1,5)"
   ]
  },
  {
   "cell_type": "markdown",
   "id": "abd3a5de",
   "metadata": {},
   "source": [
    "By defining a function `clean_data`, using the most number of reviews as an indicator, we will cycle through the dataset and only copy the app data that has the most number of reviews into our cleaned dataset. \n",
    "\n",
    "Note that repeated entries may have the same total number of reviews, and we should only keep one of them. Hence, we have also created a holding list called `already_added` to check if it is a case of duplicate entry with same total number of reviews and that we have already added into our cleaned dataset."
   ]
  },
  {
   "cell_type": "code",
   "execution_count": 31,
   "id": "e7100133",
   "metadata": {},
   "outputs": [],
   "source": [
    "def clean_data(dataset, most_review, app_name_index, review_index):\n",
    "    dataset_clean = []\n",
    "    already_added = []\n",
    "    \n",
    "    for row in dataset[1:]:\n",
    "        app_name  = row[app_name_index]\n",
    "        app_review = int(row[review_index])\n",
    "        if (most_review[app_name] == app_review) and (app_name not in already_added):\n",
    "            dataset_clean.append(row)\n",
    "            already_added.append(app_name)\n",
    "            \n",
    "    print(len(dataset_clean))\n",
    "    \n",
    "    return dataset_clean"
   ]
  },
  {
   "cell_type": "code",
   "execution_count": 32,
   "id": "a4008497",
   "metadata": {},
   "outputs": [
    {
     "name": "stdout",
     "output_type": "stream",
     "text": [
      "9659\n"
     ]
    }
   ],
   "source": [
    "dataset_google_clean = clean_data(dataset_google, most_review_google, 0, 3)"
   ]
  },
  {
   "cell_type": "code",
   "execution_count": 33,
   "id": "3dc82e0a",
   "metadata": {},
   "outputs": [
    {
     "name": "stdout",
     "output_type": "stream",
     "text": [
      "7195\n"
     ]
    }
   ],
   "source": [
    "dataset_apple_clean = clean_data(dataset_apple, most_review_apple, 1, 5)"
   ]
  },
  {
   "cell_type": "markdown",
   "id": "8c99d056",
   "metadata": {},
   "source": [
    "### Part 2: Removing Non-English Apps\n",
    "\n",
    "Since we only want to analyse mobile apps that have english name, we will need to check through the mobile app datasets and only keep those with english name.\n",
    "\n",
    "To do so, we have defined a function `check_english` to screen through character by character based on ASCII value to determine if it is an english character. While it will not be fully deterministic, we will attempt to classify as non-english: \n",
    "* If there are more than three non-english characters <u>or</u>\n",
    "* If the number of non-english characters is the exact length of the app name."
   ]
  },
  {
   "cell_type": "code",
   "execution_count": 40,
   "id": "11e08a83",
   "metadata": {},
   "outputs": [],
   "source": [
    "def check_english(word):\n",
    "    index = 0\n",
    "    for char in word:\n",
    "        if ord(char) > 127:\n",
    "            index += 1\n",
    "    \n",
    "    if index > 3 or index == len(word):\n",
    "        return False\n",
    "    else:\n",
    "        return True"
   ]
  },
  {
   "cell_type": "markdown",
   "id": "f078b36f",
   "metadata": {},
   "source": [
    "Using the function `check_english`, we run our dataset through the function and updated with a new dataset that only consist of english mobile apps."
   ]
  },
  {
   "cell_type": "code",
   "execution_count": 43,
   "id": "5bf1174c",
   "metadata": {},
   "outputs": [
    {
     "name": "stdout",
     "output_type": "stream",
     "text": [
      "9614\n"
     ]
    }
   ],
   "source": [
    "dataset_google_clean_english = []\n",
    "dataset_google_clean_non = []\n",
    "\n",
    "for row in dataset_google_clean:\n",
    "    app_name = row[0]\n",
    "    if check_english(app_name):\n",
    "        dataset_google_clean_english.append(row)\n",
    "    else:\n",
    "        dataset_google_clean_non.append(row)\n",
    "        \n",
    "print(len(dataset_google_clean_english))"
   ]
  },
  {
   "cell_type": "code",
   "execution_count": 45,
   "id": "110be6d9",
   "metadata": {},
   "outputs": [
    {
     "name": "stdout",
     "output_type": "stream",
     "text": [
      "6163\n"
     ]
    }
   ],
   "source": [
    "dataset_apple_clean_english = []\n",
    "dataset_apple_clean_non = []\n",
    "\n",
    "for row in dataset_apple_clean:\n",
    "    app_name = row[1]\n",
    "    if check_english(app_name):\n",
    "        dataset_apple_clean_english.append(row)\n",
    "    else:\n",
    "        dataset_apple_clean_non.append(row)\n",
    "        \n",
    "print(len(dataset_apple_clean_english))"
   ]
  },
  {
   "cell_type": "code",
   "execution_count": 63,
   "id": "c6ce6c37",
   "metadata": {},
   "outputs": [
    {
     "name": "stdout",
     "output_type": "stream",
     "text": [
      "Total number of non-english app: 45\n",
      "\n",
      "Examples:\n",
      "Flame - درب عقلك يوميا\n",
      "သိင်္ Astrology - Min Thein Kha BayDin\n",
      "РИА Новости\n",
      "صور حرف H\n",
      "L.POINT - 엘포인트 [ 포인트, 멤버십, 적립, 사용, 모바일 카드, 쿠폰, 롯데]\n"
     ]
    }
   ],
   "source": [
    "print('Total number of non-english app: ' + str(len(dataset_google_clean_non)))\n",
    "print('\\nExamples:')\n",
    "for row in dataset_google_clean_non[:5]:\n",
    "    print(row[0])\n"
   ]
  },
  {
   "cell_type": "code",
   "execution_count": 66,
   "id": "f56b5fb6",
   "metadata": {},
   "outputs": [
    {
     "name": "stdout",
     "output_type": "stream",
     "text": [
      "Total number of non-english app: 1032\n",
      "\n",
      "Examples:\n",
      "爱奇艺PPS -《欢乐颂2》电视剧热播\n",
      "聚力视频HD-人民的名义,跨界歌王全网热播\n",
      "优酷视频\n",
      "网易新闻 - 精选好内容，算出你的兴趣\n",
      "淘宝 - 随时随地，想淘就淘\n"
     ]
    }
   ],
   "source": [
    "print('Total number of non-english app: ' + str(len(dataset_apple_clean_non)))\n",
    "print('\\nExamples:')\n",
    "for row in dataset_apple_clean_non[:5]:\n",
    "    print(row[1])"
   ]
  },
  {
   "cell_type": "markdown",
   "id": "33a0bd27",
   "metadata": {},
   "source": [
    "### Part 3: Removing Paid apps\n",
    "\n",
    "To have a sense of what are the types of formatting for the price in the datasets, we do a simple sampling by printing the list. We notice that likely free apps are characterised by '0' while a paid app would have the symbol '$' preceding it. We will need to remove this from the string before converting to a float."
   ]
  },
  {
   "cell_type": "code",
   "execution_count": 67,
   "id": "b3ec8a8d",
   "metadata": {},
   "outputs": [
    {
     "name": "stdout",
     "output_type": "stream",
     "text": [
      "['0', '0', '0', '0', '0', '0', '0', '0', '0', '0', '0', '0', '0', '0', '0', '0', '0', '0', '0', '0', '0', '$2.99', '0', '0', '0', '0', '0', '0', '0', '$3.99', '0', '0', '0', '0', '$2.99', '0', '0', '0', '0', '0', '0', '0', '0', '0', '0', '0', '0', '0', '0', '0']\n"
     ]
    }
   ],
   "source": [
    "price_list = []\n",
    "\n",
    "for row in dataset_google_clean_english:\n",
    "    price = row[7]\n",
    "    price_list.append(price)\n",
    "    \n",
    "print(price_list[950:1000])"
   ]
  },
  {
   "cell_type": "markdown",
   "id": "3027f705",
   "metadata": {},
   "source": [
    "Firstly, we will check for the character `$` and remove it. This is to identify apps that may be listed as `$`0.0 and to avoid ommitting relevant data. \n",
    "\n",
    "We then check to make sure that the mobile app is free (listed as 0.0) and save it into a new list."
   ]
  },
  {
   "cell_type": "code",
   "execution_count": 69,
   "id": "00b038fd",
   "metadata": {},
   "outputs": [
    {
     "name": "stdout",
     "output_type": "stream",
     "text": [
      "8864\n"
     ]
    }
   ],
   "source": [
    "dataset_google_clean_english_free = []\n",
    "\n",
    "for row in dataset_google_clean_english:\n",
    "    price = row[7]\n",
    "    if '$' in row[7]:\n",
    "        price = price[1:]\n",
    "        \n",
    "    price = float(price)\n",
    "    if price == 0.0:\n",
    "        dataset_google_clean_english_free.append(row)\n",
    "\n",
    "print(len(dataset_google_clean_english_free))        "
   ]
  },
  {
   "cell_type": "code",
   "execution_count": 70,
   "id": "3bc31158",
   "metadata": {},
   "outputs": [
    {
     "name": "stdout",
     "output_type": "stream",
     "text": [
      "3204\n"
     ]
    }
   ],
   "source": [
    "dataset_apple_clean_english_free = []\n",
    "\n",
    "for row in dataset_apple_clean_english:\n",
    "    price = row[4]\n",
    "    if '$' in row[4]:\n",
    "        price = price[1:]\n",
    "        \n",
    "    price = float(price)\n",
    "    if price == 0.0:\n",
    "        dataset_apple_clean_english_free.append(row)\n",
    "\n",
    "print(len(dataset_apple_clean_english_free))  "
   ]
  },
  {
   "cell_type": "markdown",
   "id": "5ad50345",
   "metadata": {},
   "source": [
    "# Analysing Datasets\n",
    "\n",
    "We will build two functions we can use to analyse the frequency tables:\n",
    "\n",
    "* One function called `freq_table` to generate frequency tables that show percentages.\n",
    "* Another function called `display_table` that we can use to display the percentages in a descending order."
   ]
  },
  {
   "cell_type": "code",
   "execution_count": 71,
   "id": "334d78a5",
   "metadata": {},
   "outputs": [],
   "source": [
    "def freq_table(dataset, index):\n",
    "    \n",
    "    data_table = {}\n",
    "    \n",
    "    for row in dataset:\n",
    "        value = row[index]\n",
    "        if value in data_table:\n",
    "            data_table[value] += 1\n",
    "        else:\n",
    "            data_table[value] = 1\n",
    "            \n",
    "    percentage_table = {}\n",
    "    total = 0\n",
    "    \n",
    "    for key in data_table:\n",
    "        total += data_table[key]\n",
    "        \n",
    "    for key in data_table:\n",
    "        percentage_table[key] = (data_table[key] / total) * 100\n",
    "         \n",
    "    return percentage_table"
   ]
  },
  {
   "cell_type": "code",
   "execution_count": 85,
   "id": "2d8cc8e4",
   "metadata": {},
   "outputs": [],
   "source": [
    "def display_table(dataset, index):\n",
    "    table = freq_table(dataset, index)\n",
    "    table_display = []\n",
    "    for key in table:\n",
    "        key_val_as_tuple = (table[key], key)\n",
    "        table_display.append(key_val_as_tuple)\n",
    "\n",
    "    table_sorted = sorted(table_display, reverse = True)\n",
    "    for entry in table_sorted:\n",
    "        print(entry[1], ':', entry[0], '%')"
   ]
  },
  {
   "cell_type": "markdown",
   "id": "f07224e7",
   "metadata": {},
   "source": [
    "### Part 1: Analysis by Breakdown of App Category/Genre\n",
    "\n",
    "We will use the functions we have defined above to determine the most common app genres/categories in the Google Play Store and Apple Store.\n",
    "\n",
    "Note that while Google Play Store dataset offers category and genres field, we will use the category field as genres field is too granular and specific and app creator can choose more than one genres field to list their app under, as compared to category field in which the app creater can only choose one to list under."
   ]
  },
  {
   "cell_type": "code",
   "execution_count": 78,
   "id": "b64ed9a9",
   "metadata": {},
   "outputs": [
    {
     "name": "stdout",
     "output_type": "stream",
     "text": [
      "FAMILY : 19.223826714801444 %\n",
      "GAME : 9.510379061371841 %\n",
      "TOOLS : 8.461191335740072 %\n",
      "BUSINESS : 4.580324909747293 %\n",
      "LIFESTYLE : 3.9034296028880866 %\n",
      "PRODUCTIVITY : 3.892148014440433 %\n",
      "FINANCE : 3.7003610108303246 %\n",
      "MEDICAL : 3.5424187725631766 %\n",
      "SPORTS : 3.4183212996389893 %\n",
      "PERSONALIZATION : 3.3167870036101084 %\n",
      "COMMUNICATION : 3.2490974729241873 %\n",
      "HEALTH_AND_FITNESS : 3.068592057761733 %\n",
      "PHOTOGRAPHY : 2.944494584837545 %\n",
      "NEWS_AND_MAGAZINES : 2.7978339350180503 %\n",
      "SOCIAL : 2.6624548736462095 %\n",
      "TRAVEL_AND_LOCAL : 2.33528880866426 %\n",
      "SHOPPING : 2.2450361010830324 %\n",
      "BOOKS_AND_REFERENCE : 2.1435018050541514 %\n",
      "DATING : 1.861462093862816 %\n",
      "VIDEO_PLAYERS : 1.782490974729242 %\n",
      "MAPS_AND_NAVIGATION : 1.3989169675090252 %\n",
      "FOOD_AND_DRINK : 1.2409747292418771 %\n",
      "EDUCATION : 1.128158844765343 %\n",
      "LIBRARIES_AND_DEMO : 0.9363718411552346 %\n",
      "AUTO_AND_VEHICLES : 0.9250902527075812 %\n",
      "ENTERTAINMENT : 0.8799638989169676 %\n",
      "HOUSE_AND_HOME : 0.8235559566787004 %\n",
      "WEATHER : 0.8009927797833934 %\n",
      "EVENTS : 0.7107400722021661 %\n",
      "PARENTING : 0.6543321299638989 %\n",
      "ART_AND_DESIGN : 0.6430505415162455 %\n",
      "COMICS : 0.6204873646209386 %\n",
      "BEAUTY : 0.5979241877256317 %\n"
     ]
    }
   ],
   "source": [
    "display_table(dataset_google_clean_english_free, 1) #index 1 correspond to Category"
   ]
  },
  {
   "cell_type": "code",
   "execution_count": 86,
   "id": "73f987fc",
   "metadata": {},
   "outputs": [],
   "source": [
    "#display_table(dataset_google_clean_english_free, 9) #index 9 corresponds to Genres"
   ]
  },
  {
   "cell_type": "code",
   "execution_count": 82,
   "id": "04697385",
   "metadata": {},
   "outputs": [
    {
     "name": "stdout",
     "output_type": "stream",
     "text": [
      "Games : 58.14606741573034 %\n",
      "Entertainment : 7.896379525593009 %\n",
      "Photo & Video : 4.9937578027465666 %\n",
      "Education : 3.682896379525593 %\n",
      "Social Networking : 3.245942571785269 %\n",
      "Shopping : 2.6217228464419478 %\n",
      "Utilities : 2.528089887640449 %\n",
      "Sports : 2.153558052434457 %\n",
      "Music : 2.0599250936329585 %\n",
      "Health & Fitness : 2.028714107365793 %\n",
      "Productivity : 1.7478152309612984 %\n",
      "Lifestyle : 1.5605493133583022 %\n",
      "News : 1.3420724094881398 %\n",
      "Travel : 1.2172284644194757 %\n",
      "Finance : 1.0923845193508115 %\n",
      "Weather : 0.8739076154806492 %\n",
      "Food & Drink : 0.8114856429463172 %\n",
      "Reference : 0.5617977528089888 %\n",
      "Business : 0.5305867665418227 %\n",
      "Book : 0.4057428214731586 %\n",
      "Navigation : 0.18726591760299627 %\n",
      "Medical : 0.18726591760299627 %\n",
      "Catalogs : 0.12484394506866417 %\n"
     ]
    }
   ],
   "source": [
    "display_table(dataset_apple_clean_english_free, 11) #index 11 corresponds to prime_genre"
   ]
  },
  {
   "cell_type": "markdown",
   "id": "f52d9ee4",
   "metadata": {},
   "source": [
    "We notice the top 3 saturated categories/genres for each app store:\n",
    "* Google Play Store: **Family**, **Game**, and **Tools**.\n",
    "* Apple Store: **Games**, **Entertainment**, and **Photo & Video**."
   ]
  },
  {
   "cell_type": "markdown",
   "id": "f9eb0747",
   "metadata": {},
   "source": [
    "### Part 2: Analysis by Breakdown of Number of Installs/Reviews\n",
    "\n",
    "We will also analyse the poularity of apps (have the most users) by calculating the average number of installs for each app by category or by number of ratings left on the app. "
   ]
  },
  {
   "cell_type": "code",
   "execution_count": 114,
   "id": "9fc1c618",
   "metadata": {},
   "outputs": [
    {
     "name": "stdout",
     "output_type": "stream",
     "text": [
      "ART_AND_DESIGN :  1986335.0877192982\n",
      "AUTO_AND_VEHICLES :  647317.8170731707\n",
      "BEAUTY :  513151.88679245283\n",
      "BOOKS_AND_REFERENCE :  8767811.894736841\n",
      "BUSINESS :  1704192.3399014778\n",
      "COMICS :  817657.2727272727\n",
      "COMMUNICATION :  38326063.197916664\n",
      "DATING :  854028.8303030303\n",
      "EDUCATION :  1768500.0\n",
      "ENTERTAINMENT :  9146923.076923076\n",
      "EVENTS :  253542.22222222222\n",
      "FINANCE :  1387692.475609756\n",
      "FOOD_AND_DRINK :  1924897.7363636363\n",
      "HEALTH_AND_FITNESS :  4167457.3602941176\n",
      "HOUSE_AND_HOME :  1331540.5616438356\n",
      "LIBRARIES_AND_DEMO :  638503.734939759\n",
      "LIFESTYLE :  1437816.2687861272\n",
      "GAME :  12914435.883748516\n",
      "FAMILY :  5180161.789906103\n",
      "MEDICAL :  123064.7898089172\n",
      "SOCIAL :  23253652.127118643\n",
      "SHOPPING :  7036877.311557789\n",
      "PHOTOGRAPHY :  17840110.40229885\n",
      "SPORTS :  4274688.722772277\n",
      "TRAVEL_AND_LOCAL :  13984077.710144928\n",
      "TOOLS :  10801391.298666667\n",
      "PERSONALIZATION :  5201482.6122448975\n",
      "PRODUCTIVITY :  16772838.591304347\n",
      "PARENTING :  542603.6206896552\n",
      "WEATHER :  5074486.197183099\n",
      "VIDEO_PLAYERS :  24790074.17721519\n",
      "NEWS_AND_MAGAZINES :  9549178.467741935\n",
      "MAPS_AND_NAVIGATION :  4056941.7741935486\n",
      "\n",
      "\n",
      "Top category with highest average number of installs:\n",
      "COMMUNICATION :  38326063.197916664\n"
     ]
    }
   ],
   "source": [
    "google_cat_table = freq_table(dataset_google_clean_english_free, 1)\n",
    "\n",
    "old_avg_install = 0\n",
    "\n",
    "for category in google_cat_table:\n",
    "    total = 0\n",
    "    len_category = 0\n",
    "    for row in dataset_google_clean_english_free:\n",
    "        category_app = row[1]\n",
    "        if category_app == category:\n",
    "            install = row[5]\n",
    "            install = install.replace(',','')\n",
    "            install = install.replace('+','')\n",
    "            install = float(install)\n",
    "            total += install\n",
    "            len_category += 1\n",
    "            \n",
    "    avg_install = total / len_category\n",
    "    print(category, ': ', avg_install)\n",
    "    \n",
    "    if old_avg_install < avg_install:\n",
    "        old_avg_install = avg_install\n",
    "        category_name = category\n",
    "\n",
    "print('\\n')\n",
    "print('Top category with highest average number of installs:')\n",
    "print(category_name,': ',old_avg_install)"
   ]
  },
  {
   "cell_type": "code",
   "execution_count": 115,
   "id": "a89934c9",
   "metadata": {},
   "outputs": [
    {
     "name": "stdout",
     "output_type": "stream",
     "text": [
      "Social Networking :  72916.54807692308\n",
      "Photo & Video :  28441.54375\n",
      "Games :  22922.805152979065\n",
      "Music :  57326.530303030304\n",
      "Reference :  74942.11111111111\n",
      "Health & Fitness :  23298.015384615384\n",
      "Weather :  52279.892857142855\n",
      "Utilities :  18684.456790123455\n",
      "Travel :  28964.05128205128\n",
      "Shopping :  26919.690476190477\n",
      "News :  21248.023255813954\n",
      "Navigation :  86090.33333333333\n",
      "Lifestyle :  16815.48\n",
      "Entertainment :  14085.284584980238\n",
      "Food & Drink :  33333.92307692308\n",
      "Sports :  23008.898550724636\n",
      "Book :  42816.846153846156\n",
      "Finance :  32367.02857142857\n",
      "Education :  7003.983050847458\n",
      "Productivity :  21028.410714285714\n",
      "Business :  7491.117647058823\n",
      "Catalogs :  4004.0\n",
      "Medical :  612.0\n",
      "\n",
      "\n",
      "Top genre with highest average number of installs:\n",
      "Navigation :  86090.33333333333\n"
     ]
    }
   ],
   "source": [
    "apple_prime_genre_table = freq_table(dataset_apple_clean_english_free, 11)\n",
    "\n",
    "old_avg_install = 0\n",
    "\n",
    "for genre in apple_prime_genre_table:\n",
    "    total = 0\n",
    "    len_genre = 0\n",
    "    for row in dataset_apple_clean_english_free:\n",
    "        genre_app = row[11]\n",
    "        if genre_app == genre:\n",
    "            no_user_rating = float(row[5])\n",
    "            total += no_user_rating\n",
    "            len_genre += 1\n",
    "    \n",
    "    avg = total / len_genre\n",
    "    print(genre, ': ', avg)\n",
    "    \n",
    "    if old_avg_install < avg:\n",
    "        old_avg_install = avg\n",
    "        genre_name = genre\n",
    "\n",
    "print('\\n')\n",
    "print('Top genre with highest average number of installs:')\n",
    "print(genre_name,': ',old_avg_install)"
   ]
  },
  {
   "cell_type": "code",
   "execution_count": null,
   "id": "7fad6523",
   "metadata": {},
   "outputs": [],
   "source": []
  }
 ],
 "metadata": {
  "kernelspec": {
   "display_name": "Python 3",
   "language": "python",
   "name": "python3"
  },
  "language_info": {
   "codemirror_mode": {
    "name": "ipython",
    "version": 3
   },
   "file_extension": ".py",
   "mimetype": "text/x-python",
   "name": "python",
   "nbconvert_exporter": "python",
   "pygments_lexer": "ipython3",
   "version": "3.8.8"
  }
 },
 "nbformat": 4,
 "nbformat_minor": 5
}
