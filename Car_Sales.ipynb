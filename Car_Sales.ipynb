{
 "cells": [
  {
   "cell_type": "markdown",
   "id": "4fb4ecf6",
   "metadata": {},
   "source": [
    "# eBay Car Sales Analysis\n",
    "The aim of this project is to clean the data and analyze the included used car listings. You'll also become familiar with some of the unique benefits jupyter notebook provides for pandas.\n",
    "\n",
    "We'll work with a dataset of used cars from eBay Kleinanzeigen, a classifieds section of the German eBay website."
   ]
  },
  {
   "cell_type": "code",
   "execution_count": 1,
   "id": "6ff1c99d",
   "metadata": {},
   "outputs": [],
   "source": [
    "import numpy as np\n",
    "import pandas as pd\n",
    "\n",
    "pd.set_option('display.float_format', lambda x: '%.5f' % x)"
   ]
  },
  {
   "cell_type": "markdown",
   "id": "840c1106",
   "metadata": {},
   "source": [
    "# Reading the Data\n",
    "**We will read the data and use info method to have a quick overview of the data we are processing.**"
   ]
  },
  {
   "cell_type": "code",
   "execution_count": 2,
   "id": "674e4058",
   "metadata": {},
   "outputs": [],
   "source": [
    "autos = pd.read_csv(r\"C:\\Users\\Andy\\Desktop\\Learning\\Dataquest\\Project_3\\autos.csv\")"
   ]
  },
  {
   "cell_type": "code",
   "execution_count": 3,
   "id": "0c108822",
   "metadata": {},
   "outputs": [
    {
     "name": "stdout",
     "output_type": "stream",
     "text": [
      "<class 'pandas.core.frame.DataFrame'>\n",
      "RangeIndex: 50000 entries, 0 to 49999\n",
      "Data columns (total 20 columns):\n",
      " #   Column               Non-Null Count  Dtype \n",
      "---  ------               --------------  ----- \n",
      " 0   dateCrawled          50000 non-null  object\n",
      " 1   name                 50000 non-null  object\n",
      " 2   seller               50000 non-null  object\n",
      " 3   offerType            50000 non-null  object\n",
      " 4   price                50000 non-null  object\n",
      " 5   abtest               50000 non-null  object\n",
      " 6   vehicleType          44905 non-null  object\n",
      " 7   yearOfRegistration   50000 non-null  int64 \n",
      " 8   gearbox              47320 non-null  object\n",
      " 9   powerPS              50000 non-null  int64 \n",
      " 10  model                47242 non-null  object\n",
      " 11  odometer             50000 non-null  object\n",
      " 12  monthOfRegistration  50000 non-null  int64 \n",
      " 13  fuelType             45518 non-null  object\n",
      " 14  brand                50000 non-null  object\n",
      " 15  notRepairedDamage    40171 non-null  object\n",
      " 16  dateCreated          50000 non-null  object\n",
      " 17  nrOfPictures         50000 non-null  int64 \n",
      " 18  postalCode           50000 non-null  int64 \n",
      " 19  lastSeen             50000 non-null  object\n",
      "dtypes: int64(5), object(15)\n",
      "memory usage: 7.6+ MB\n"
     ]
    }
   ],
   "source": [
    "autos.info()"
   ]
  },
  {
   "cell_type": "markdown",
   "id": "f9aa6096",
   "metadata": {},
   "source": [
    "**From above, we can very quickly notice a few things:**\n",
    "* There are null values in some of the data. Namely \"vehicleType\", \"gearbox\", \"model\", \"fuelType\", and \"notRepairedDamage\".\n",
    "* The data consists of string and integer values."
   ]
  },
  {
   "cell_type": "code",
   "execution_count": 4,
   "id": "90303fa3",
   "metadata": {},
   "outputs": [
    {
     "data": {
      "text/html": [
       "<div>\n",
       "<style scoped>\n",
       "    .dataframe tbody tr th:only-of-type {\n",
       "        vertical-align: middle;\n",
       "    }\n",
       "\n",
       "    .dataframe tbody tr th {\n",
       "        vertical-align: top;\n",
       "    }\n",
       "\n",
       "    .dataframe thead th {\n",
       "        text-align: right;\n",
       "    }\n",
       "</style>\n",
       "<table border=\"1\" class=\"dataframe\">\n",
       "  <thead>\n",
       "    <tr style=\"text-align: right;\">\n",
       "      <th></th>\n",
       "      <th>dateCrawled</th>\n",
       "      <th>name</th>\n",
       "      <th>seller</th>\n",
       "      <th>offerType</th>\n",
       "      <th>price</th>\n",
       "      <th>abtest</th>\n",
       "      <th>vehicleType</th>\n",
       "      <th>yearOfRegistration</th>\n",
       "      <th>gearbox</th>\n",
       "      <th>powerPS</th>\n",
       "      <th>model</th>\n",
       "      <th>odometer</th>\n",
       "      <th>monthOfRegistration</th>\n",
       "      <th>fuelType</th>\n",
       "      <th>brand</th>\n",
       "      <th>notRepairedDamage</th>\n",
       "      <th>dateCreated</th>\n",
       "      <th>nrOfPictures</th>\n",
       "      <th>postalCode</th>\n",
       "      <th>lastSeen</th>\n",
       "    </tr>\n",
       "  </thead>\n",
       "  <tbody>\n",
       "    <tr>\n",
       "      <th>0</th>\n",
       "      <td>2016-03-26 17:47:46</td>\n",
       "      <td>Peugeot_807_160_NAVTECH_ON_BOARD</td>\n",
       "      <td>privat</td>\n",
       "      <td>Angebot</td>\n",
       "      <td>$5,000</td>\n",
       "      <td>control</td>\n",
       "      <td>bus</td>\n",
       "      <td>2004</td>\n",
       "      <td>manuell</td>\n",
       "      <td>158</td>\n",
       "      <td>andere</td>\n",
       "      <td>150,000km</td>\n",
       "      <td>3</td>\n",
       "      <td>lpg</td>\n",
       "      <td>peugeot</td>\n",
       "      <td>nein</td>\n",
       "      <td>2016-03-26 00:00:00</td>\n",
       "      <td>0</td>\n",
       "      <td>79588</td>\n",
       "      <td>2016-04-06 06:45:54</td>\n",
       "    </tr>\n",
       "    <tr>\n",
       "      <th>1</th>\n",
       "      <td>2016-04-04 13:38:56</td>\n",
       "      <td>BMW_740i_4_4_Liter_HAMANN_UMBAU_Mega_Optik</td>\n",
       "      <td>privat</td>\n",
       "      <td>Angebot</td>\n",
       "      <td>$8,500</td>\n",
       "      <td>control</td>\n",
       "      <td>limousine</td>\n",
       "      <td>1997</td>\n",
       "      <td>automatik</td>\n",
       "      <td>286</td>\n",
       "      <td>7er</td>\n",
       "      <td>150,000km</td>\n",
       "      <td>6</td>\n",
       "      <td>benzin</td>\n",
       "      <td>bmw</td>\n",
       "      <td>nein</td>\n",
       "      <td>2016-04-04 00:00:00</td>\n",
       "      <td>0</td>\n",
       "      <td>71034</td>\n",
       "      <td>2016-04-06 14:45:08</td>\n",
       "    </tr>\n",
       "    <tr>\n",
       "      <th>2</th>\n",
       "      <td>2016-03-26 18:57:24</td>\n",
       "      <td>Volkswagen_Golf_1.6_United</td>\n",
       "      <td>privat</td>\n",
       "      <td>Angebot</td>\n",
       "      <td>$8,990</td>\n",
       "      <td>test</td>\n",
       "      <td>limousine</td>\n",
       "      <td>2009</td>\n",
       "      <td>manuell</td>\n",
       "      <td>102</td>\n",
       "      <td>golf</td>\n",
       "      <td>70,000km</td>\n",
       "      <td>7</td>\n",
       "      <td>benzin</td>\n",
       "      <td>volkswagen</td>\n",
       "      <td>nein</td>\n",
       "      <td>2016-03-26 00:00:00</td>\n",
       "      <td>0</td>\n",
       "      <td>35394</td>\n",
       "      <td>2016-04-06 20:15:37</td>\n",
       "    </tr>\n",
       "    <tr>\n",
       "      <th>3</th>\n",
       "      <td>2016-03-12 16:58:10</td>\n",
       "      <td>Smart_smart_fortwo_coupe_softouch/F1/Klima/Pan...</td>\n",
       "      <td>privat</td>\n",
       "      <td>Angebot</td>\n",
       "      <td>$4,350</td>\n",
       "      <td>control</td>\n",
       "      <td>kleinwagen</td>\n",
       "      <td>2007</td>\n",
       "      <td>automatik</td>\n",
       "      <td>71</td>\n",
       "      <td>fortwo</td>\n",
       "      <td>70,000km</td>\n",
       "      <td>6</td>\n",
       "      <td>benzin</td>\n",
       "      <td>smart</td>\n",
       "      <td>nein</td>\n",
       "      <td>2016-03-12 00:00:00</td>\n",
       "      <td>0</td>\n",
       "      <td>33729</td>\n",
       "      <td>2016-03-15 03:16:28</td>\n",
       "    </tr>\n",
       "    <tr>\n",
       "      <th>4</th>\n",
       "      <td>2016-04-01 14:38:50</td>\n",
       "      <td>Ford_Focus_1_6_Benzin_T�V_neu_ist_sehr_gepfleg...</td>\n",
       "      <td>privat</td>\n",
       "      <td>Angebot</td>\n",
       "      <td>$1,350</td>\n",
       "      <td>test</td>\n",
       "      <td>kombi</td>\n",
       "      <td>2003</td>\n",
       "      <td>manuell</td>\n",
       "      <td>0</td>\n",
       "      <td>focus</td>\n",
       "      <td>150,000km</td>\n",
       "      <td>7</td>\n",
       "      <td>benzin</td>\n",
       "      <td>ford</td>\n",
       "      <td>nein</td>\n",
       "      <td>2016-04-01 00:00:00</td>\n",
       "      <td>0</td>\n",
       "      <td>39218</td>\n",
       "      <td>2016-04-01 14:38:50</td>\n",
       "    </tr>\n",
       "  </tbody>\n",
       "</table>\n",
       "</div>"
      ],
      "text/plain": [
       "           dateCrawled                                               name  \\\n",
       "0  2016-03-26 17:47:46                   Peugeot_807_160_NAVTECH_ON_BOARD   \n",
       "1  2016-04-04 13:38:56         BMW_740i_4_4_Liter_HAMANN_UMBAU_Mega_Optik   \n",
       "2  2016-03-26 18:57:24                         Volkswagen_Golf_1.6_United   \n",
       "3  2016-03-12 16:58:10  Smart_smart_fortwo_coupe_softouch/F1/Klima/Pan...   \n",
       "4  2016-04-01 14:38:50  Ford_Focus_1_6_Benzin_T�V_neu_ist_sehr_gepfleg...   \n",
       "\n",
       "   seller offerType   price   abtest vehicleType  yearOfRegistration  \\\n",
       "0  privat   Angebot  $5,000  control         bus                2004   \n",
       "1  privat   Angebot  $8,500  control   limousine                1997   \n",
       "2  privat   Angebot  $8,990     test   limousine                2009   \n",
       "3  privat   Angebot  $4,350  control  kleinwagen                2007   \n",
       "4  privat   Angebot  $1,350     test       kombi                2003   \n",
       "\n",
       "     gearbox  powerPS   model   odometer  monthOfRegistration fuelType  \\\n",
       "0    manuell      158  andere  150,000km                    3      lpg   \n",
       "1  automatik      286     7er  150,000km                    6   benzin   \n",
       "2    manuell      102    golf   70,000km                    7   benzin   \n",
       "3  automatik       71  fortwo   70,000km                    6   benzin   \n",
       "4    manuell        0   focus  150,000km                    7   benzin   \n",
       "\n",
       "        brand notRepairedDamage          dateCreated  nrOfPictures  \\\n",
       "0     peugeot              nein  2016-03-26 00:00:00             0   \n",
       "1         bmw              nein  2016-04-04 00:00:00             0   \n",
       "2  volkswagen              nein  2016-03-26 00:00:00             0   \n",
       "3       smart              nein  2016-03-12 00:00:00             0   \n",
       "4        ford              nein  2016-04-01 00:00:00             0   \n",
       "\n",
       "   postalCode             lastSeen  \n",
       "0       79588  2016-04-06 06:45:54  \n",
       "1       71034  2016-04-06 14:45:08  \n",
       "2       35394  2016-04-06 20:15:37  \n",
       "3       33729  2016-03-15 03:16:28  \n",
       "4       39218  2016-04-01 14:38:50  "
      ]
     },
     "execution_count": 4,
     "metadata": {},
     "output_type": "execute_result"
    }
   ],
   "source": [
    "autos.head()"
   ]
  },
  {
   "cell_type": "code",
   "execution_count": 5,
   "id": "c147e681",
   "metadata": {},
   "outputs": [
    {
     "data": {
      "text/plain": [
       "Index(['dateCrawled', 'name', 'seller', 'offerType', 'price', 'abtest',\n",
       "       'vehicleType', 'yearOfRegistration', 'gearbox', 'powerPS', 'model',\n",
       "       'odometer', 'monthOfRegistration', 'fuelType', 'brand',\n",
       "       'notRepairedDamage', 'dateCreated', 'nrOfPictures', 'postalCode',\n",
       "       'lastSeen'],\n",
       "      dtype='object')"
      ]
     },
     "execution_count": 5,
     "metadata": {},
     "output_type": "execute_result"
    }
   ],
   "source": [
    "autos.columns"
   ]
  },
  {
   "cell_type": "markdown",
   "id": "9ead8fc7",
   "metadata": {},
   "source": [
    "**As the column headers are in camelcase instead of Python's preferred snakecase, we will make edits to the headers to conver them to snakecase.**"
   ]
  },
  {
   "cell_type": "code",
   "execution_count": 6,
   "id": "63edb003",
   "metadata": {},
   "outputs": [],
   "source": [
    "autos.rename({\"dateCrawled\": \"date_crawled\",\"offerType\": \"offer_type\",\"abtest\": \"ab_test\",\"vehicleType\": \"vehicle_type\",\n",
    "             \"yearOfRegistration\": \"registration_year\", \"powerPS\": \"power_PS\", \"monthOfRegistration\": \"registration_month\",\n",
    "             \"fuelType\": \"fuel_type\", \"notRepairedDamage\": \"unrepaired_damage\", \"dateCreated\": \"ad_created\",\n",
    "             \"nrOfPictures\": \"no_of_pictures\", \"postalCode\": \"postal_code\", \"lastSeen\": \"last_seen\"}, axis=1, inplace=True)"
   ]
  },
  {
   "cell_type": "code",
   "execution_count": 7,
   "id": "4f11e3f3",
   "metadata": {},
   "outputs": [
    {
     "data": {
      "text/html": [
       "<div>\n",
       "<style scoped>\n",
       "    .dataframe tbody tr th:only-of-type {\n",
       "        vertical-align: middle;\n",
       "    }\n",
       "\n",
       "    .dataframe tbody tr th {\n",
       "        vertical-align: top;\n",
       "    }\n",
       "\n",
       "    .dataframe thead th {\n",
       "        text-align: right;\n",
       "    }\n",
       "</style>\n",
       "<table border=\"1\" class=\"dataframe\">\n",
       "  <thead>\n",
       "    <tr style=\"text-align: right;\">\n",
       "      <th></th>\n",
       "      <th>date_crawled</th>\n",
       "      <th>name</th>\n",
       "      <th>seller</th>\n",
       "      <th>offer_type</th>\n",
       "      <th>price</th>\n",
       "      <th>ab_test</th>\n",
       "      <th>vehicle_type</th>\n",
       "      <th>registration_year</th>\n",
       "      <th>gearbox</th>\n",
       "      <th>power_PS</th>\n",
       "      <th>model</th>\n",
       "      <th>odometer</th>\n",
       "      <th>registration_month</th>\n",
       "      <th>fuel_type</th>\n",
       "      <th>brand</th>\n",
       "      <th>unrepaired_damage</th>\n",
       "      <th>ad_created</th>\n",
       "      <th>no_of_pictures</th>\n",
       "      <th>postal_code</th>\n",
       "      <th>last_seen</th>\n",
       "    </tr>\n",
       "  </thead>\n",
       "  <tbody>\n",
       "    <tr>\n",
       "      <th>0</th>\n",
       "      <td>2016-03-26 17:47:46</td>\n",
       "      <td>Peugeot_807_160_NAVTECH_ON_BOARD</td>\n",
       "      <td>privat</td>\n",
       "      <td>Angebot</td>\n",
       "      <td>$5,000</td>\n",
       "      <td>control</td>\n",
       "      <td>bus</td>\n",
       "      <td>2004</td>\n",
       "      <td>manuell</td>\n",
       "      <td>158</td>\n",
       "      <td>andere</td>\n",
       "      <td>150,000km</td>\n",
       "      <td>3</td>\n",
       "      <td>lpg</td>\n",
       "      <td>peugeot</td>\n",
       "      <td>nein</td>\n",
       "      <td>2016-03-26 00:00:00</td>\n",
       "      <td>0</td>\n",
       "      <td>79588</td>\n",
       "      <td>2016-04-06 06:45:54</td>\n",
       "    </tr>\n",
       "    <tr>\n",
       "      <th>1</th>\n",
       "      <td>2016-04-04 13:38:56</td>\n",
       "      <td>BMW_740i_4_4_Liter_HAMANN_UMBAU_Mega_Optik</td>\n",
       "      <td>privat</td>\n",
       "      <td>Angebot</td>\n",
       "      <td>$8,500</td>\n",
       "      <td>control</td>\n",
       "      <td>limousine</td>\n",
       "      <td>1997</td>\n",
       "      <td>automatik</td>\n",
       "      <td>286</td>\n",
       "      <td>7er</td>\n",
       "      <td>150,000km</td>\n",
       "      <td>6</td>\n",
       "      <td>benzin</td>\n",
       "      <td>bmw</td>\n",
       "      <td>nein</td>\n",
       "      <td>2016-04-04 00:00:00</td>\n",
       "      <td>0</td>\n",
       "      <td>71034</td>\n",
       "      <td>2016-04-06 14:45:08</td>\n",
       "    </tr>\n",
       "    <tr>\n",
       "      <th>2</th>\n",
       "      <td>2016-03-26 18:57:24</td>\n",
       "      <td>Volkswagen_Golf_1.6_United</td>\n",
       "      <td>privat</td>\n",
       "      <td>Angebot</td>\n",
       "      <td>$8,990</td>\n",
       "      <td>test</td>\n",
       "      <td>limousine</td>\n",
       "      <td>2009</td>\n",
       "      <td>manuell</td>\n",
       "      <td>102</td>\n",
       "      <td>golf</td>\n",
       "      <td>70,000km</td>\n",
       "      <td>7</td>\n",
       "      <td>benzin</td>\n",
       "      <td>volkswagen</td>\n",
       "      <td>nein</td>\n",
       "      <td>2016-03-26 00:00:00</td>\n",
       "      <td>0</td>\n",
       "      <td>35394</td>\n",
       "      <td>2016-04-06 20:15:37</td>\n",
       "    </tr>\n",
       "    <tr>\n",
       "      <th>3</th>\n",
       "      <td>2016-03-12 16:58:10</td>\n",
       "      <td>Smart_smart_fortwo_coupe_softouch/F1/Klima/Pan...</td>\n",
       "      <td>privat</td>\n",
       "      <td>Angebot</td>\n",
       "      <td>$4,350</td>\n",
       "      <td>control</td>\n",
       "      <td>kleinwagen</td>\n",
       "      <td>2007</td>\n",
       "      <td>automatik</td>\n",
       "      <td>71</td>\n",
       "      <td>fortwo</td>\n",
       "      <td>70,000km</td>\n",
       "      <td>6</td>\n",
       "      <td>benzin</td>\n",
       "      <td>smart</td>\n",
       "      <td>nein</td>\n",
       "      <td>2016-03-12 00:00:00</td>\n",
       "      <td>0</td>\n",
       "      <td>33729</td>\n",
       "      <td>2016-03-15 03:16:28</td>\n",
       "    </tr>\n",
       "    <tr>\n",
       "      <th>4</th>\n",
       "      <td>2016-04-01 14:38:50</td>\n",
       "      <td>Ford_Focus_1_6_Benzin_T�V_neu_ist_sehr_gepfleg...</td>\n",
       "      <td>privat</td>\n",
       "      <td>Angebot</td>\n",
       "      <td>$1,350</td>\n",
       "      <td>test</td>\n",
       "      <td>kombi</td>\n",
       "      <td>2003</td>\n",
       "      <td>manuell</td>\n",
       "      <td>0</td>\n",
       "      <td>focus</td>\n",
       "      <td>150,000km</td>\n",
       "      <td>7</td>\n",
       "      <td>benzin</td>\n",
       "      <td>ford</td>\n",
       "      <td>nein</td>\n",
       "      <td>2016-04-01 00:00:00</td>\n",
       "      <td>0</td>\n",
       "      <td>39218</td>\n",
       "      <td>2016-04-01 14:38:50</td>\n",
       "    </tr>\n",
       "  </tbody>\n",
       "</table>\n",
       "</div>"
      ],
      "text/plain": [
       "          date_crawled                                               name  \\\n",
       "0  2016-03-26 17:47:46                   Peugeot_807_160_NAVTECH_ON_BOARD   \n",
       "1  2016-04-04 13:38:56         BMW_740i_4_4_Liter_HAMANN_UMBAU_Mega_Optik   \n",
       "2  2016-03-26 18:57:24                         Volkswagen_Golf_1.6_United   \n",
       "3  2016-03-12 16:58:10  Smart_smart_fortwo_coupe_softouch/F1/Klima/Pan...   \n",
       "4  2016-04-01 14:38:50  Ford_Focus_1_6_Benzin_T�V_neu_ist_sehr_gepfleg...   \n",
       "\n",
       "   seller offer_type   price  ab_test vehicle_type  registration_year  \\\n",
       "0  privat    Angebot  $5,000  control          bus               2004   \n",
       "1  privat    Angebot  $8,500  control    limousine               1997   \n",
       "2  privat    Angebot  $8,990     test    limousine               2009   \n",
       "3  privat    Angebot  $4,350  control   kleinwagen               2007   \n",
       "4  privat    Angebot  $1,350     test        kombi               2003   \n",
       "\n",
       "     gearbox  power_PS   model   odometer  registration_month fuel_type  \\\n",
       "0    manuell       158  andere  150,000km                   3       lpg   \n",
       "1  automatik       286     7er  150,000km                   6    benzin   \n",
       "2    manuell       102    golf   70,000km                   7    benzin   \n",
       "3  automatik        71  fortwo   70,000km                   6    benzin   \n",
       "4    manuell         0   focus  150,000km                   7    benzin   \n",
       "\n",
       "        brand unrepaired_damage           ad_created  no_of_pictures  \\\n",
       "0     peugeot              nein  2016-03-26 00:00:00               0   \n",
       "1         bmw              nein  2016-04-04 00:00:00               0   \n",
       "2  volkswagen              nein  2016-03-26 00:00:00               0   \n",
       "3       smart              nein  2016-03-12 00:00:00               0   \n",
       "4        ford              nein  2016-04-01 00:00:00               0   \n",
       "\n",
       "   postal_code            last_seen  \n",
       "0        79588  2016-04-06 06:45:54  \n",
       "1        71034  2016-04-06 14:45:08  \n",
       "2        35394  2016-04-06 20:15:37  \n",
       "3        33729  2016-03-15 03:16:28  \n",
       "4        39218  2016-04-01 14:38:50  "
      ]
     },
     "execution_count": 7,
     "metadata": {},
     "output_type": "execute_result"
    }
   ],
   "source": [
    "autos.head()"
   ]
  },
  {
   "cell_type": "markdown",
   "id": "6537e069",
   "metadata": {},
   "source": [
    "**Now let's do some basic data exploration to determine what other cleaning tasks need to be done. Initially we will look for:**\n",
    "\n",
    "* Text columns where all or almost all values are the same. These can often be dropped as they don't have useful information for analysis.\n",
    "* Examples of numeric data stored as text which can be cleaned and converted."
   ]
  },
  {
   "cell_type": "code",
   "execution_count": 8,
   "id": "bc14242b",
   "metadata": {},
   "outputs": [
    {
     "data": {
      "text/html": [
       "<div>\n",
       "<style scoped>\n",
       "    .dataframe tbody tr th:only-of-type {\n",
       "        vertical-align: middle;\n",
       "    }\n",
       "\n",
       "    .dataframe tbody tr th {\n",
       "        vertical-align: top;\n",
       "    }\n",
       "\n",
       "    .dataframe thead th {\n",
       "        text-align: right;\n",
       "    }\n",
       "</style>\n",
       "<table border=\"1\" class=\"dataframe\">\n",
       "  <thead>\n",
       "    <tr style=\"text-align: right;\">\n",
       "      <th></th>\n",
       "      <th>date_crawled</th>\n",
       "      <th>name</th>\n",
       "      <th>seller</th>\n",
       "      <th>offer_type</th>\n",
       "      <th>price</th>\n",
       "      <th>ab_test</th>\n",
       "      <th>vehicle_type</th>\n",
       "      <th>registration_year</th>\n",
       "      <th>gearbox</th>\n",
       "      <th>power_PS</th>\n",
       "      <th>model</th>\n",
       "      <th>odometer</th>\n",
       "      <th>registration_month</th>\n",
       "      <th>fuel_type</th>\n",
       "      <th>brand</th>\n",
       "      <th>unrepaired_damage</th>\n",
       "      <th>ad_created</th>\n",
       "      <th>no_of_pictures</th>\n",
       "      <th>postal_code</th>\n",
       "      <th>last_seen</th>\n",
       "    </tr>\n",
       "  </thead>\n",
       "  <tbody>\n",
       "    <tr>\n",
       "      <th>count</th>\n",
       "      <td>50000</td>\n",
       "      <td>50000</td>\n",
       "      <td>50000</td>\n",
       "      <td>50000</td>\n",
       "      <td>50000</td>\n",
       "      <td>50000</td>\n",
       "      <td>44905</td>\n",
       "      <td>50000.00000</td>\n",
       "      <td>47320</td>\n",
       "      <td>50000.00000</td>\n",
       "      <td>47242</td>\n",
       "      <td>50000</td>\n",
       "      <td>50000.00000</td>\n",
       "      <td>45518</td>\n",
       "      <td>50000</td>\n",
       "      <td>40171</td>\n",
       "      <td>50000</td>\n",
       "      <td>50000.00000</td>\n",
       "      <td>50000.00000</td>\n",
       "      <td>50000</td>\n",
       "    </tr>\n",
       "    <tr>\n",
       "      <th>unique</th>\n",
       "      <td>48213</td>\n",
       "      <td>38754</td>\n",
       "      <td>2</td>\n",
       "      <td>2</td>\n",
       "      <td>2357</td>\n",
       "      <td>2</td>\n",
       "      <td>8</td>\n",
       "      <td>NaN</td>\n",
       "      <td>2</td>\n",
       "      <td>NaN</td>\n",
       "      <td>245</td>\n",
       "      <td>13</td>\n",
       "      <td>NaN</td>\n",
       "      <td>7</td>\n",
       "      <td>40</td>\n",
       "      <td>2</td>\n",
       "      <td>76</td>\n",
       "      <td>NaN</td>\n",
       "      <td>NaN</td>\n",
       "      <td>39481</td>\n",
       "    </tr>\n",
       "    <tr>\n",
       "      <th>top</th>\n",
       "      <td>2016-03-12 16:06:22</td>\n",
       "      <td>Ford_Fiesta</td>\n",
       "      <td>privat</td>\n",
       "      <td>Angebot</td>\n",
       "      <td>$0</td>\n",
       "      <td>test</td>\n",
       "      <td>limousine</td>\n",
       "      <td>NaN</td>\n",
       "      <td>manuell</td>\n",
       "      <td>NaN</td>\n",
       "      <td>golf</td>\n",
       "      <td>150,000km</td>\n",
       "      <td>NaN</td>\n",
       "      <td>benzin</td>\n",
       "      <td>volkswagen</td>\n",
       "      <td>nein</td>\n",
       "      <td>2016-04-03 00:00:00</td>\n",
       "      <td>NaN</td>\n",
       "      <td>NaN</td>\n",
       "      <td>2016-04-07 06:17:27</td>\n",
       "    </tr>\n",
       "    <tr>\n",
       "      <th>freq</th>\n",
       "      <td>3</td>\n",
       "      <td>78</td>\n",
       "      <td>49999</td>\n",
       "      <td>49999</td>\n",
       "      <td>1421</td>\n",
       "      <td>25756</td>\n",
       "      <td>12859</td>\n",
       "      <td>NaN</td>\n",
       "      <td>36993</td>\n",
       "      <td>NaN</td>\n",
       "      <td>4024</td>\n",
       "      <td>32424</td>\n",
       "      <td>NaN</td>\n",
       "      <td>30107</td>\n",
       "      <td>10687</td>\n",
       "      <td>35232</td>\n",
       "      <td>1946</td>\n",
       "      <td>NaN</td>\n",
       "      <td>NaN</td>\n",
       "      <td>8</td>\n",
       "    </tr>\n",
       "    <tr>\n",
       "      <th>mean</th>\n",
       "      <td>NaN</td>\n",
       "      <td>NaN</td>\n",
       "      <td>NaN</td>\n",
       "      <td>NaN</td>\n",
       "      <td>NaN</td>\n",
       "      <td>NaN</td>\n",
       "      <td>NaN</td>\n",
       "      <td>2005.07328</td>\n",
       "      <td>NaN</td>\n",
       "      <td>116.35592</td>\n",
       "      <td>NaN</td>\n",
       "      <td>NaN</td>\n",
       "      <td>5.72336</td>\n",
       "      <td>NaN</td>\n",
       "      <td>NaN</td>\n",
       "      <td>NaN</td>\n",
       "      <td>NaN</td>\n",
       "      <td>0.00000</td>\n",
       "      <td>50813.62730</td>\n",
       "      <td>NaN</td>\n",
       "    </tr>\n",
       "    <tr>\n",
       "      <th>std</th>\n",
       "      <td>NaN</td>\n",
       "      <td>NaN</td>\n",
       "      <td>NaN</td>\n",
       "      <td>NaN</td>\n",
       "      <td>NaN</td>\n",
       "      <td>NaN</td>\n",
       "      <td>NaN</td>\n",
       "      <td>105.71281</td>\n",
       "      <td>NaN</td>\n",
       "      <td>209.21663</td>\n",
       "      <td>NaN</td>\n",
       "      <td>NaN</td>\n",
       "      <td>3.71198</td>\n",
       "      <td>NaN</td>\n",
       "      <td>NaN</td>\n",
       "      <td>NaN</td>\n",
       "      <td>NaN</td>\n",
       "      <td>0.00000</td>\n",
       "      <td>25779.74796</td>\n",
       "      <td>NaN</td>\n",
       "    </tr>\n",
       "    <tr>\n",
       "      <th>min</th>\n",
       "      <td>NaN</td>\n",
       "      <td>NaN</td>\n",
       "      <td>NaN</td>\n",
       "      <td>NaN</td>\n",
       "      <td>NaN</td>\n",
       "      <td>NaN</td>\n",
       "      <td>NaN</td>\n",
       "      <td>1000.00000</td>\n",
       "      <td>NaN</td>\n",
       "      <td>0.00000</td>\n",
       "      <td>NaN</td>\n",
       "      <td>NaN</td>\n",
       "      <td>0.00000</td>\n",
       "      <td>NaN</td>\n",
       "      <td>NaN</td>\n",
       "      <td>NaN</td>\n",
       "      <td>NaN</td>\n",
       "      <td>0.00000</td>\n",
       "      <td>1067.00000</td>\n",
       "      <td>NaN</td>\n",
       "    </tr>\n",
       "    <tr>\n",
       "      <th>25%</th>\n",
       "      <td>NaN</td>\n",
       "      <td>NaN</td>\n",
       "      <td>NaN</td>\n",
       "      <td>NaN</td>\n",
       "      <td>NaN</td>\n",
       "      <td>NaN</td>\n",
       "      <td>NaN</td>\n",
       "      <td>1999.00000</td>\n",
       "      <td>NaN</td>\n",
       "      <td>70.00000</td>\n",
       "      <td>NaN</td>\n",
       "      <td>NaN</td>\n",
       "      <td>3.00000</td>\n",
       "      <td>NaN</td>\n",
       "      <td>NaN</td>\n",
       "      <td>NaN</td>\n",
       "      <td>NaN</td>\n",
       "      <td>0.00000</td>\n",
       "      <td>30451.00000</td>\n",
       "      <td>NaN</td>\n",
       "    </tr>\n",
       "    <tr>\n",
       "      <th>50%</th>\n",
       "      <td>NaN</td>\n",
       "      <td>NaN</td>\n",
       "      <td>NaN</td>\n",
       "      <td>NaN</td>\n",
       "      <td>NaN</td>\n",
       "      <td>NaN</td>\n",
       "      <td>NaN</td>\n",
       "      <td>2003.00000</td>\n",
       "      <td>NaN</td>\n",
       "      <td>105.00000</td>\n",
       "      <td>NaN</td>\n",
       "      <td>NaN</td>\n",
       "      <td>6.00000</td>\n",
       "      <td>NaN</td>\n",
       "      <td>NaN</td>\n",
       "      <td>NaN</td>\n",
       "      <td>NaN</td>\n",
       "      <td>0.00000</td>\n",
       "      <td>49577.00000</td>\n",
       "      <td>NaN</td>\n",
       "    </tr>\n",
       "    <tr>\n",
       "      <th>75%</th>\n",
       "      <td>NaN</td>\n",
       "      <td>NaN</td>\n",
       "      <td>NaN</td>\n",
       "      <td>NaN</td>\n",
       "      <td>NaN</td>\n",
       "      <td>NaN</td>\n",
       "      <td>NaN</td>\n",
       "      <td>2008.00000</td>\n",
       "      <td>NaN</td>\n",
       "      <td>150.00000</td>\n",
       "      <td>NaN</td>\n",
       "      <td>NaN</td>\n",
       "      <td>9.00000</td>\n",
       "      <td>NaN</td>\n",
       "      <td>NaN</td>\n",
       "      <td>NaN</td>\n",
       "      <td>NaN</td>\n",
       "      <td>0.00000</td>\n",
       "      <td>71540.00000</td>\n",
       "      <td>NaN</td>\n",
       "    </tr>\n",
       "    <tr>\n",
       "      <th>max</th>\n",
       "      <td>NaN</td>\n",
       "      <td>NaN</td>\n",
       "      <td>NaN</td>\n",
       "      <td>NaN</td>\n",
       "      <td>NaN</td>\n",
       "      <td>NaN</td>\n",
       "      <td>NaN</td>\n",
       "      <td>9999.00000</td>\n",
       "      <td>NaN</td>\n",
       "      <td>17700.00000</td>\n",
       "      <td>NaN</td>\n",
       "      <td>NaN</td>\n",
       "      <td>12.00000</td>\n",
       "      <td>NaN</td>\n",
       "      <td>NaN</td>\n",
       "      <td>NaN</td>\n",
       "      <td>NaN</td>\n",
       "      <td>0.00000</td>\n",
       "      <td>99998.00000</td>\n",
       "      <td>NaN</td>\n",
       "    </tr>\n",
       "  </tbody>\n",
       "</table>\n",
       "</div>"
      ],
      "text/plain": [
       "               date_crawled         name  seller offer_type  price ab_test  \\\n",
       "count                 50000        50000   50000      50000  50000   50000   \n",
       "unique                48213        38754       2          2   2357       2   \n",
       "top     2016-03-12 16:06:22  Ford_Fiesta  privat    Angebot     $0    test   \n",
       "freq                      3           78   49999      49999   1421   25756   \n",
       "mean                    NaN          NaN     NaN        NaN    NaN     NaN   \n",
       "std                     NaN          NaN     NaN        NaN    NaN     NaN   \n",
       "min                     NaN          NaN     NaN        NaN    NaN     NaN   \n",
       "25%                     NaN          NaN     NaN        NaN    NaN     NaN   \n",
       "50%                     NaN          NaN     NaN        NaN    NaN     NaN   \n",
       "75%                     NaN          NaN     NaN        NaN    NaN     NaN   \n",
       "max                     NaN          NaN     NaN        NaN    NaN     NaN   \n",
       "\n",
       "       vehicle_type  registration_year  gearbox    power_PS  model   odometer  \\\n",
       "count         44905        50000.00000    47320 50000.00000  47242      50000   \n",
       "unique            8                NaN        2         NaN    245         13   \n",
       "top       limousine                NaN  manuell         NaN   golf  150,000km   \n",
       "freq          12859                NaN    36993         NaN   4024      32424   \n",
       "mean            NaN         2005.07328      NaN   116.35592    NaN        NaN   \n",
       "std             NaN          105.71281      NaN   209.21663    NaN        NaN   \n",
       "min             NaN         1000.00000      NaN     0.00000    NaN        NaN   \n",
       "25%             NaN         1999.00000      NaN    70.00000    NaN        NaN   \n",
       "50%             NaN         2003.00000      NaN   105.00000    NaN        NaN   \n",
       "75%             NaN         2008.00000      NaN   150.00000    NaN        NaN   \n",
       "max             NaN         9999.00000      NaN 17700.00000    NaN        NaN   \n",
       "\n",
       "        registration_month fuel_type       brand unrepaired_damage  \\\n",
       "count          50000.00000     45518       50000             40171   \n",
       "unique                 NaN         7          40                 2   \n",
       "top                    NaN    benzin  volkswagen              nein   \n",
       "freq                   NaN     30107       10687             35232   \n",
       "mean               5.72336       NaN         NaN               NaN   \n",
       "std                3.71198       NaN         NaN               NaN   \n",
       "min                0.00000       NaN         NaN               NaN   \n",
       "25%                3.00000       NaN         NaN               NaN   \n",
       "50%                6.00000       NaN         NaN               NaN   \n",
       "75%                9.00000       NaN         NaN               NaN   \n",
       "max               12.00000       NaN         NaN               NaN   \n",
       "\n",
       "                 ad_created  no_of_pictures  postal_code            last_seen  \n",
       "count                 50000     50000.00000  50000.00000                50000  \n",
       "unique                   76             NaN          NaN                39481  \n",
       "top     2016-04-03 00:00:00             NaN          NaN  2016-04-07 06:17:27  \n",
       "freq                   1946             NaN          NaN                    8  \n",
       "mean                    NaN         0.00000  50813.62730                  NaN  \n",
       "std                     NaN         0.00000  25779.74796                  NaN  \n",
       "min                     NaN         0.00000   1067.00000                  NaN  \n",
       "25%                     NaN         0.00000  30451.00000                  NaN  \n",
       "50%                     NaN         0.00000  49577.00000                  NaN  \n",
       "75%                     NaN         0.00000  71540.00000                  NaN  \n",
       "max                     NaN         0.00000  99998.00000                  NaN  "
      ]
     },
     "execution_count": 8,
     "metadata": {},
     "output_type": "execute_result"
    }
   ],
   "source": [
    "autos.describe(include='all')"
   ]
  },
  {
   "cell_type": "code",
   "execution_count": 9,
   "id": "6b4b25d1",
   "metadata": {},
   "outputs": [
    {
     "data": {
      "text/plain": [
       "array([0], dtype=int64)"
      ]
     },
     "execution_count": 9,
     "metadata": {},
     "output_type": "execute_result"
    }
   ],
   "source": [
    "autos[\"no_of_pictures\"].unique()"
   ]
  },
  {
   "cell_type": "markdown",
   "id": "766aec00",
   "metadata": {},
   "source": [
    "**The following are the observations:**\n",
    "\n",
    "* `no_of_pictures` has only one value of `0.0`, hence there is no meaningful data and can be dropped.\n",
    "* `seller` has only one value of `gewerblich` out of the 50,000 entries.\n",
    "* `offer_type` has only one value of `Gesuch` out of the 50,000 entries.\n",
    "* `price` and `odometer` are stored as string and should be converted to float/integer."
   ]
  },
  {
   "cell_type": "code",
   "execution_count": 10,
   "id": "494ccaaf",
   "metadata": {},
   "outputs": [
    {
     "data": {
      "text/plain": [
       "$0          1421\n",
       "$500         781\n",
       "$1,500       734\n",
       "$2,500       643\n",
       "$1,000       639\n",
       "            ... \n",
       "$12,888        1\n",
       "$1,221         1\n",
       "$4,125         1\n",
       "$5,485         1\n",
       "$194,000       1\n",
       "Name: price, Length: 2357, dtype: int64"
      ]
     },
     "execution_count": 10,
     "metadata": {},
     "output_type": "execute_result"
    }
   ],
   "source": [
    "autos[\"price\"].value_counts()"
   ]
  },
  {
   "cell_type": "markdown",
   "id": "6f29e111",
   "metadata": {},
   "source": [
    "**We will remove non-numeric characters from `price` and convert it to integer type.**"
   ]
  },
  {
   "cell_type": "code",
   "execution_count": 11,
   "id": "70a08d07",
   "metadata": {},
   "outputs": [],
   "source": [
    "autos[\"price\"] = autos[\"price\"].str.replace(\"$\",\"\",regex=True).replace(\",\",\"\",regex=True)"
   ]
  },
  {
   "cell_type": "code",
   "execution_count": 12,
   "id": "b7d60684",
   "metadata": {},
   "outputs": [],
   "source": [
    "autos[\"price\"] = autos[\"price\"].astype(int)"
   ]
  },
  {
   "cell_type": "code",
   "execution_count": 13,
   "id": "35c667ab",
   "metadata": {},
   "outputs": [
    {
     "data": {
      "text/plain": [
       "150,000km    32424\n",
       "125,000km     5170\n",
       "100,000km     2169\n",
       "90,000km      1757\n",
       "80,000km      1436\n",
       "70,000km      1230\n",
       "60,000km      1164\n",
       "50,000km      1027\n",
       "5,000km        967\n",
       "40,000km       819\n",
       "30,000km       789\n",
       "20,000km       784\n",
       "10,000km       264\n",
       "Name: odometer, dtype: int64"
      ]
     },
     "execution_count": 13,
     "metadata": {},
     "output_type": "execute_result"
    }
   ],
   "source": [
    "autos[\"odometer\"].value_counts()"
   ]
  },
  {
   "cell_type": "markdown",
   "id": "21994dc3",
   "metadata": {},
   "source": [
    "**We will remove non-numeric characters from `odometer` and convert it to integer type.**"
   ]
  },
  {
   "cell_type": "code",
   "execution_count": 14,
   "id": "8de6cb71",
   "metadata": {},
   "outputs": [],
   "source": [
    "autos[\"odometer\"] = autos[\"odometer\"].str.replace(\"km\",\"\",regex=True).replace(\",\",\"\",regex=True)"
   ]
  },
  {
   "cell_type": "code",
   "execution_count": 15,
   "id": "a6e6e566",
   "metadata": {},
   "outputs": [],
   "source": [
    "autos[\"odometer\"] = autos[\"odometer\"].astype(int)"
   ]
  },
  {
   "cell_type": "code",
   "execution_count": 16,
   "id": "2ee5f864",
   "metadata": {},
   "outputs": [],
   "source": [
    "autos.rename({\"odometer\":\"odometer_km\"}, axis=1, inplace=True)"
   ]
  },
  {
   "cell_type": "markdown",
   "id": "40d04a62",
   "metadata": {},
   "source": [
    "**Let's continue exploring the data, specifically looking for data that doesn't look right. We'll start by analysing the odometer_km and price columns. Here's the steps we'll take:**\n",
    "* Analyse the columns using minimum and maximum values and look for any values that look unrealistically high or low (outliers) that we might want to remove."
   ]
  },
  {
   "cell_type": "markdown",
   "id": "d60821fe",
   "metadata": {},
   "source": [
    "**We will explore `price` first.**"
   ]
  },
  {
   "cell_type": "code",
   "execution_count": 17,
   "id": "91b29190",
   "metadata": {},
   "outputs": [
    {
     "data": {
      "text/plain": [
       "count      50000.00000\n",
       "mean        9840.04376\n",
       "std       481104.38050\n",
       "min            0.00000\n",
       "25%         1100.00000\n",
       "50%         2950.00000\n",
       "75%         7200.00000\n",
       "max     99999999.00000\n",
       "Name: price, dtype: float64"
      ]
     },
     "execution_count": 17,
     "metadata": {},
     "output_type": "execute_result"
    }
   ],
   "source": [
    "autos[\"price\"].describe()"
   ]
  },
  {
   "cell_type": "code",
   "execution_count": 18,
   "id": "9afa02b8",
   "metadata": {},
   "outputs": [
    {
     "data": {
      "text/plain": [
       "99999999    1\n",
       "27322222    1\n",
       "12345678    3\n",
       "11111111    2\n",
       "10000000    1\n",
       "3890000     1\n",
       "1300000     1\n",
       "1234566     1\n",
       "999999      2\n",
       "999990      1\n",
       "350000      1\n",
       "345000      1\n",
       "299000      1\n",
       "295000      1\n",
       "265000      1\n",
       "259000      1\n",
       "250000      1\n",
       "220000      1\n",
       "198000      1\n",
       "197000      1\n",
       "Name: price, dtype: int64"
      ]
     },
     "execution_count": 18,
     "metadata": {},
     "output_type": "execute_result"
    }
   ],
   "source": [
    "autos[\"price\"].value_counts().sort_index(ascending=False).head(20)"
   ]
  },
  {
   "cell_type": "code",
   "execution_count": 19,
   "id": "bd299830",
   "metadata": {},
   "outputs": [
    {
     "data": {
      "text/plain": [
       "0     1421\n",
       "1      156\n",
       "2        3\n",
       "3        1\n",
       "5        2\n",
       "8        1\n",
       "9        1\n",
       "10       7\n",
       "11       2\n",
       "12       3\n",
       "13       2\n",
       "14       1\n",
       "15       2\n",
       "17       3\n",
       "18       1\n",
       "20       4\n",
       "25       5\n",
       "29       1\n",
       "30       7\n",
       "35       1\n",
       "Name: price, dtype: int64"
      ]
     },
     "execution_count": 19,
     "metadata": {},
     "output_type": "execute_result"
    }
   ],
   "source": [
    "autos[\"price\"].value_counts().sort_index(ascending=True).head(20)"
   ]
  },
  {
   "cell_type": "markdown",
   "id": "f0ff3d12",
   "metadata": {},
   "source": [
    "**We can make the following observations:**\n",
    "* Mean is around `$10,000` so we can assume that that should be the typical pricing for cars.\n",
    "* For highest few prices, we can see that it increases steadily to around `$350,000`. We will remove values that are higher than this.\n",
    "* For lowest few prices, we notice a signifcant number of starting price at `$0`. This is not quite possible as if there should be a starting price if not the listing would be sold for free. We will remove values that are equal to `$0`."
   ]
  },
  {
   "cell_type": "code",
   "execution_count": 20,
   "id": "c3c7e810",
   "metadata": {},
   "outputs": [],
   "source": [
    "autos = autos[(autos[\"price\"] < 351000) & (autos[\"price\"] > 0)]"
   ]
  },
  {
   "cell_type": "code",
   "execution_count": 21,
   "id": "6e9ce0c7",
   "metadata": {},
   "outputs": [
    {
     "data": {
      "text/plain": [
       "count    48565.00000\n",
       "mean      5888.93559\n",
       "std       9059.85475\n",
       "min          1.00000\n",
       "25%       1200.00000\n",
       "50%       3000.00000\n",
       "75%       7490.00000\n",
       "max     350000.00000\n",
       "Name: price, dtype: float64"
      ]
     },
     "execution_count": 21,
     "metadata": {},
     "output_type": "execute_result"
    }
   ],
   "source": [
    "autos[\"price\"].describe()"
   ]
  },
  {
   "cell_type": "markdown",
   "id": "e059cd49",
   "metadata": {},
   "source": [
    "**Next we will explore `odometer_km`.**"
   ]
  },
  {
   "cell_type": "code",
   "execution_count": 22,
   "id": "1248d567",
   "metadata": {},
   "outputs": [
    {
     "data": {
      "text/plain": [
       "count    48565.00000\n",
       "mean    125770.10193\n",
       "std      39788.63680\n",
       "min       5000.00000\n",
       "25%     125000.00000\n",
       "50%     150000.00000\n",
       "75%     150000.00000\n",
       "max     150000.00000\n",
       "Name: odometer_km, dtype: float64"
      ]
     },
     "execution_count": 22,
     "metadata": {},
     "output_type": "execute_result"
    }
   ],
   "source": [
    "autos[\"odometer_km\"].describe()"
   ]
  },
  {
   "cell_type": "code",
   "execution_count": 23,
   "id": "31535cc9",
   "metadata": {},
   "outputs": [
    {
     "data": {
      "text/plain": [
       "150000    31414\n",
       "125000     5057\n",
       "100000     2115\n",
       "90000      1734\n",
       "80000      1415\n",
       "70000      1217\n",
       "60000      1155\n",
       "50000      1012\n",
       "5000        836\n",
       "40000       815\n",
       "30000       780\n",
       "20000       762\n",
       "10000       253\n",
       "Name: odometer_km, dtype: int64"
      ]
     },
     "execution_count": 23,
     "metadata": {},
     "output_type": "execute_result"
    }
   ],
   "source": [
    "autos[\"odometer_km\"].value_counts()"
   ]
  },
  {
   "cell_type": "markdown",
   "id": "ea2f7d13",
   "metadata": {},
   "source": [
    "**We can make the following observations:**\n",
    "* There are no noticeable abnormal data.\n",
    "* Most of the cars are of higher mileage, which makes sense for a used car listing on eBay."
   ]
  },
  {
   "cell_type": "markdown",
   "id": "1e25bed3",
   "metadata": {},
   "source": [
    "**Let's now move on to the date columns and understand the date range the data covers.**\n",
    "\n",
    "There are 5 columns that should represent date values. Some of these columns were created by the crawler, some came from the website itself. We can differentiate by referring to the data dictionary:\n",
    "* `date_crawled`: added by the crawler\n",
    "* `last_seen`: added by the crawler\n",
    "* `ad_created`: from the website\n",
    "* `registration_month`: from the website\n",
    "* `registration_year`: from the website"
   ]
  },
  {
   "cell_type": "code",
   "execution_count": 24,
   "id": "5d88ab1b",
   "metadata": {},
   "outputs": [
    {
     "data": {
      "text/html": [
       "<div>\n",
       "<style scoped>\n",
       "    .dataframe tbody tr th:only-of-type {\n",
       "        vertical-align: middle;\n",
       "    }\n",
       "\n",
       "    .dataframe tbody tr th {\n",
       "        vertical-align: top;\n",
       "    }\n",
       "\n",
       "    .dataframe thead th {\n",
       "        text-align: right;\n",
       "    }\n",
       "</style>\n",
       "<table border=\"1\" class=\"dataframe\">\n",
       "  <thead>\n",
       "    <tr style=\"text-align: right;\">\n",
       "      <th></th>\n",
       "      <th>date_crawled</th>\n",
       "      <th>ad_created</th>\n",
       "      <th>last_seen</th>\n",
       "    </tr>\n",
       "  </thead>\n",
       "  <tbody>\n",
       "    <tr>\n",
       "      <th>0</th>\n",
       "      <td>2016-03-26 17:47:46</td>\n",
       "      <td>2016-03-26 00:00:00</td>\n",
       "      <td>2016-04-06 06:45:54</td>\n",
       "    </tr>\n",
       "    <tr>\n",
       "      <th>1</th>\n",
       "      <td>2016-04-04 13:38:56</td>\n",
       "      <td>2016-04-04 00:00:00</td>\n",
       "      <td>2016-04-06 14:45:08</td>\n",
       "    </tr>\n",
       "    <tr>\n",
       "      <th>2</th>\n",
       "      <td>2016-03-26 18:57:24</td>\n",
       "      <td>2016-03-26 00:00:00</td>\n",
       "      <td>2016-04-06 20:15:37</td>\n",
       "    </tr>\n",
       "    <tr>\n",
       "      <th>3</th>\n",
       "      <td>2016-03-12 16:58:10</td>\n",
       "      <td>2016-03-12 00:00:00</td>\n",
       "      <td>2016-03-15 03:16:28</td>\n",
       "    </tr>\n",
       "    <tr>\n",
       "      <th>4</th>\n",
       "      <td>2016-04-01 14:38:50</td>\n",
       "      <td>2016-04-01 00:00:00</td>\n",
       "      <td>2016-04-01 14:38:50</td>\n",
       "    </tr>\n",
       "  </tbody>\n",
       "</table>\n",
       "</div>"
      ],
      "text/plain": [
       "          date_crawled           ad_created            last_seen\n",
       "0  2016-03-26 17:47:46  2016-03-26 00:00:00  2016-04-06 06:45:54\n",
       "1  2016-04-04 13:38:56  2016-04-04 00:00:00  2016-04-06 14:45:08\n",
       "2  2016-03-26 18:57:24  2016-03-26 00:00:00  2016-04-06 20:15:37\n",
       "3  2016-03-12 16:58:10  2016-03-12 00:00:00  2016-03-15 03:16:28\n",
       "4  2016-04-01 14:38:50  2016-04-01 00:00:00  2016-04-01 14:38:50"
      ]
     },
     "execution_count": 24,
     "metadata": {},
     "output_type": "execute_result"
    }
   ],
   "source": [
    "autos[[\"date_crawled\",\"ad_created\",\"last_seen\"]][0:5]"
   ]
  },
  {
   "cell_type": "markdown",
   "id": "8824e42d",
   "metadata": {},
   "source": [
    "You'll notice that the first 10 characters represent the day (e.g. 2016-03-26).\n",
    "\n",
    "To understand the date range, we can extract just the date values, use `Series.value_counts()` to generate a distribution, and then sort by the index."
   ]
  },
  {
   "cell_type": "code",
   "execution_count": 25,
   "id": "0e051a85",
   "metadata": {},
   "outputs": [
    {
     "name": "stdout",
     "output_type": "stream",
     "text": [
      "date_crawled: When this ad was first crawled. All field-values are taken from this date.\n"
     ]
    },
    {
     "data": {
      "text/plain": [
       "2016-03-05   0.02533\n",
       "2016-03-06   0.01404\n",
       "2016-03-07   0.03601\n",
       "2016-03-08   0.03330\n",
       "2016-03-09   0.03309\n",
       "2016-03-10   0.03218\n",
       "2016-03-11   0.03257\n",
       "2016-03-12   0.03692\n",
       "2016-03-13   0.01567\n",
       "2016-03-14   0.03655\n",
       "2016-03-15   0.03428\n",
       "2016-03-16   0.02961\n",
       "2016-03-17   0.03163\n",
       "2016-03-18   0.01291\n",
       "2016-03-19   0.03478\n",
       "2016-03-20   0.03789\n",
       "2016-03-21   0.03737\n",
       "2016-03-22   0.03299\n",
       "2016-03-23   0.03222\n",
       "2016-03-24   0.02934\n",
       "2016-03-25   0.03161\n",
       "2016-03-26   0.03220\n",
       "2016-03-27   0.03109\n",
       "2016-03-28   0.03486\n",
       "2016-03-29   0.03410\n",
       "2016-03-30   0.03369\n",
       "2016-03-31   0.03183\n",
       "2016-04-01   0.03369\n",
       "2016-04-02   0.03548\n",
       "2016-04-03   0.03861\n",
       "2016-04-04   0.03649\n",
       "2016-04-05   0.01310\n",
       "2016-04-06   0.00317\n",
       "2016-04-07   0.00140\n",
       "Name: date_crawled, dtype: float64"
      ]
     },
     "execution_count": 25,
     "metadata": {},
     "output_type": "execute_result"
    }
   ],
   "source": [
    "print('date_crawled: When this ad was first crawled. All field-values are taken from this date.')\n",
    "autos[\"date_crawled\"].str[:10].value_counts(normalize=True, dropna=False).sort_index(ascending=True)"
   ]
  },
  {
   "cell_type": "markdown",
   "id": "396b5c20",
   "metadata": {},
   "source": [
    "We note from above that the data was crawled over a period of around one month from Mar to Apr 2016."
   ]
  },
  {
   "cell_type": "code",
   "execution_count": 26,
   "id": "2c725c39",
   "metadata": {},
   "outputs": [
    {
     "name": "stdout",
     "output_type": "stream",
     "text": [
      "ad_created: The date on which the eBay listing was created.\n"
     ]
    },
    {
     "data": {
      "text/plain": [
       "2016-04-07   0.00126\n",
       "2016-04-06   0.00325\n",
       "2016-04-05   0.01182\n",
       "2016-04-04   0.03686\n",
       "2016-04-03   0.03886\n",
       "2016-04-02   0.03515\n",
       "2016-04-01   0.03369\n",
       "2016-03-31   0.03187\n",
       "2016-03-30   0.03350\n",
       "2016-03-29   0.03404\n",
       "2016-03-28   0.03498\n",
       "2016-03-27   0.03099\n",
       "2016-03-26   0.03227\n",
       "2016-03-25   0.03175\n",
       "2016-03-24   0.02928\n",
       "2016-03-23   0.03206\n",
       "2016-03-22   0.03280\n",
       "2016-03-21   0.03758\n",
       "2016-03-20   0.03795\n",
       "2016-03-19   0.03369\n",
       "2016-03-18   0.01359\n",
       "2016-03-17   0.03128\n",
       "2016-03-16   0.03012\n",
       "2016-03-15   0.03402\n",
       "2016-03-14   0.03519\n",
       "2016-03-13   0.01701\n",
       "2016-03-12   0.03675\n",
       "2016-03-11   0.03290\n",
       "2016-03-10   0.03190\n",
       "2016-03-09   0.03315\n",
       "2016-03-08   0.03332\n",
       "2016-03-07   0.03474\n",
       "2016-03-06   0.01532\n",
       "2016-03-05   0.02290\n",
       "2016-03-04   0.00148\n",
       "2016-03-03   0.00086\n",
       "2016-03-02   0.00010\n",
       "2016-03-01   0.00010\n",
       "2016-02-29   0.00016\n",
       "2016-02-28   0.00021\n",
       "2016-02-27   0.00012\n",
       "2016-02-26   0.00004\n",
       "2016-02-25   0.00006\n",
       "2016-02-24   0.00004\n",
       "2016-02-23   0.00008\n",
       "2016-02-22   0.00002\n",
       "2016-02-21   0.00006\n",
       "2016-02-20   0.00004\n",
       "2016-02-19   0.00006\n",
       "2016-02-18   0.00004\n",
       "Name: ad_created, dtype: float64"
      ]
     },
     "execution_count": 26,
     "metadata": {},
     "output_type": "execute_result"
    }
   ],
   "source": [
    "print('ad_created: The date on which the eBay listing was created.')\n",
    "autos[\"ad_created\"].str[:10].value_counts(normalize=True, dropna=False).sort_index(ascending=False).head(50)"
   ]
  },
  {
   "cell_type": "markdown",
   "id": "84ae46f5",
   "metadata": {},
   "source": [
    "Earlier, we noted that the crawling started on 5 Mar 2016. For listings that were listed earlier, they were either sold or removed."
   ]
  },
  {
   "cell_type": "code",
   "execution_count": 27,
   "id": "9ed5600a",
   "metadata": {},
   "outputs": [
    {
     "name": "stdout",
     "output_type": "stream",
     "text": [
      "last_seen: When the crawler saw this ad last online.\n"
     ]
    },
    {
     "data": {
      "text/plain": [
       "2016-03-05   0.00107\n",
       "2016-03-06   0.00432\n",
       "2016-03-07   0.00539\n",
       "2016-03-08   0.00741\n",
       "2016-03-09   0.00960\n",
       "2016-03-10   0.01067\n",
       "2016-03-11   0.01238\n",
       "2016-03-12   0.02378\n",
       "2016-03-13   0.00890\n",
       "2016-03-14   0.01260\n",
       "2016-03-15   0.01588\n",
       "2016-03-16   0.01645\n",
       "2016-03-17   0.02809\n",
       "2016-03-18   0.00735\n",
       "2016-03-19   0.01583\n",
       "2016-03-20   0.02065\n",
       "2016-03-21   0.02063\n",
       "2016-03-22   0.02137\n",
       "2016-03-23   0.01853\n",
       "2016-03-24   0.01977\n",
       "2016-03-25   0.01921\n",
       "2016-03-26   0.01680\n",
       "2016-03-27   0.01565\n",
       "2016-03-28   0.02086\n",
       "2016-03-29   0.02234\n",
       "2016-03-30   0.02477\n",
       "2016-03-31   0.02378\n",
       "2016-04-01   0.02279\n",
       "2016-04-02   0.02492\n",
       "2016-04-03   0.02520\n",
       "2016-04-04   0.02448\n",
       "2016-04-05   0.12476\n",
       "2016-04-06   0.22181\n",
       "2016-04-07   0.13195\n",
       "Name: last_seen, dtype: float64"
      ]
     },
     "execution_count": 27,
     "metadata": {},
     "output_type": "execute_result"
    }
   ],
   "source": [
    "print('last_seen: When the crawler saw this ad last online.')\n",
    "autos[\"last_seen\"].str[:10].value_counts(normalize=True, dropna=False).sort_index(ascending=True)"
   ]
  },
  {
   "cell_type": "markdown",
   "id": "6ce6f1d0",
   "metadata": {},
   "source": [
    "The crawler recorded the date it last saw any listing, which allows us to determine on what day a listing was removed, presumably because the car was sold.\n",
    "\n",
    "The last three days contain a disproportionate amount of 'last seen' values. Given that these are 6-10x the values from the previous days, it's unlikely that there was a massive spike in sales, and more likely that these values are to do with the crawling period ending and don't indicate car sales."
   ]
  },
  {
   "cell_type": "code",
   "execution_count": 28,
   "id": "905baeba",
   "metadata": {},
   "outputs": [],
   "source": [
    "autos[\"registration_year\"].describe()\n",
    "original_regyear_count = autos[\"registration_year\"].describe()[\"count\"]"
   ]
  },
  {
   "cell_type": "code",
   "execution_count": 29,
   "id": "543fc2c0",
   "metadata": {},
   "outputs": [
    {
     "data": {
      "text/plain": [
       "9999       3\n",
       "9000       1\n",
       "8888       1\n",
       "6200       1\n",
       "5911       1\n",
       "5000       4\n",
       "4800       1\n",
       "4500       1\n",
       "4100       1\n",
       "2800       1\n",
       "2019       2\n",
       "2018     470\n",
       "2017    1392\n",
       "2016    1220\n",
       "2015     392\n",
       "2014     663\n",
       "2013     803\n",
       "2012    1310\n",
       "2011    1623\n",
       "2010    1589\n",
       "Name: registration_year, dtype: int64"
      ]
     },
     "execution_count": 29,
     "metadata": {},
     "output_type": "execute_result"
    }
   ],
   "source": [
    "autos[\"registration_year\"].value_counts().sort_index(ascending=False).head(20)"
   ]
  },
  {
   "cell_type": "code",
   "execution_count": 30,
   "id": "05a2f42c",
   "metadata": {},
   "outputs": [
    {
     "data": {
      "text/plain": [
       "1000    1\n",
       "1001    1\n",
       "1111    1\n",
       "1800    2\n",
       "1910    5\n",
       "1927    1\n",
       "1929    1\n",
       "1931    1\n",
       "1934    2\n",
       "1937    4\n",
       "1938    1\n",
       "1939    1\n",
       "1941    2\n",
       "1943    1\n",
       "1948    1\n",
       "1950    3\n",
       "1951    2\n",
       "1952    1\n",
       "1953    1\n",
       "1954    2\n",
       "Name: registration_year, dtype: int64"
      ]
     },
     "execution_count": 30,
     "metadata": {},
     "output_type": "execute_result"
    }
   ],
   "source": [
    "autos[\"registration_year\"].value_counts().sort_index(ascending=True).head(20)"
   ]
  },
  {
   "cell_type": "markdown",
   "id": "948e8f3d",
   "metadata": {},
   "source": [
    "From the `registration-year` data, we notice several abnormalies:\n",
    "* There were listings that were before year 1886 when automobile was first invented.\n",
    "* There were listings that were registered even after the data was crawled in year 2016.\n",
    "\n",
    "We will remove these data"
   ]
  },
  {
   "cell_type": "code",
   "execution_count": 31,
   "id": "2a40cc1a",
   "metadata": {},
   "outputs": [],
   "source": [
    "autos = autos[(autos[\"registration_year\"] <= 2016) & (autos[\"registration_year\"] >= 1900)]"
   ]
  },
  {
   "cell_type": "code",
   "execution_count": 32,
   "id": "bea45ae5",
   "metadata": {},
   "outputs": [],
   "source": [
    "autos[\"registration_year\"].describe()\n",
    "adjusted_regyear_count = autos[\"registration_year\"].describe()[\"count\"]"
   ]
  },
  {
   "cell_type": "code",
   "execution_count": 33,
   "id": "190bd6c3",
   "metadata": {},
   "outputs": [
    {
     "name": "stdout",
     "output_type": "stream",
     "text": [
      "3.8793369710697\n"
     ]
    }
   ],
   "source": [
    "print((original_regyear_count - adjusted_regyear_count) / original_regyear_count * 100)"
   ]
  },
  {
   "cell_type": "markdown",
   "id": "da7b9616",
   "metadata": {},
   "source": [
    "We note that the abnormal data that were removed constituted arouond 4% of the data, which is reasonable."
   ]
  },
  {
   "cell_type": "markdown",
   "id": "5c660f35",
   "metadata": {},
   "source": [
    "One of the analysis techniques is aggregation. When working with data on cars, it's natural to explore variations across different car brands. We can use aggregation to understand the `brand` column."
   ]
  },
  {
   "cell_type": "code",
   "execution_count": 34,
   "id": "e6265dfa",
   "metadata": {},
   "outputs": [],
   "source": [
    "top_20_brand = autos[\"brand\"].value_counts(dropna=False).index[0:20]"
   ]
  },
  {
   "cell_type": "code",
   "execution_count": 35,
   "id": "f046d848",
   "metadata": {},
   "outputs": [
    {
     "name": "stdout",
     "output_type": "stream",
     "text": [
      "volkswagen : 5402.410261610221\n",
      "bmw : 8332.820517811953\n",
      "opel : 2975.2419354838707\n",
      "mercedes_benz : 8628.450366422385\n",
      "audi : 9336.687453600594\n",
      "ford : 3749.4695065890287\n",
      "renault : 2474.8646069968195\n",
      "peugeot : 3094.0172290021537\n",
      "fiat : 2813.748538011696\n",
      "seat : 4397.230949589683\n",
      "skoda : 6368.0\n",
      "nissan : 4743.40252454418\n",
      "mazda : 4112.596614950635\n",
      "smart : 3580.2239031770046\n",
      "citroen : 3779.1391437308866\n",
      "toyota : 5167.091062394604\n",
      "hyundai : 5365.254273504273\n",
      "sonstige_autos : 12338.550218340612\n",
      "volvo : 4946.501170960188\n",
      "mini : 10613.459657701711\n"
     ]
    }
   ],
   "source": [
    "top_20_brand_mean_price = {}\n",
    "\n",
    "for b in top_20_brand:\n",
    "    selected_rows = autos[autos[\"brand\"] == b]\n",
    "    mean_price = selected_rows[\"price\"].mean()\n",
    "    top_20_brand_mean_price[b] = mean_price\n",
    "\n",
    "for k,v in top_20_brand_mean_price.items():\n",
    "    print(k,\":\",v)"
   ]
  },
  {
   "cell_type": "markdown",
   "id": "1d765820",
   "metadata": {},
   "source": [
    "From the mean price of the top 20 brands, we notice that:\n",
    "* sonstigue_autos and mini are more expensive\n",
    "* renault and fiat are the cheaptest"
   ]
  },
  {
   "cell_type": "markdown",
   "id": "f8ae870e",
   "metadata": {},
   "source": [
    "We will use aggregation to understand the `brand` column for `mean mileage`."
   ]
  },
  {
   "cell_type": "code",
   "execution_count": 36,
   "id": "159013ec",
   "metadata": {},
   "outputs": [
    {
     "name": "stdout",
     "output_type": "stream",
     "text": [
      "volkswagen : 128707.15879132022\n",
      "bmw : 132572.51313996495\n",
      "opel : 129310.0358422939\n",
      "mercedes_benz : 130788.36331334666\n",
      "audi : 129157.38678544914\n",
      "ford : 124266.01287159056\n",
      "renault : 128071.33121308497\n",
      "peugeot : 127153.62526920316\n",
      "fiat : 117121.9715956558\n",
      "seat : 121131.30128956624\n",
      "skoda : 110848.5639686684\n",
      "nissan : 118330.99579242637\n",
      "mazda : 124464.03385049365\n",
      "smart : 99326.77760968229\n",
      "citroen : 119694.18960244648\n",
      "toyota : 115944.35075885328\n",
      "hyundai : 106442.30769230769\n",
      "sonstige_autos : 89956.33187772926\n",
      "volvo : 138067.9156908665\n",
      "mini : 88105.13447432763\n"
     ]
    }
   ],
   "source": [
    "top_20_brand_mean_mileage = {}\n",
    "\n",
    "for b in top_20_brand:\n",
    "    selected_rows = autos[autos[\"brand\"] == b]\n",
    "    mean_mileage = selected_rows[\"odometer_km\"].mean()\n",
    "    top_20_brand_mean_mileage[b] = mean_mileage\n",
    "\n",
    "for k,v in top_20_brand_mean_mileage.items():\n",
    "    print(k,\":\",v)"
   ]
  },
  {
   "cell_type": "markdown",
   "id": "5416e11f",
   "metadata": {},
   "source": [
    "For the top 20 brands, we will see if there's any visible link between mean price and mean mileage.\n",
    "\n",
    "We will combine the data from both series objects into a single dataframe (with a shared index) and display the dataframe directly so that can visually compare. To do this, we will use `pandas series constructor` and `pandas dataframe constructor`."
   ]
  },
  {
   "cell_type": "code",
   "execution_count": 41,
   "id": "e731e8ed",
   "metadata": {},
   "outputs": [],
   "source": [
    "bmm_series = pd.Series(top_20_brand_mean_mileage).sort_values(ascending=False)\n",
    "bmp_series = pd.Series(top_20_brand_mean_price).sort_values(ascending=False)\n",
    "df = pd.DataFrame(bmm_series, columns = [\"mean_mileage\"])\n",
    "df[\"mean_price\"] = bmp_series"
   ]
  },
  {
   "cell_type": "code",
   "execution_count": 42,
   "id": "8550027b",
   "metadata": {},
   "outputs": [
    {
     "data": {
      "text/html": [
       "<div>\n",
       "<style scoped>\n",
       "    .dataframe tbody tr th:only-of-type {\n",
       "        vertical-align: middle;\n",
       "    }\n",
       "\n",
       "    .dataframe tbody tr th {\n",
       "        vertical-align: top;\n",
       "    }\n",
       "\n",
       "    .dataframe thead th {\n",
       "        text-align: right;\n",
       "    }\n",
       "</style>\n",
       "<table border=\"1\" class=\"dataframe\">\n",
       "  <thead>\n",
       "    <tr style=\"text-align: right;\">\n",
       "      <th></th>\n",
       "      <th>mean_mileage</th>\n",
       "      <th>mean_price</th>\n",
       "    </tr>\n",
       "  </thead>\n",
       "  <tbody>\n",
       "    <tr>\n",
       "      <th>volvo</th>\n",
       "      <td>138067.91569</td>\n",
       "      <td>4946.50117</td>\n",
       "    </tr>\n",
       "    <tr>\n",
       "      <th>bmw</th>\n",
       "      <td>132572.51314</td>\n",
       "      <td>8332.82052</td>\n",
       "    </tr>\n",
       "    <tr>\n",
       "      <th>mercedes_benz</th>\n",
       "      <td>130788.36331</td>\n",
       "      <td>8628.45037</td>\n",
       "    </tr>\n",
       "    <tr>\n",
       "      <th>opel</th>\n",
       "      <td>129310.03584</td>\n",
       "      <td>2975.24194</td>\n",
       "    </tr>\n",
       "    <tr>\n",
       "      <th>audi</th>\n",
       "      <td>129157.38679</td>\n",
       "      <td>9336.68745</td>\n",
       "    </tr>\n",
       "    <tr>\n",
       "      <th>volkswagen</th>\n",
       "      <td>128707.15879</td>\n",
       "      <td>5402.41026</td>\n",
       "    </tr>\n",
       "    <tr>\n",
       "      <th>renault</th>\n",
       "      <td>128071.33121</td>\n",
       "      <td>2474.86461</td>\n",
       "    </tr>\n",
       "    <tr>\n",
       "      <th>peugeot</th>\n",
       "      <td>127153.62527</td>\n",
       "      <td>3094.01723</td>\n",
       "    </tr>\n",
       "    <tr>\n",
       "      <th>mazda</th>\n",
       "      <td>124464.03385</td>\n",
       "      <td>4112.59661</td>\n",
       "    </tr>\n",
       "    <tr>\n",
       "      <th>ford</th>\n",
       "      <td>124266.01287</td>\n",
       "      <td>3749.46951</td>\n",
       "    </tr>\n",
       "    <tr>\n",
       "      <th>seat</th>\n",
       "      <td>121131.30129</td>\n",
       "      <td>4397.23095</td>\n",
       "    </tr>\n",
       "    <tr>\n",
       "      <th>citroen</th>\n",
       "      <td>119694.18960</td>\n",
       "      <td>3779.13914</td>\n",
       "    </tr>\n",
       "    <tr>\n",
       "      <th>nissan</th>\n",
       "      <td>118330.99579</td>\n",
       "      <td>4743.40252</td>\n",
       "    </tr>\n",
       "    <tr>\n",
       "      <th>fiat</th>\n",
       "      <td>117121.97160</td>\n",
       "      <td>2813.74854</td>\n",
       "    </tr>\n",
       "    <tr>\n",
       "      <th>toyota</th>\n",
       "      <td>115944.35076</td>\n",
       "      <td>5167.09106</td>\n",
       "    </tr>\n",
       "    <tr>\n",
       "      <th>skoda</th>\n",
       "      <td>110848.56397</td>\n",
       "      <td>6368.00000</td>\n",
       "    </tr>\n",
       "    <tr>\n",
       "      <th>hyundai</th>\n",
       "      <td>106442.30769</td>\n",
       "      <td>5365.25427</td>\n",
       "    </tr>\n",
       "    <tr>\n",
       "      <th>smart</th>\n",
       "      <td>99326.77761</td>\n",
       "      <td>3580.22390</td>\n",
       "    </tr>\n",
       "    <tr>\n",
       "      <th>sonstige_autos</th>\n",
       "      <td>89956.33188</td>\n",
       "      <td>12338.55022</td>\n",
       "    </tr>\n",
       "    <tr>\n",
       "      <th>mini</th>\n",
       "      <td>88105.13447</td>\n",
       "      <td>10613.45966</td>\n",
       "    </tr>\n",
       "  </tbody>\n",
       "</table>\n",
       "</div>"
      ],
      "text/plain": [
       "                mean_mileage  mean_price\n",
       "volvo           138067.91569  4946.50117\n",
       "bmw             132572.51314  8332.82052\n",
       "mercedes_benz   130788.36331  8628.45037\n",
       "opel            129310.03584  2975.24194\n",
       "audi            129157.38679  9336.68745\n",
       "volkswagen      128707.15879  5402.41026\n",
       "renault         128071.33121  2474.86461\n",
       "peugeot         127153.62527  3094.01723\n",
       "mazda           124464.03385  4112.59661\n",
       "ford            124266.01287  3749.46951\n",
       "seat            121131.30129  4397.23095\n",
       "citroen         119694.18960  3779.13914\n",
       "nissan          118330.99579  4743.40252\n",
       "fiat            117121.97160  2813.74854\n",
       "toyota          115944.35076  5167.09106\n",
       "skoda           110848.56397  6368.00000\n",
       "hyundai         106442.30769  5365.25427\n",
       "smart            99326.77761  3580.22390\n",
       "sonstige_autos   89956.33188 12338.55022\n",
       "mini             88105.13447 10613.45966"
      ]
     },
     "execution_count": 42,
     "metadata": {},
     "output_type": "execute_result"
    }
   ],
   "source": [
    "df"
   ]
  },
  {
   "cell_type": "markdown",
   "id": "a15ce704",
   "metadata": {},
   "source": [
    "The range of car mileages does not vary as much as the prices do by brand."
   ]
  },
  {
   "cell_type": "code",
   "execution_count": null,
   "id": "cc83ff8d",
   "metadata": {},
   "outputs": [],
   "source": []
  }
 ],
 "metadata": {
  "kernelspec": {
   "display_name": "Python 3",
   "language": "python",
   "name": "python3"
  },
  "language_info": {
   "codemirror_mode": {
    "name": "ipython",
    "version": 3
   },
   "file_extension": ".py",
   "mimetype": "text/x-python",
   "name": "python",
   "nbconvert_exporter": "python",
   "pygments_lexer": "ipython3",
   "version": "3.8.8"
  }
 },
 "nbformat": 4,
 "nbformat_minor": 5
}
