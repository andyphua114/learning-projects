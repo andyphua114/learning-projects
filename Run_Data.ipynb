{
 "cells": [
  {
   "cell_type": "markdown",
   "id": "e9894b9e",
   "metadata": {},
   "source": [
    "# Does weather affects my run? Using data analysis to find the answer."
   ]
  },
  {
   "cell_type": "code",
   "execution_count": 1,
   "id": "7292508d",
   "metadata": {},
   "outputs": [],
   "source": [
    "import pandas as pd\n",
    "import matplotlib.pyplot as plt\n",
    "import matplotlib.style as style\n",
    "%matplotlib inline\n",
    "from datetime import datetime\n",
    "import numpy as np"
   ]
  },
  {
   "cell_type": "code",
   "execution_count": 2,
   "id": "59380017",
   "metadata": {},
   "outputs": [],
   "source": [
    "run_data = pd.read_csv(r'C:\\Users\\Andy\\Desktop\\Learning\\Dataquest\\Project_Strava\\activities.csv')"
   ]
  },
  {
   "cell_type": "code",
   "execution_count": 3,
   "id": "8f93d3b9",
   "metadata": {},
   "outputs": [
    {
     "data": {
      "text/plain": [
       "(352, 81)"
      ]
     },
     "execution_count": 3,
     "metadata": {},
     "output_type": "execute_result"
    }
   ],
   "source": [
    "run_data.shape #352 activities with 81 column data"
   ]
  },
  {
   "cell_type": "code",
   "execution_count": 4,
   "id": "0b3b9b25",
   "metadata": {},
   "outputs": [
    {
     "name": "stdout",
     "output_type": "stream",
     "text": [
      "<class 'pandas.core.frame.DataFrame'>\n",
      "RangeIndex: 352 entries, 0 to 351\n",
      "Data columns (total 81 columns):\n",
      " #   Column                                                                                                                                                                    Non-Null Count  Dtype  \n",
      "---  ------                                                                                                                                                                    --------------  -----  \n",
      " 0   Activity ID                                                                                                                                                               352 non-null    int64  \n",
      " 1   Activity Date                                                                                                                                                             352 non-null    object \n",
      " 2   Activity Name                                                                                                                                                             352 non-null    object \n",
      " 3   Activity Type                                                                                                                                                             352 non-null    object \n",
      " 4   Activity Description                                                                                                                                                      0 non-null      float64\n",
      " 5   Elapsed Time                                                                                                                                                              352 non-null    int64  \n",
      " 6   Distance                                                                                                                                                                  352 non-null    float64\n",
      " 7   Max Heart Rate                                                                                                                                                            329 non-null    float64\n",
      " 8   Relative Effort                                                                                                                                                           329 non-null    float64\n",
      " 9   Commute                                                                                                                                                                   352 non-null    bool   \n",
      " 10  Activity Gear                                                                                                                                                             0 non-null      float64\n",
      " 11  Filename                                                                                                                                                                  352 non-null    object \n",
      " 12  Athlete Weight                                                                                                                                                            0 non-null      float64\n",
      " 13  Bike Weight                                                                                                                                                               0 non-null      float64\n",
      " 14  Elapsed Time.1                                                                                                                                                            352 non-null    float64\n",
      " 15  Moving Time                                                                                                                                                               352 non-null    float64\n",
      " 16  Distance.1                                                                                                                                                                352 non-null    float64\n",
      " 17  Max Speed                                                                                                                                                                 352 non-null    float64\n",
      " 18  Average Speed                                                                                                                                                             352 non-null    float64\n",
      " 19  Elevation Gain                                                                                                                                                            321 non-null    float64\n",
      " 20  Elevation Loss                                                                                                                                                            348 non-null    float64\n",
      " 21  Elevation Low                                                                                                                                                             348 non-null    float64\n",
      " 22  Elevation High                                                                                                                                                            348 non-null    float64\n",
      " 23  Max Grade                                                                                                                                                                 352 non-null    float64\n",
      " 24  Average Grade                                                                                                                                                             352 non-null    float64\n",
      " 25  Average Positive Grade                                                                                                                                                    0 non-null      float64\n",
      " 26  Average Negative Grade                                                                                                                                                    0 non-null      float64\n",
      " 27  Max Cadence                                                                                                                                                               351 non-null    float64\n",
      " 28  Average Cadence                                                                                                                                                           351 non-null    float64\n",
      " 29  Max Heart Rate.1                                                                                                                                                          26 non-null     float64\n",
      " 30  Average Heart Rate                                                                                                                                                        329 non-null    float64\n",
      " 31  Max Watts                                                                                                                                                                 0 non-null      float64\n",
      " 32  Average Watts                                                                                                                                                             0 non-null      float64\n",
      " 33  Calories                                                                                                                                                                  352 non-null    float64\n",
      " 34  Max Temperature                                                                                                                                                           0 non-null      float64\n",
      " 35  Average Temperature                                                                                                                                                       0 non-null      float64\n",
      " 36  Relative Effort.1                                                                                                                                                         329 non-null    float64\n",
      " 37  Total Work                                                                                                                                                                0 non-null      float64\n",
      " 38  Number of Runs                                                                                                                                                            0 non-null      float64\n",
      " 39  Uphill Time                                                                                                                                                               0 non-null      float64\n",
      " 40  Downhill Time                                                                                                                                                             0 non-null      float64\n",
      " 41  Other Time                                                                                                                                                                0 non-null      float64\n",
      " 42  Perceived Exertion                                                                                                                                                        0 non-null      float64\n",
      " 43  <span class=\"translation_missing\" title=\"translation missing: en-GB.lib.export.portability_exporter.activities.horton_values.type\">Type</span>                            0 non-null      float64\n",
      " 44  <span class=\"translation_missing\" title=\"translation missing: en-GB.lib.export.portability_exporter.activities.horton_values.start_time\">Start Time</span>                0 non-null      float64\n",
      " 45  Weighted Average Power                                                                                                                                                    0 non-null      float64\n",
      " 46  Power Count                                                                                                                                                               0 non-null      float64\n",
      " 47  Prefer Perceived Exertion                                                                                                                                                 86 non-null     float64\n",
      " 48  Perceived Relative Effort                                                                                                                                                 0 non-null      float64\n",
      " 49  Commute.1                                                                                                                                                                 352 non-null    float64\n",
      " 50  Total Weight Lifted                                                                                                                                                       0 non-null      float64\n",
      " 51  From Upload                                                                                                                                                               352 non-null    float64\n",
      " 52  Grade Adjusted Distance                                                                                                                                                   348 non-null    float64\n",
      " 53  Weather Observation Time                                                                                                                                                  6 non-null      float64\n",
      " 54  Weather Condition                                                                                                                                                         6 non-null      float64\n",
      " 55  Weather Temperature                                                                                                                                                       6 non-null      float64\n",
      " 56  Apparent Temperature                                                                                                                                                      6 non-null      float64\n",
      " 57  Dewpoint                                                                                                                                                                  6 non-null      float64\n",
      " 58  Humidity                                                                                                                                                                  6 non-null      float64\n",
      " 59  Weather Pressure                                                                                                                                                          6 non-null      float64\n",
      " 60  Wind Speed                                                                                                                                                                6 non-null      float64\n",
      " 61  Wind Gust                                                                                                                                                                 6 non-null      float64\n",
      " 62  Wind Bearing                                                                                                                                                              6 non-null      float64\n",
      " 63  Precipitation Intensity                                                                                                                                                   6 non-null      float64\n",
      " 64  Sunrise Time                                                                                                                                                              6 non-null      float64\n",
      " 65  Sunset Time                                                                                                                                                               6 non-null      float64\n",
      " 66  Moon Phase                                                                                                                                                                6 non-null      float64\n",
      " 67  Bike                                                                                                                                                                      0 non-null      float64\n",
      " 68  Gear                                                                                                                                                                      168 non-null    float64\n",
      " 69  Precipitation Probability                                                                                                                                                 6 non-null      float64\n",
      " 70  Precipitation Type                                                                                                                                                        1 non-null      float64\n",
      " 71  Cloud Cover                                                                                                                                                               6 non-null      float64\n",
      " 72  Weather Visibility                                                                                                                                                        6 non-null      float64\n",
      " 73  UV Index                                                                                                                                                                  6 non-null      float64\n",
      " 74  Weather Ozone                                                                                                                                                             6 non-null      float64\n",
      " 75  <span class=\"translation_missing\" title=\"translation missing: en-GB.lib.export.portability_exporter.activities.horton_values.jump_count\">Jump Count</span>                0 non-null      float64\n",
      " 76  <span class=\"translation_missing\" title=\"translation missing: en-GB.lib.export.portability_exporter.activities.horton_values.total_grit\">Total Grit</span>                0 non-null      float64\n",
      " 77  <span class=\"translation_missing\" title=\"translation missing: en-GB.lib.export.portability_exporter.activities.horton_values.avg_flow\">Avg Flow</span>                    0 non-null      float64\n",
      " 78  <span class=\"translation_missing\" title=\"translation missing: en-GB.lib.export.portability_exporter.activities.horton_values.flagged\">Flagged</span>                      27 non-null     float64\n",
      " 79  <span class=\"translation_missing\" title=\"translation missing: en-GB.lib.export.portability_exporter.activities.horton_values.avg_elapsed_speed\">Avg Elapsed Speed</span>  71 non-null     float64\n",
      " 80  <span class=\"translation_missing\" title=\"translation missing: en-GB.lib.export.portability_exporter.activities.horton_values.dirt_distance\">Dirt Distance</span>          11 non-null     float64\n",
      "dtypes: bool(1), float64(74), int64(2), object(4)\n",
      "memory usage: 220.5+ KB\n"
     ]
    }
   ],
   "source": [
    "run_data.info()"
   ]
  },
  {
   "cell_type": "code",
   "execution_count": 5,
   "id": "9099bc45",
   "metadata": {},
   "outputs": [
    {
     "data": {
      "text/html": [
       "<div>\n",
       "<style scoped>\n",
       "    .dataframe tbody tr th:only-of-type {\n",
       "        vertical-align: middle;\n",
       "    }\n",
       "\n",
       "    .dataframe tbody tr th {\n",
       "        vertical-align: top;\n",
       "    }\n",
       "\n",
       "    .dataframe thead th {\n",
       "        text-align: right;\n",
       "    }\n",
       "</style>\n",
       "<table border=\"1\" class=\"dataframe\">\n",
       "  <thead>\n",
       "    <tr style=\"text-align: right;\">\n",
       "      <th></th>\n",
       "      <th>Activity ID</th>\n",
       "      <th>Activity Date</th>\n",
       "      <th>Activity Name</th>\n",
       "      <th>Activity Type</th>\n",
       "      <th>Activity Description</th>\n",
       "      <th>Elapsed Time</th>\n",
       "      <th>Distance</th>\n",
       "      <th>Max Heart Rate</th>\n",
       "      <th>Relative Effort</th>\n",
       "      <th>Commute</th>\n",
       "      <th>...</th>\n",
       "      <th>Cloud Cover</th>\n",
       "      <th>Weather Visibility</th>\n",
       "      <th>UV Index</th>\n",
       "      <th>Weather Ozone</th>\n",
       "      <th>&lt;span class=\"translation_missing\" title=\"translation missing: en-GB.lib.export.portability_exporter.activities.horton_values.jump_count\"&gt;Jump Count&lt;/span&gt;</th>\n",
       "      <th>&lt;span class=\"translation_missing\" title=\"translation missing: en-GB.lib.export.portability_exporter.activities.horton_values.total_grit\"&gt;Total Grit&lt;/span&gt;</th>\n",
       "      <th>&lt;span class=\"translation_missing\" title=\"translation missing: en-GB.lib.export.portability_exporter.activities.horton_values.avg_flow\"&gt;Avg Flow&lt;/span&gt;</th>\n",
       "      <th>&lt;span class=\"translation_missing\" title=\"translation missing: en-GB.lib.export.portability_exporter.activities.horton_values.flagged\"&gt;Flagged&lt;/span&gt;</th>\n",
       "      <th>&lt;span class=\"translation_missing\" title=\"translation missing: en-GB.lib.export.portability_exporter.activities.horton_values.avg_elapsed_speed\"&gt;Avg Elapsed Speed&lt;/span&gt;</th>\n",
       "      <th>&lt;span class=\"translation_missing\" title=\"translation missing: en-GB.lib.export.portability_exporter.activities.horton_values.dirt_distance\"&gt;Dirt Distance&lt;/span&gt;</th>\n",
       "    </tr>\n",
       "  </thead>\n",
       "  <tbody>\n",
       "    <tr>\n",
       "      <th>0</th>\n",
       "      <td>3421832107</td>\n",
       "      <td>4 May 2020, 10:06:05</td>\n",
       "      <td>Evening Run</td>\n",
       "      <td>Run</td>\n",
       "      <td>NaN</td>\n",
       "      <td>1551</td>\n",
       "      <td>5.00</td>\n",
       "      <td>186.0</td>\n",
       "      <td>88.0</td>\n",
       "      <td>False</td>\n",
       "      <td>...</td>\n",
       "      <td>NaN</td>\n",
       "      <td>NaN</td>\n",
       "      <td>NaN</td>\n",
       "      <td>NaN</td>\n",
       "      <td>NaN</td>\n",
       "      <td>NaN</td>\n",
       "      <td>NaN</td>\n",
       "      <td>NaN</td>\n",
       "      <td>NaN</td>\n",
       "      <td>NaN</td>\n",
       "    </tr>\n",
       "    <tr>\n",
       "      <th>1</th>\n",
       "      <td>3421832110</td>\n",
       "      <td>3 May 2020, 10:23:01</td>\n",
       "      <td>Evening Run</td>\n",
       "      <td>Run</td>\n",
       "      <td>NaN</td>\n",
       "      <td>811</td>\n",
       "      <td>2.78</td>\n",
       "      <td>177.0</td>\n",
       "      <td>44.0</td>\n",
       "      <td>False</td>\n",
       "      <td>...</td>\n",
       "      <td>NaN</td>\n",
       "      <td>NaN</td>\n",
       "      <td>NaN</td>\n",
       "      <td>NaN</td>\n",
       "      <td>NaN</td>\n",
       "      <td>NaN</td>\n",
       "      <td>NaN</td>\n",
       "      <td>NaN</td>\n",
       "      <td>NaN</td>\n",
       "      <td>NaN</td>\n",
       "    </tr>\n",
       "    <tr>\n",
       "      <th>2</th>\n",
       "      <td>3421832112</td>\n",
       "      <td>20 Apr 2020, 09:41:32</td>\n",
       "      <td>Afternoon Run</td>\n",
       "      <td>Run</td>\n",
       "      <td>NaN</td>\n",
       "      <td>1819</td>\n",
       "      <td>4.00</td>\n",
       "      <td>NaN</td>\n",
       "      <td>NaN</td>\n",
       "      <td>False</td>\n",
       "      <td>...</td>\n",
       "      <td>NaN</td>\n",
       "      <td>NaN</td>\n",
       "      <td>NaN</td>\n",
       "      <td>NaN</td>\n",
       "      <td>NaN</td>\n",
       "      <td>NaN</td>\n",
       "      <td>NaN</td>\n",
       "      <td>NaN</td>\n",
       "      <td>NaN</td>\n",
       "      <td>NaN</td>\n",
       "    </tr>\n",
       "    <tr>\n",
       "      <th>3</th>\n",
       "      <td>3421832113</td>\n",
       "      <td>28 Apr 2020, 09:52:24</td>\n",
       "      <td>Afternoon Run</td>\n",
       "      <td>Run</td>\n",
       "      <td>NaN</td>\n",
       "      <td>1801</td>\n",
       "      <td>5.48</td>\n",
       "      <td>147.0</td>\n",
       "      <td>15.0</td>\n",
       "      <td>False</td>\n",
       "      <td>...</td>\n",
       "      <td>NaN</td>\n",
       "      <td>NaN</td>\n",
       "      <td>NaN</td>\n",
       "      <td>NaN</td>\n",
       "      <td>NaN</td>\n",
       "      <td>NaN</td>\n",
       "      <td>NaN</td>\n",
       "      <td>NaN</td>\n",
       "      <td>NaN</td>\n",
       "      <td>NaN</td>\n",
       "    </tr>\n",
       "    <tr>\n",
       "      <th>4</th>\n",
       "      <td>3421832114</td>\n",
       "      <td>3 May 2020, 11:03:42</td>\n",
       "      <td>Evening Run</td>\n",
       "      <td>Run</td>\n",
       "      <td>NaN</td>\n",
       "      <td>1608</td>\n",
       "      <td>5.00</td>\n",
       "      <td>184.0</td>\n",
       "      <td>92.0</td>\n",
       "      <td>False</td>\n",
       "      <td>...</td>\n",
       "      <td>NaN</td>\n",
       "      <td>NaN</td>\n",
       "      <td>NaN</td>\n",
       "      <td>NaN</td>\n",
       "      <td>NaN</td>\n",
       "      <td>NaN</td>\n",
       "      <td>NaN</td>\n",
       "      <td>NaN</td>\n",
       "      <td>NaN</td>\n",
       "      <td>NaN</td>\n",
       "    </tr>\n",
       "  </tbody>\n",
       "</table>\n",
       "<p>5 rows × 81 columns</p>\n",
       "</div>"
      ],
      "text/plain": [
       "   Activity ID          Activity Date  Activity Name Activity Type  \\\n",
       "0   3421832107   4 May 2020, 10:06:05    Evening Run           Run   \n",
       "1   3421832110   3 May 2020, 10:23:01    Evening Run           Run   \n",
       "2   3421832112  20 Apr 2020, 09:41:32  Afternoon Run           Run   \n",
       "3   3421832113  28 Apr 2020, 09:52:24  Afternoon Run           Run   \n",
       "4   3421832114   3 May 2020, 11:03:42    Evening Run           Run   \n",
       "\n",
       "   Activity Description  Elapsed Time  Distance  Max Heart Rate  \\\n",
       "0                   NaN          1551      5.00           186.0   \n",
       "1                   NaN           811      2.78           177.0   \n",
       "2                   NaN          1819      4.00             NaN   \n",
       "3                   NaN          1801      5.48           147.0   \n",
       "4                   NaN          1608      5.00           184.0   \n",
       "\n",
       "   Relative Effort  Commute  ...  Cloud Cover Weather Visibility  UV Index  \\\n",
       "0             88.0    False  ...          NaN                NaN       NaN   \n",
       "1             44.0    False  ...          NaN                NaN       NaN   \n",
       "2              NaN    False  ...          NaN                NaN       NaN   \n",
       "3             15.0    False  ...          NaN                NaN       NaN   \n",
       "4             92.0    False  ...          NaN                NaN       NaN   \n",
       "\n",
       "   Weather Ozone  \\\n",
       "0            NaN   \n",
       "1            NaN   \n",
       "2            NaN   \n",
       "3            NaN   \n",
       "4            NaN   \n",
       "\n",
       "   <span class=\"translation_missing\" title=\"translation missing: en-GB.lib.export.portability_exporter.activities.horton_values.jump_count\">Jump Count</span>  \\\n",
       "0                                                NaN                                                                                                            \n",
       "1                                                NaN                                                                                                            \n",
       "2                                                NaN                                                                                                            \n",
       "3                                                NaN                                                                                                            \n",
       "4                                                NaN                                                                                                            \n",
       "\n",
       "   <span class=\"translation_missing\" title=\"translation missing: en-GB.lib.export.portability_exporter.activities.horton_values.total_grit\">Total Grit</span>  \\\n",
       "0                                                NaN                                                                                                            \n",
       "1                                                NaN                                                                                                            \n",
       "2                                                NaN                                                                                                            \n",
       "3                                                NaN                                                                                                            \n",
       "4                                                NaN                                                                                                            \n",
       "\n",
       "   <span class=\"translation_missing\" title=\"translation missing: en-GB.lib.export.portability_exporter.activities.horton_values.avg_flow\">Avg Flow</span>  \\\n",
       "0                                                NaN                                                                                                        \n",
       "1                                                NaN                                                                                                        \n",
       "2                                                NaN                                                                                                        \n",
       "3                                                NaN                                                                                                        \n",
       "4                                                NaN                                                                                                        \n",
       "\n",
       "   <span class=\"translation_missing\" title=\"translation missing: en-GB.lib.export.portability_exporter.activities.horton_values.flagged\">Flagged</span>  \\\n",
       "0                                                NaN                                                                                                      \n",
       "1                                                NaN                                                                                                      \n",
       "2                                                NaN                                                                                                      \n",
       "3                                                NaN                                                                                                      \n",
       "4                                                NaN                                                                                                      \n",
       "\n",
       "   <span class=\"translation_missing\" title=\"translation missing: en-GB.lib.export.portability_exporter.activities.horton_values.avg_elapsed_speed\">Avg Elapsed Speed</span>  \\\n",
       "0                                                NaN                                                                                                                          \n",
       "1                                                NaN                                                                                                                          \n",
       "2                                                NaN                                                                                                                          \n",
       "3                                                NaN                                                                                                                          \n",
       "4                                                NaN                                                                                                                          \n",
       "\n",
       "   <span class=\"translation_missing\" title=\"translation missing: en-GB.lib.export.portability_exporter.activities.horton_values.dirt_distance\">Dirt Distance</span>  \n",
       "0                                                NaN                                                                                                                 \n",
       "1                                                NaN                                                                                                                 \n",
       "2                                                NaN                                                                                                                 \n",
       "3                                                NaN                                                                                                                 \n",
       "4                                                NaN                                                                                                                 \n",
       "\n",
       "[5 rows x 81 columns]"
      ]
     },
     "execution_count": 5,
     "metadata": {},
     "output_type": "execute_result"
    }
   ],
   "source": [
    "run_data.head()"
   ]
  },
  {
   "cell_type": "markdown",
   "id": "6c4d6f08",
   "metadata": {},
   "source": [
    "From a quick survey of the dataset, there are no information on some data for exmaple the weather. This is because I do not have a Strava subscription. We will need to get the weather data from other sources.\n",
    "\n",
    "For `Activity Date`, we will need to make the following changes as by default it is synchronised to GMT+0:\n",
    "* Change the format from string to datetime.\n",
    "* Convert to local time (GMT+8)."
   ]
  },
  {
   "cell_type": "code",
   "execution_count": 6,
   "id": "b8a20ce3",
   "metadata": {},
   "outputs": [],
   "source": [
    "#convert from string to datetime\n",
    "run_data['Activity Date'] = pd.to_datetime(run_data['Activity Date'], format='%d %b %Y, %H:%M:%S')\n",
    "\n",
    "#convert to local time in Singapore (GMT+8)\n",
    "run_data['Activity Date'] = run_data['Activity Date'] + pd.DateOffset(hours=8)"
   ]
  },
  {
   "cell_type": "code",
   "execution_count": 7,
   "id": "0af6d533",
   "metadata": {},
   "outputs": [
    {
     "data": {
      "text/html": [
       "<div>\n",
       "<style scoped>\n",
       "    .dataframe tbody tr th:only-of-type {\n",
       "        vertical-align: middle;\n",
       "    }\n",
       "\n",
       "    .dataframe tbody tr th {\n",
       "        vertical-align: top;\n",
       "    }\n",
       "\n",
       "    .dataframe thead th {\n",
       "        text-align: right;\n",
       "    }\n",
       "</style>\n",
       "<table border=\"1\" class=\"dataframe\">\n",
       "  <thead>\n",
       "    <tr style=\"text-align: right;\">\n",
       "      <th></th>\n",
       "      <th>Activity ID</th>\n",
       "      <th>Activity Date</th>\n",
       "      <th>Activity Name</th>\n",
       "      <th>Activity Type</th>\n",
       "      <th>Activity Description</th>\n",
       "      <th>Elapsed Time</th>\n",
       "      <th>Distance</th>\n",
       "      <th>Max Heart Rate</th>\n",
       "      <th>Relative Effort</th>\n",
       "      <th>Commute</th>\n",
       "      <th>...</th>\n",
       "      <th>Cloud Cover</th>\n",
       "      <th>Weather Visibility</th>\n",
       "      <th>UV Index</th>\n",
       "      <th>Weather Ozone</th>\n",
       "      <th>&lt;span class=\"translation_missing\" title=\"translation missing: en-GB.lib.export.portability_exporter.activities.horton_values.jump_count\"&gt;Jump Count&lt;/span&gt;</th>\n",
       "      <th>&lt;span class=\"translation_missing\" title=\"translation missing: en-GB.lib.export.portability_exporter.activities.horton_values.total_grit\"&gt;Total Grit&lt;/span&gt;</th>\n",
       "      <th>&lt;span class=\"translation_missing\" title=\"translation missing: en-GB.lib.export.portability_exporter.activities.horton_values.avg_flow\"&gt;Avg Flow&lt;/span&gt;</th>\n",
       "      <th>&lt;span class=\"translation_missing\" title=\"translation missing: en-GB.lib.export.portability_exporter.activities.horton_values.flagged\"&gt;Flagged&lt;/span&gt;</th>\n",
       "      <th>&lt;span class=\"translation_missing\" title=\"translation missing: en-GB.lib.export.portability_exporter.activities.horton_values.avg_elapsed_speed\"&gt;Avg Elapsed Speed&lt;/span&gt;</th>\n",
       "      <th>&lt;span class=\"translation_missing\" title=\"translation missing: en-GB.lib.export.portability_exporter.activities.horton_values.dirt_distance\"&gt;Dirt Distance&lt;/span&gt;</th>\n",
       "    </tr>\n",
       "  </thead>\n",
       "  <tbody>\n",
       "    <tr>\n",
       "      <th>347</th>\n",
       "      <td>6197351390</td>\n",
       "      <td>2021-11-01 22:33:42</td>\n",
       "      <td>Night Run</td>\n",
       "      <td>Run</td>\n",
       "      <td>NaN</td>\n",
       "      <td>2284</td>\n",
       "      <td>6.26</td>\n",
       "      <td>175.0</td>\n",
       "      <td>58.0</td>\n",
       "      <td>False</td>\n",
       "      <td>...</td>\n",
       "      <td>NaN</td>\n",
       "      <td>NaN</td>\n",
       "      <td>NaN</td>\n",
       "      <td>NaN</td>\n",
       "      <td>NaN</td>\n",
       "      <td>NaN</td>\n",
       "      <td>NaN</td>\n",
       "      <td>0.0</td>\n",
       "      <td>2.743726</td>\n",
       "      <td>171.800003</td>\n",
       "    </tr>\n",
       "    <tr>\n",
       "      <th>348</th>\n",
       "      <td>6205400834</td>\n",
       "      <td>2021-11-03 17:58:47</td>\n",
       "      <td>Afternoon Run</td>\n",
       "      <td>Run</td>\n",
       "      <td>NaN</td>\n",
       "      <td>2199</td>\n",
       "      <td>6.02</td>\n",
       "      <td>182.0</td>\n",
       "      <td>65.0</td>\n",
       "      <td>False</td>\n",
       "      <td>...</td>\n",
       "      <td>NaN</td>\n",
       "      <td>NaN</td>\n",
       "      <td>NaN</td>\n",
       "      <td>NaN</td>\n",
       "      <td>NaN</td>\n",
       "      <td>NaN</td>\n",
       "      <td>NaN</td>\n",
       "      <td>0.0</td>\n",
       "      <td>2.737467</td>\n",
       "      <td>632.099976</td>\n",
       "    </tr>\n",
       "    <tr>\n",
       "      <th>349</th>\n",
       "      <td>6208589872</td>\n",
       "      <td>2021-11-04 06:03:05</td>\n",
       "      <td>Morning Run</td>\n",
       "      <td>Run</td>\n",
       "      <td>NaN</td>\n",
       "      <td>2568</td>\n",
       "      <td>6.28</td>\n",
       "      <td>175.0</td>\n",
       "      <td>45.0</td>\n",
       "      <td>False</td>\n",
       "      <td>...</td>\n",
       "      <td>NaN</td>\n",
       "      <td>NaN</td>\n",
       "      <td>NaN</td>\n",
       "      <td>NaN</td>\n",
       "      <td>NaN</td>\n",
       "      <td>NaN</td>\n",
       "      <td>NaN</td>\n",
       "      <td>0.0</td>\n",
       "      <td>2.445238</td>\n",
       "      <td>188.100006</td>\n",
       "    </tr>\n",
       "    <tr>\n",
       "      <th>350</th>\n",
       "      <td>6212987798</td>\n",
       "      <td>2021-11-05 06:51:19</td>\n",
       "      <td>Morning Run</td>\n",
       "      <td>Run</td>\n",
       "      <td>NaN</td>\n",
       "      <td>2171</td>\n",
       "      <td>6.27</td>\n",
       "      <td>173.0</td>\n",
       "      <td>51.0</td>\n",
       "      <td>False</td>\n",
       "      <td>...</td>\n",
       "      <td>NaN</td>\n",
       "      <td>NaN</td>\n",
       "      <td>NaN</td>\n",
       "      <td>NaN</td>\n",
       "      <td>NaN</td>\n",
       "      <td>NaN</td>\n",
       "      <td>NaN</td>\n",
       "      <td>0.0</td>\n",
       "      <td>2.887840</td>\n",
       "      <td>197.800003</td>\n",
       "    </tr>\n",
       "    <tr>\n",
       "      <th>351</th>\n",
       "      <td>6218271854</td>\n",
       "      <td>2021-11-06 16:39:17</td>\n",
       "      <td>Afternoon Run</td>\n",
       "      <td>Run</td>\n",
       "      <td>NaN</td>\n",
       "      <td>2277</td>\n",
       "      <td>6.27</td>\n",
       "      <td>162.0</td>\n",
       "      <td>57.0</td>\n",
       "      <td>False</td>\n",
       "      <td>...</td>\n",
       "      <td>NaN</td>\n",
       "      <td>NaN</td>\n",
       "      <td>NaN</td>\n",
       "      <td>NaN</td>\n",
       "      <td>NaN</td>\n",
       "      <td>NaN</td>\n",
       "      <td>NaN</td>\n",
       "      <td>0.0</td>\n",
       "      <td>2.754690</td>\n",
       "      <td>200.800003</td>\n",
       "    </tr>\n",
       "  </tbody>\n",
       "</table>\n",
       "<p>5 rows × 81 columns</p>\n",
       "</div>"
      ],
      "text/plain": [
       "     Activity ID       Activity Date  Activity Name Activity Type  \\\n",
       "347   6197351390 2021-11-01 22:33:42      Night Run           Run   \n",
       "348   6205400834 2021-11-03 17:58:47  Afternoon Run           Run   \n",
       "349   6208589872 2021-11-04 06:03:05    Morning Run           Run   \n",
       "350   6212987798 2021-11-05 06:51:19    Morning Run           Run   \n",
       "351   6218271854 2021-11-06 16:39:17  Afternoon Run           Run   \n",
       "\n",
       "     Activity Description  Elapsed Time  Distance  Max Heart Rate  \\\n",
       "347                   NaN          2284      6.26           175.0   \n",
       "348                   NaN          2199      6.02           182.0   \n",
       "349                   NaN          2568      6.28           175.0   \n",
       "350                   NaN          2171      6.27           173.0   \n",
       "351                   NaN          2277      6.27           162.0   \n",
       "\n",
       "     Relative Effort  Commute  ...  Cloud Cover Weather Visibility  UV Index  \\\n",
       "347             58.0    False  ...          NaN                NaN       NaN   \n",
       "348             65.0    False  ...          NaN                NaN       NaN   \n",
       "349             45.0    False  ...          NaN                NaN       NaN   \n",
       "350             51.0    False  ...          NaN                NaN       NaN   \n",
       "351             57.0    False  ...          NaN                NaN       NaN   \n",
       "\n",
       "     Weather Ozone  \\\n",
       "347            NaN   \n",
       "348            NaN   \n",
       "349            NaN   \n",
       "350            NaN   \n",
       "351            NaN   \n",
       "\n",
       "     <span class=\"translation_missing\" title=\"translation missing: en-GB.lib.export.portability_exporter.activities.horton_values.jump_count\">Jump Count</span>  \\\n",
       "347                                                NaN                                                                                                            \n",
       "348                                                NaN                                                                                                            \n",
       "349                                                NaN                                                                                                            \n",
       "350                                                NaN                                                                                                            \n",
       "351                                                NaN                                                                                                            \n",
       "\n",
       "     <span class=\"translation_missing\" title=\"translation missing: en-GB.lib.export.portability_exporter.activities.horton_values.total_grit\">Total Grit</span>  \\\n",
       "347                                                NaN                                                                                                            \n",
       "348                                                NaN                                                                                                            \n",
       "349                                                NaN                                                                                                            \n",
       "350                                                NaN                                                                                                            \n",
       "351                                                NaN                                                                                                            \n",
       "\n",
       "     <span class=\"translation_missing\" title=\"translation missing: en-GB.lib.export.portability_exporter.activities.horton_values.avg_flow\">Avg Flow</span>  \\\n",
       "347                                                NaN                                                                                                        \n",
       "348                                                NaN                                                                                                        \n",
       "349                                                NaN                                                                                                        \n",
       "350                                                NaN                                                                                                        \n",
       "351                                                NaN                                                                                                        \n",
       "\n",
       "     <span class=\"translation_missing\" title=\"translation missing: en-GB.lib.export.portability_exporter.activities.horton_values.flagged\">Flagged</span>  \\\n",
       "347                                                0.0                                                                                                      \n",
       "348                                                0.0                                                                                                      \n",
       "349                                                0.0                                                                                                      \n",
       "350                                                0.0                                                                                                      \n",
       "351                                                0.0                                                                                                      \n",
       "\n",
       "     <span class=\"translation_missing\" title=\"translation missing: en-GB.lib.export.portability_exporter.activities.horton_values.avg_elapsed_speed\">Avg Elapsed Speed</span>  \\\n",
       "347                                           2.743726                                                                                                                          \n",
       "348                                           2.737467                                                                                                                          \n",
       "349                                           2.445238                                                                                                                          \n",
       "350                                           2.887840                                                                                                                          \n",
       "351                                           2.754690                                                                                                                          \n",
       "\n",
       "     <span class=\"translation_missing\" title=\"translation missing: en-GB.lib.export.portability_exporter.activities.horton_values.dirt_distance\">Dirt Distance</span>  \n",
       "347                                         171.800003                                                                                                                 \n",
       "348                                         632.099976                                                                                                                 \n",
       "349                                         188.100006                                                                                                                 \n",
       "350                                         197.800003                                                                                                                 \n",
       "351                                         200.800003                                                                                                                 \n",
       "\n",
       "[5 rows x 81 columns]"
      ]
     },
     "execution_count": 7,
     "metadata": {},
     "output_type": "execute_result"
    }
   ],
   "source": [
    "run_data.tail()"
   ]
  },
  {
   "cell_type": "code",
   "execution_count": 8,
   "id": "5fab773f",
   "metadata": {},
   "outputs": [],
   "source": [
    "#create average pace data using elapsed time and distance (min/km)\n",
    "run_data['pace'] = (run_data['Elapsed Time'] / 60) / run_data['Distance']"
   ]
  },
  {
   "cell_type": "markdown",
   "id": "dbdf55c9",
   "metadata": {},
   "source": [
    "## What time of the day do I usually run?\n",
    "\n",
    "We will build a frequency table to visualise which part of the day do I usually run."
   ]
  },
  {
   "cell_type": "code",
   "execution_count": 9,
   "id": "ae1976d3",
   "metadata": {},
   "outputs": [],
   "source": [
    "#create a frequency table (dataframe) of the activity name (which by default is based on time of run) and count\n",
    "run_data_reorder = run_data['Activity Name'].value_counts().rename_axis('type_of_run').reset_index(name='counts')\n",
    "\n",
    "#adding a Pandas Column  based conditions so that we can reorder the frequency table by time of the day of the run later\n",
    "conditions = [(run_data_reorder['type_of_run'] == 'Morning Run'), (run_data_reorder['type_of_run'] == 'Lunch Run'),\n",
    "             (run_data_reorder['type_of_run'] == 'Afternoon Run'), (run_data_reorder['type_of_run'] == 'Evening Run'),\n",
    "             (run_data_reorder['type_of_run'] == 'Night Run')]\n",
    "\n",
    "values = [1,2,3,4,5]\n",
    "\n",
    "#morning run = 1, lunch run = 2, so on and forth\n",
    "run_data_reorder['Period'] = np.select(conditions, values)\n",
    "\n",
    "#sorting, starting from morning to night\n",
    "run_data_reorder = run_data_reorder.sort_values(by = 'Period')"
   ]
  },
  {
   "cell_type": "code",
   "execution_count": 10,
   "id": "2f516b35",
   "metadata": {},
   "outputs": [
    {
     "data": {
      "image/png": "[encoded data removed]",
      "text/plain": [
       "<Figure size 432x288 with 1 Axes>"
      ]
     },
     "metadata": {},
     "output_type": "display_data"
    }
   ],
   "source": [
    "style.use('ggplot')\n",
    "\n",
    "fig, ax = plt.subplots(figsize=(6,4))\n",
    "ax.bar(run_data_reorder['type_of_run'], run_data_reorder['counts'])\n",
    "ax.set_xticks(ax.get_xticks())\n",
    "ax.set_xticklabels(['Morning','Afternoon','Evening','Night'],weight='bold')\n",
    "\n",
    "ax.tick_params(bottom=False)\n",
    "\n",
    "plt.show()"
   ]
  },
  {
   "cell_type": "markdown",
   "id": "a1027016",
   "metadata": {},
   "source": [
    "From above, I predominantly run in the afternoon (1400-1800) and evening (1800-0000), and rarely at night (0000-0600)."
   ]
  },
  {
   "cell_type": "markdown",
   "id": "880f8967",
   "metadata": {},
   "source": [
    "## How far do I usually run?\n",
    "\n",
    "I will build a frequency table and plot it on a histogram to visualise this."
   ]
  },
  {
   "cell_type": "code",
   "execution_count": 11,
   "id": "127e8db4",
   "metadata": {},
   "outputs": [
    {
     "data": {
      "text/plain": [
       "count    352.000000\n",
       "mean       7.038153\n",
       "std        3.464969\n",
       "min        2.000000\n",
       "25%        5.000000\n",
       "50%        6.005000\n",
       "75%       10.000000\n",
       "max       23.000000\n",
       "Name: Distance, dtype: float64"
      ]
     },
     "execution_count": 11,
     "metadata": {},
     "output_type": "execute_result"
    }
   ],
   "source": [
    "#quick overview of the frequency of the distance per run\n",
    "run_data['Distance'].describe()"
   ]
  },
  {
   "cell_type": "code",
   "execution_count": 12,
   "id": "ac96231e",
   "metadata": {},
   "outputs": [
    {
     "data": {
      "image/png": "[encoded data removed]",
      "text/plain": [
       "<Figure size 432x288 with 1 Axes>"
      ]
     },
     "metadata": {},
     "output_type": "display_data"
    }
   ],
   "source": [
    "fig, ax = plt.subplots()\n",
    "ax.hist(run_data['Distance'])\n",
    "\n",
    "plt.show()"
   ]
  },
  {
   "cell_type": "markdown",
   "id": "da43424d",
   "metadata": {},
   "source": [
    "From above, I typically run between 4 to 6km, and rarely run beyond 10km."
   ]
  },
  {
   "cell_type": "markdown",
   "id": "4c913899",
   "metadata": {},
   "source": [
    "## Loading weather data from other source\n",
    "\n",
    "Due to the lack of weather data from Strava, I have extracted the daily weather data from NEA website. However, there are some limitations:\n",
    "* NEA only provides weather data up till Sep 21.\n",
    "* NEA only provides daily mean and max weather data and not by hour.\n",
    "\n",
    "Hence, we will only examine whether weather has an impact on the distance I will cover in a run up till Sep 21. \n",
    "\n",
    "It will also not be fully accurate as the weather data is not granular enough to be by the hour (E.g the temperature when I run in early morning will likely be very different from when I run in the mid-afternoon)."
   ]
  },
  {
   "cell_type": "code",
   "execution_count": 13,
   "id": "1873b65f",
   "metadata": {},
   "outputs": [
    {
     "data": {
      "text/plain": [
       "Timestamp('2020-02-26 18:48:19')"
      ]
     },
     "execution_count": 13,
     "metadata": {},
     "output_type": "execute_result"
    }
   ],
   "source": [
    "#to find out the earliest weather data I need to get. I only started using strava in Feb 20.\n",
    "run_data['Activity Date'].min()"
   ]
  },
  {
   "cell_type": "code",
   "execution_count": 14,
   "id": "61ac1511",
   "metadata": {},
   "outputs": [],
   "source": [
    "#weather data from NEA are available by the month\n",
    "directory = [r'\\202002.csv', r'\\202003.csv', r'\\202005.csv', r'\\202006.csv', r'\\202007.csv', r'\\202008.csv',\n",
    "             r'\\202009.csv', r'\\202010.csv', r'\\202011.csv', r'\\202012.csv', r'\\202101.csv', r'\\202102.csv',\n",
    "             r'\\202103.csv', r'\\202104.csv', r'\\202105.csv', r'\\202106.csv', r'\\202107.csv', r'\\202108.csv', \n",
    "             r'\\202109.csv', ]\n",
    "\n",
    "#there are some issues with the header row for 202002 and 202003, so we will use 202004 as the first block of data to use its\n",
    "#header row`\n",
    "start = pd.read_csv(r'C:\\Users\\Andy\\Desktop\\Learning\\Dataquest\\Project_Strava\\temp\\202004.csv')\n",
    "\n",
    "#use a for loop to concatenate each of the monthly weather csv data\n",
    "for d in directory:\n",
    "    path = r'C:\\Users\\Andy\\Desktop\\Learning\\Dataquest\\Project_Strava\\temp'\n",
    "    add = pd.read_csv(path+d)\n",
    "    add.columns = start.columns #using the original header taken from 202004\n",
    "    full = pd.concat([start, add])\n",
    "    start = full"
   ]
  },
  {
   "cell_type": "code",
   "execution_count": 15,
   "id": "4d38ccc9",
   "metadata": {},
   "outputs": [
    {
     "name": "stdout",
     "output_type": "stream",
     "text": [
      "<class 'pandas.core.frame.DataFrame'>\n",
      "RangeIndex: 348432 entries, 0 to 348431\n",
      "Data columns (total 6 columns):\n",
      " #   Column                Non-Null Count   Dtype         \n",
      "---  ------                --------------   -----         \n",
      " 0   wbt_date              348432 non-null  datetime64[ns]\n",
      " 1   wbt_time              348432 non-null  int64         \n",
      " 2   wet_bulb_temperature  348432 non-null  float64       \n",
      " 3   Year                  348432 non-null  int64         \n",
      " 4   Month                 348432 non-null  int64         \n",
      " 5   Day                   348432 non-null  int64         \n",
      "dtypes: datetime64[ns](1), float64(1), int64(4)\n",
      "memory usage: 16.0 MB\n"
     ]
    }
   ],
   "source": [
    "#found another source of temperature from data.gov.sg (hourly wet bulb)\n",
    "hourly_temp = pd.read_csv(r'C:\\Users\\Andy\\Desktop\\Learning\\Dataquest\\Project_Strava\\wet-bulb-temperature-hourly.csv')\n",
    "\n",
    "#convert date from string to datetime\n",
    "hourly_temp['wbt_date'] = pd.to_datetime(hourly_temp['wbt_date'], format='%Y-%m-%d')\n",
    "\n",
    "#creating new separate columns for year, month, day. For referencing and merging with run data later.\n",
    "hourly_temp['Year'] = hourly_temp['wbt_date'].dt.year\n",
    "hourly_temp['Month'] = hourly_temp['wbt_date'].dt.month\n",
    "hourly_temp['Day'] = hourly_temp['wbt_date'].dt.day\n",
    "\n",
    "hourly_temp.info()"
   ]
  },
  {
   "cell_type": "code",
   "execution_count": 16,
   "id": "03944a3c",
   "metadata": {},
   "outputs": [
    {
     "name": "stdout",
     "output_type": "stream",
     "text": [
      "<class 'pandas.core.frame.DataFrame'>\n",
      "Int64Index: 608 entries, 0 to 29\n",
      "Data columns (total 13 columns):\n",
      " #   Column                         Non-Null Count  Dtype \n",
      "---  ------                         --------------  ----- \n",
      " 0   Station                        608 non-null    object\n",
      " 1   Year                           608 non-null    int64 \n",
      " 2   Month                          608 non-null    int64 \n",
      " 3   Day                            608 non-null    int64 \n",
      " 4   Daily Rainfall Total (mm)      608 non-null    object\n",
      " 5   Highest 30 min Rainfall (mm)   608 non-null    object\n",
      " 6   Highest 60 min Rainfall (mm)   608 non-null    object\n",
      " 7   Highest 120 min Rainfall (mm)  608 non-null    object\n",
      " 8   Mean_Temp                      608 non-null    object\n",
      " 9   Max_Temp                       608 non-null    object\n",
      " 10  Min_Temp                       608 non-null    object\n",
      " 11  Mean_Wind                      608 non-null    object\n",
      " 12  Max_Wind                       608 non-null    object\n",
      "dtypes: int64(3), object(10)\n",
      "memory usage: 66.5+ KB\n"
     ]
    }
   ],
   "source": [
    "#simplifiying the header row\n",
    "full_weather = full.rename(columns={'Mean Temperature (°C)': 'Mean_Temp', 'Maximum Temperature (°C)': 'Max_Temp', \n",
    "                            'Minimum Temperature (°C)': 'Min_Temp', 'Mean Wind Speed (km/h)': 'Mean_Wind',\n",
    "                            'Max Wind Speed (km/h)': 'Max_Wind'})\n",
    "full_weather.info()"
   ]
  },
  {
   "cell_type": "code",
   "execution_count": 17,
   "id": "0eafddba",
   "metadata": {},
   "outputs": [
    {
     "data": {
      "text/plain": [
       "27.9        23\n",
       "-           19\n",
       "27.4        19\n",
       "28.2        19\n",
       "28.1        18\n",
       "            ..\n",
       "    26.0     1\n",
       "    25.4     1\n",
       "    27.2     1\n",
       "23.6         1\n",
       "    29.4     1\n",
       "Name: Mean_Temp, Length: 95, dtype: int64"
      ]
     },
     "execution_count": 17,
     "metadata": {},
     "output_type": "execute_result"
    }
   ],
   "source": [
    "full_weather['Mean_Temp'].value_counts()"
   ]
  },
  {
   "cell_type": "code",
   "execution_count": 18,
   "id": "7ac1eb3e",
   "metadata": {},
   "outputs": [],
   "source": [
    "#initially I had assumed only one data point is missing, but in fact there's more. NEED TO RE-WORK THIS PART.\n",
    "#filling in missing data for temp and wind, referencing another station readings\n",
    "full_weather.loc[full_weather['Mean_Temp'] == '-', 'Mean_Temp'] = 26.6\n",
    "full_weather.loc[full_weather['Max_Temp'] == '-', 'Max_Temp'] = 30.2\n",
    "full_weather.loc[full_weather['Min_Temp'] == '-', 'Min_Temp'] = 24.5\n",
    "full_weather.loc[full_weather['Mean_Wind'] == '-', 'Mean_Wind'] = 6.9\n",
    "full_weather.loc[full_weather['Max_Wind'] == '-', 'Max_Wind'] = 24.1"
   ]
  },
  {
   "cell_type": "code",
   "execution_count": 19,
   "id": "81e17812",
   "metadata": {},
   "outputs": [],
   "source": [
    "#convert from string to float\n",
    "full_weather['Mean_Temp'] = full_weather['Mean_Temp'].astype(float)\n",
    "full_weather['Mean_Wind'] = full_weather['Mean_Wind'].astype(float)"
   ]
  },
  {
   "cell_type": "code",
   "execution_count": 20,
   "id": "7cb575f2",
   "metadata": {},
   "outputs": [],
   "source": [
    "#creating new separate columns based on date of activity. For referencing and merging with weather data.\n",
    "run_data['Year'] = run_data['Activity Date'].dt.year\n",
    "run_data['Month'] = run_data['Activity Date'].dt.month\n",
    "run_data['Day'] = run_data['Activity Date'].dt.day\n",
    "run_data['wbt_time'] = run_data['Activity Date'].dt.hour"
   ]
  },
  {
   "cell_type": "code",
   "execution_count": 21,
   "id": "f12e7a71",
   "metadata": {},
   "outputs": [
    {
     "data": {
      "text/html": [
       "<div>\n",
       "<style scoped>\n",
       "    .dataframe tbody tr th:only-of-type {\n",
       "        vertical-align: middle;\n",
       "    }\n",
       "\n",
       "    .dataframe tbody tr th {\n",
       "        vertical-align: top;\n",
       "    }\n",
       "\n",
       "    .dataframe thead th {\n",
       "        text-align: right;\n",
       "    }\n",
       "</style>\n",
       "<table border=\"1\" class=\"dataframe\">\n",
       "  <thead>\n",
       "    <tr style=\"text-align: right;\">\n",
       "      <th></th>\n",
       "      <th>Activity ID</th>\n",
       "      <th>Activity Date</th>\n",
       "      <th>Activity Name</th>\n",
       "      <th>Activity Type</th>\n",
       "      <th>Activity Description</th>\n",
       "      <th>Elapsed Time</th>\n",
       "      <th>Distance</th>\n",
       "      <th>Max Heart Rate</th>\n",
       "      <th>Relative Effort</th>\n",
       "      <th>Commute</th>\n",
       "      <th>...</th>\n",
       "      <th>Highest 30 min Rainfall (mm)</th>\n",
       "      <th>Highest 60 min Rainfall (mm)</th>\n",
       "      <th>Highest 120 min Rainfall (mm)</th>\n",
       "      <th>Mean_Temp</th>\n",
       "      <th>Max_Temp</th>\n",
       "      <th>Min_Temp</th>\n",
       "      <th>Mean_Wind</th>\n",
       "      <th>Max_Wind</th>\n",
       "      <th>wbt_date</th>\n",
       "      <th>wet_bulb_temperature</th>\n",
       "    </tr>\n",
       "  </thead>\n",
       "  <tbody>\n",
       "    <tr>\n",
       "      <th>0</th>\n",
       "      <td>3421832107</td>\n",
       "      <td>2020-05-04 18:06:05</td>\n",
       "      <td>Evening Run</td>\n",
       "      <td>Run</td>\n",
       "      <td>NaN</td>\n",
       "      <td>1551</td>\n",
       "      <td>5.00</td>\n",
       "      <td>186.0</td>\n",
       "      <td>88.0</td>\n",
       "      <td>False</td>\n",
       "      <td>...</td>\n",
       "      <td>0.2</td>\n",
       "      <td>0.2</td>\n",
       "      <td>0.2</td>\n",
       "      <td>27.8</td>\n",
       "      <td>30.9</td>\n",
       "      <td>26.1</td>\n",
       "      <td>13.0</td>\n",
       "      <td>29.8</td>\n",
       "      <td>2020-05-04</td>\n",
       "      <td>25.4</td>\n",
       "    </tr>\n",
       "    <tr>\n",
       "      <th>1</th>\n",
       "      <td>3421832110</td>\n",
       "      <td>2020-05-03 18:23:01</td>\n",
       "      <td>Evening Run</td>\n",
       "      <td>Run</td>\n",
       "      <td>NaN</td>\n",
       "      <td>811</td>\n",
       "      <td>2.78</td>\n",
       "      <td>177.0</td>\n",
       "      <td>44.0</td>\n",
       "      <td>False</td>\n",
       "      <td>...</td>\n",
       "      <td>4.4</td>\n",
       "      <td>5.6</td>\n",
       "      <td>5.8</td>\n",
       "      <td>28.6</td>\n",
       "      <td>33.1</td>\n",
       "      <td>25.2</td>\n",
       "      <td>9.8</td>\n",
       "      <td>26.3</td>\n",
       "      <td>2020-05-03</td>\n",
       "      <td>26.4</td>\n",
       "    </tr>\n",
       "    <tr>\n",
       "      <th>2</th>\n",
       "      <td>3421832112</td>\n",
       "      <td>2020-04-20 17:41:32</td>\n",
       "      <td>Afternoon Run</td>\n",
       "      <td>Run</td>\n",
       "      <td>NaN</td>\n",
       "      <td>1819</td>\n",
       "      <td>4.00</td>\n",
       "      <td>NaN</td>\n",
       "      <td>NaN</td>\n",
       "      <td>False</td>\n",
       "      <td>...</td>\n",
       "      <td>0.0</td>\n",
       "      <td>0.0</td>\n",
       "      <td>0.0</td>\n",
       "      <td>30.0</td>\n",
       "      <td>34.5</td>\n",
       "      <td>27.2</td>\n",
       "      <td>17.9</td>\n",
       "      <td>37.0</td>\n",
       "      <td>2020-04-20</td>\n",
       "      <td>25.7</td>\n",
       "    </tr>\n",
       "    <tr>\n",
       "      <th>3</th>\n",
       "      <td>3421832113</td>\n",
       "      <td>2020-04-28 17:52:24</td>\n",
       "      <td>Afternoon Run</td>\n",
       "      <td>Run</td>\n",
       "      <td>NaN</td>\n",
       "      <td>1801</td>\n",
       "      <td>5.48</td>\n",
       "      <td>147.0</td>\n",
       "      <td>15.0</td>\n",
       "      <td>False</td>\n",
       "      <td>...</td>\n",
       "      <td>0.0</td>\n",
       "      <td>0.0</td>\n",
       "      <td>0.0</td>\n",
       "      <td>28.4</td>\n",
       "      <td>31.8</td>\n",
       "      <td>26.0</td>\n",
       "      <td>10.9</td>\n",
       "      <td>25.9</td>\n",
       "      <td>2020-04-28</td>\n",
       "      <td>25.3</td>\n",
       "    </tr>\n",
       "    <tr>\n",
       "      <th>4</th>\n",
       "      <td>3421832114</td>\n",
       "      <td>2020-05-03 19:03:42</td>\n",
       "      <td>Evening Run</td>\n",
       "      <td>Run</td>\n",
       "      <td>NaN</td>\n",
       "      <td>1608</td>\n",
       "      <td>5.00</td>\n",
       "      <td>184.0</td>\n",
       "      <td>92.0</td>\n",
       "      <td>False</td>\n",
       "      <td>...</td>\n",
       "      <td>4.4</td>\n",
       "      <td>5.6</td>\n",
       "      <td>5.8</td>\n",
       "      <td>28.6</td>\n",
       "      <td>33.1</td>\n",
       "      <td>25.2</td>\n",
       "      <td>9.8</td>\n",
       "      <td>26.3</td>\n",
       "      <td>2020-05-03</td>\n",
       "      <td>26.4</td>\n",
       "    </tr>\n",
       "  </tbody>\n",
       "</table>\n",
       "<p>5 rows × 98 columns</p>\n",
       "</div>"
      ],
      "text/plain": [
       "   Activity ID       Activity Date  Activity Name Activity Type  \\\n",
       "0   3421832107 2020-05-04 18:06:05    Evening Run           Run   \n",
       "1   3421832110 2020-05-03 18:23:01    Evening Run           Run   \n",
       "2   3421832112 2020-04-20 17:41:32  Afternoon Run           Run   \n",
       "3   3421832113 2020-04-28 17:52:24  Afternoon Run           Run   \n",
       "4   3421832114 2020-05-03 19:03:42    Evening Run           Run   \n",
       "\n",
       "   Activity Description  Elapsed Time  Distance  Max Heart Rate  \\\n",
       "0                   NaN          1551      5.00           186.0   \n",
       "1                   NaN           811      2.78           177.0   \n",
       "2                   NaN          1819      4.00             NaN   \n",
       "3                   NaN          1801      5.48           147.0   \n",
       "4                   NaN          1608      5.00           184.0   \n",
       "\n",
       "   Relative Effort  Commute  ...  Highest 30 min Rainfall (mm)  \\\n",
       "0             88.0    False  ...                           0.2   \n",
       "1             44.0    False  ...                           4.4   \n",
       "2              NaN    False  ...                           0.0   \n",
       "3             15.0    False  ...                           0.0   \n",
       "4             92.0    False  ...                           4.4   \n",
       "\n",
       "  Highest 60 min Rainfall (mm)  Highest 120 min Rainfall (mm)  Mean_Temp  \\\n",
       "0                          0.2                            0.2       27.8   \n",
       "1                          5.6                            5.8       28.6   \n",
       "2                          0.0                            0.0       30.0   \n",
       "3                          0.0                            0.0       28.4   \n",
       "4                          5.6                            5.8       28.6   \n",
       "\n",
       "   Max_Temp  Min_Temp  Mean_Wind  Max_Wind   wbt_date  wet_bulb_temperature  \n",
       "0      30.9      26.1       13.0      29.8 2020-05-04                  25.4  \n",
       "1      33.1      25.2        9.8      26.3 2020-05-03                  26.4  \n",
       "2      34.5      27.2       17.9      37.0 2020-04-20                  25.7  \n",
       "3      31.8      26.0       10.9      25.9 2020-04-28                  25.3  \n",
       "4      33.1      25.2        9.8      26.3 2020-05-03                  26.4  \n",
       "\n",
       "[5 rows x 98 columns]"
      ]
     },
     "execution_count": 21,
     "metadata": {},
     "output_type": "execute_result"
    }
   ],
   "source": [
    "#merging the run data with weather data based on the date of activity\n",
    "#e.g: df_2 = pd.merge(df_2, df_1, on=['State', 'Month'], how='left') \n",
    "\n",
    "run_data = pd.merge(run_data, full_weather, on=['Year','Month','Day'], how='left')\n",
    "run_data = pd.merge(run_data, hourly_temp, on=['Year','Month','Day','wbt_time'], how='left')\n",
    "\n",
    "run_data.head()"
   ]
  },
  {
   "cell_type": "code",
   "execution_count": 22,
   "id": "a831fe72",
   "metadata": {},
   "outputs": [],
   "source": [
    "#since we only have weather data until Sep 2021, \n",
    "#we will isolate the running data till this date in order to do analysis with weather\n",
    "\n",
    "end_date = datetime.strptime('2021-09-30', '%Y-%m-%d')\n",
    "run_data_till_sep21 = run_data[run_data['Activity Date'] <= end_date]"
   ]
  },
  {
   "cell_type": "code",
   "execution_count": 23,
   "id": "91800800",
   "metadata": {},
   "outputs": [
    {
     "data": {
      "text/html": [
       "<div>\n",
       "<style scoped>\n",
       "    .dataframe tbody tr th:only-of-type {\n",
       "        vertical-align: middle;\n",
       "    }\n",
       "\n",
       "    .dataframe tbody tr th {\n",
       "        vertical-align: top;\n",
       "    }\n",
       "\n",
       "    .dataframe thead th {\n",
       "        text-align: right;\n",
       "    }\n",
       "</style>\n",
       "<table border=\"1\" class=\"dataframe\">\n",
       "  <thead>\n",
       "    <tr style=\"text-align: right;\">\n",
       "      <th></th>\n",
       "      <th>Activity ID</th>\n",
       "      <th>Activity Date</th>\n",
       "      <th>Activity Name</th>\n",
       "      <th>Activity Type</th>\n",
       "      <th>Activity Description</th>\n",
       "      <th>Elapsed Time</th>\n",
       "      <th>Distance</th>\n",
       "      <th>Max Heart Rate</th>\n",
       "      <th>Relative Effort</th>\n",
       "      <th>Commute</th>\n",
       "      <th>...</th>\n",
       "      <th>Highest 30 min Rainfall (mm)</th>\n",
       "      <th>Highest 60 min Rainfall (mm)</th>\n",
       "      <th>Highest 120 min Rainfall (mm)</th>\n",
       "      <th>Mean_Temp</th>\n",
       "      <th>Max_Temp</th>\n",
       "      <th>Min_Temp</th>\n",
       "      <th>Mean_Wind</th>\n",
       "      <th>Max_Wind</th>\n",
       "      <th>wbt_date</th>\n",
       "      <th>wet_bulb_temperature</th>\n",
       "    </tr>\n",
       "  </thead>\n",
       "  <tbody>\n",
       "    <tr>\n",
       "      <th>329</th>\n",
       "      <td>5964157211</td>\n",
       "      <td>2021-09-15 18:13:20</td>\n",
       "      <td>Evening Run</td>\n",
       "      <td>Run</td>\n",
       "      <td>NaN</td>\n",
       "      <td>2303</td>\n",
       "      <td>6.25</td>\n",
       "      <td>183.0</td>\n",
       "      <td>58.0</td>\n",
       "      <td>False</td>\n",
       "      <td>...</td>\n",
       "      <td>0.0</td>\n",
       "      <td>0.0</td>\n",
       "      <td>0.0</td>\n",
       "      <td>28.8</td>\n",
       "      <td>34.2</td>\n",
       "      <td>25.7</td>\n",
       "      <td>14.2</td>\n",
       "      <td>44.3</td>\n",
       "      <td>2021-09-15</td>\n",
       "      <td>25.8</td>\n",
       "    </tr>\n",
       "    <tr>\n",
       "      <th>330</th>\n",
       "      <td>5974172601</td>\n",
       "      <td>2021-09-17 18:56:44</td>\n",
       "      <td>Evening Run</td>\n",
       "      <td>Run</td>\n",
       "      <td>NaN</td>\n",
       "      <td>2763</td>\n",
       "      <td>8.10</td>\n",
       "      <td>181.0</td>\n",
       "      <td>77.0</td>\n",
       "      <td>False</td>\n",
       "      <td>...</td>\n",
       "      <td>0.0</td>\n",
       "      <td>0.0</td>\n",
       "      <td>0.0</td>\n",
       "      <td>29.0</td>\n",
       "      <td>33.9</td>\n",
       "      <td>25.2</td>\n",
       "      <td>18.9</td>\n",
       "      <td>45.4</td>\n",
       "      <td>2021-09-17</td>\n",
       "      <td>25.8</td>\n",
       "    </tr>\n",
       "    <tr>\n",
       "      <th>331</th>\n",
       "      <td>5979042843</td>\n",
       "      <td>2021-09-18 17:31:18</td>\n",
       "      <td>Afternoon Run</td>\n",
       "      <td>Run</td>\n",
       "      <td>NaN</td>\n",
       "      <td>3710</td>\n",
       "      <td>10.18</td>\n",
       "      <td>204.0</td>\n",
       "      <td>97.0</td>\n",
       "      <td>False</td>\n",
       "      <td>...</td>\n",
       "      <td>0.0</td>\n",
       "      <td>0.0</td>\n",
       "      <td>0.0</td>\n",
       "      <td>28.7</td>\n",
       "      <td>33.4</td>\n",
       "      <td>26.1</td>\n",
       "      <td>15.2</td>\n",
       "      <td>38.5</td>\n",
       "      <td>2021-09-18</td>\n",
       "      <td>25.0</td>\n",
       "    </tr>\n",
       "    <tr>\n",
       "      <th>332</th>\n",
       "      <td>5990244569</td>\n",
       "      <td>2021-09-20 18:48:41</td>\n",
       "      <td>Evening Run</td>\n",
       "      <td>Run</td>\n",
       "      <td>NaN</td>\n",
       "      <td>3622</td>\n",
       "      <td>10.40</td>\n",
       "      <td>151.0</td>\n",
       "      <td>61.0</td>\n",
       "      <td>False</td>\n",
       "      <td>...</td>\n",
       "      <td>0.0</td>\n",
       "      <td>0.0</td>\n",
       "      <td>0.0</td>\n",
       "      <td>28.4</td>\n",
       "      <td>32.4</td>\n",
       "      <td>24.4</td>\n",
       "      <td>9.8</td>\n",
       "      <td>25.2</td>\n",
       "      <td>2021-09-20</td>\n",
       "      <td>24.4</td>\n",
       "    </tr>\n",
       "    <tr>\n",
       "      <th>333</th>\n",
       "      <td>6021099203</td>\n",
       "      <td>2021-09-26 16:34:03</td>\n",
       "      <td>Afternoon Run</td>\n",
       "      <td>Run</td>\n",
       "      <td>NaN</td>\n",
       "      <td>2847</td>\n",
       "      <td>8.18</td>\n",
       "      <td>181.0</td>\n",
       "      <td>86.0</td>\n",
       "      <td>False</td>\n",
       "      <td>...</td>\n",
       "      <td>0.4</td>\n",
       "      <td>0.4</td>\n",
       "      <td>0.4</td>\n",
       "      <td>27.9</td>\n",
       "      <td>32.3</td>\n",
       "      <td>25.1</td>\n",
       "      <td>17.8</td>\n",
       "      <td>46.1</td>\n",
       "      <td>2021-09-26</td>\n",
       "      <td>25.6</td>\n",
       "    </tr>\n",
       "  </tbody>\n",
       "</table>\n",
       "<p>5 rows × 98 columns</p>\n",
       "</div>"
      ],
      "text/plain": [
       "     Activity ID       Activity Date  Activity Name Activity Type  \\\n",
       "329   5964157211 2021-09-15 18:13:20    Evening Run           Run   \n",
       "330   5974172601 2021-09-17 18:56:44    Evening Run           Run   \n",
       "331   5979042843 2021-09-18 17:31:18  Afternoon Run           Run   \n",
       "332   5990244569 2021-09-20 18:48:41    Evening Run           Run   \n",
       "333   6021099203 2021-09-26 16:34:03  Afternoon Run           Run   \n",
       "\n",
       "     Activity Description  Elapsed Time  Distance  Max Heart Rate  \\\n",
       "329                   NaN          2303      6.25           183.0   \n",
       "330                   NaN          2763      8.10           181.0   \n",
       "331                   NaN          3710     10.18           204.0   \n",
       "332                   NaN          3622     10.40           151.0   \n",
       "333                   NaN          2847      8.18           181.0   \n",
       "\n",
       "     Relative Effort  Commute  ...  Highest 30 min Rainfall (mm)  \\\n",
       "329             58.0    False  ...                           0.0   \n",
       "330             77.0    False  ...                           0.0   \n",
       "331             97.0    False  ...                           0.0   \n",
       "332             61.0    False  ...                           0.0   \n",
       "333             86.0    False  ...                           0.4   \n",
       "\n",
       "    Highest 60 min Rainfall (mm)  Highest 120 min Rainfall (mm)  Mean_Temp  \\\n",
       "329                          0.0                            0.0       28.8   \n",
       "330                          0.0                            0.0       29.0   \n",
       "331                          0.0                            0.0       28.7   \n",
       "332                          0.0                            0.0       28.4   \n",
       "333                          0.4                            0.4       27.9   \n",
       "\n",
       "     Max_Temp  Min_Temp  Mean_Wind  Max_Wind   wbt_date  wet_bulb_temperature  \n",
       "329      34.2      25.7       14.2      44.3 2021-09-15                  25.8  \n",
       "330      33.9      25.2       18.9      45.4 2021-09-17                  25.8  \n",
       "331      33.4      26.1       15.2      38.5 2021-09-18                  25.0  \n",
       "332      32.4      24.4        9.8      25.2 2021-09-20                  24.4  \n",
       "333      32.3      25.1       17.8      46.1 2021-09-26                  25.6  \n",
       "\n",
       "[5 rows x 98 columns]"
      ]
     },
     "execution_count": 23,
     "metadata": {},
     "output_type": "execute_result"
    }
   ],
   "source": [
    "run_data_till_sep21.tail()"
   ]
  },
  {
   "cell_type": "code",
   "execution_count": 24,
   "id": "791aa626",
   "metadata": {},
   "outputs": [],
   "source": [
    "#finding weather data for specific day\n",
    "#full_weather[(full_weather['Year'] == 2021) & (full_weather['Month'] == 11) & (full_weather['Day'] == 6)]\n",
    "\n",
    "#finding wbt for specific day\n",
    "#hourly_temp[(hourly_temp['Year'] == 2020) & (hourly_temp['Month'] == 5) & (hourly_temp['Day'] == 3) &\n",
    "#            (hourly_temp['wbt_time'] == 18)]"
   ]
  },
  {
   "cell_type": "markdown",
   "id": "842c0c98",
   "metadata": {},
   "source": [
    "# Impact on my running distance\n",
    "\n",
    "## Do I cut my run short if it is hot?"
   ]
  },
  {
   "cell_type": "code",
   "execution_count": 35,
   "id": "1a4cc071",
   "metadata": {},
   "outputs": [
    {
     "data": {
      "text/plain": [
       "wet_bulb_temperature   -0.144415\n",
       "Name: Distance, dtype: float64"
      ]
     },
     "execution_count": 35,
     "metadata": {},
     "output_type": "execute_result"
    }
   ],
   "source": [
    "run_data_till_sep21.corr()['Distance'][['wet_bulb_temperature']]"
   ]
  },
  {
   "cell_type": "code",
   "execution_count": 36,
   "id": "2d1b5843",
   "metadata": {},
   "outputs": [
    {
     "data": {
      "image/png": "[encoded data removed]",
      "text/plain": [
       "<Figure size 432x288 with 1 Axes>"
      ]
     },
     "metadata": {},
     "output_type": "display_data"
    }
   ],
   "source": [
    "fig, ax = plt.subplots()\n",
    "ax.scatter(run_data_till_sep21['Distance'], run_data_till_sep21['wet_bulb_temperature'])\n",
    "\n",
    "plt.show()"
   ]
  },
  {
   "cell_type": "markdown",
   "id": "f09a8955",
   "metadata": {},
   "source": [
    "While we may expect a run to be shorter if the temperature is higher, the data indicates a weak negative correlation.\n",
    "\n",
    "However, we should note the earlier caveat that this may not be fully accurate as the weather data is not granular enough to be by the hour."
   ]
  },
  {
   "cell_type": "markdown",
   "id": "c6137cde",
   "metadata": {},
   "source": [
    "## Do I get carried or get stopped by the wind?"
   ]
  },
  {
   "cell_type": "code",
   "execution_count": 27,
   "id": "05c44a21",
   "metadata": {},
   "outputs": [
    {
     "data": {
      "text/plain": [
       "Mean_Wind    0.197786\n",
       "Name: Distance, dtype: float64"
      ]
     },
     "execution_count": 27,
     "metadata": {},
     "output_type": "execute_result"
    }
   ],
   "source": [
    "run_data_till_sep21.corr()['Distance'][['Mean_Wind']]"
   ]
  },
  {
   "cell_type": "code",
   "execution_count": 28,
   "id": "a17d2b57",
   "metadata": {},
   "outputs": [
    {
     "data": {
      "image/png": "[encoded data removed]",
      "text/plain": [
       "<Figure size 432x288 with 1 Axes>"
      ]
     },
     "metadata": {},
     "output_type": "display_data"
    }
   ],
   "source": [
    "fig, ax = plt.subplots()\n",
    "ax.scatter(run_data_till_sep21['Distance'], run_data_till_sep21['Mean_Wind'])\n",
    "\n",
    "plt.show()"
   ]
  },
  {
   "cell_type": "markdown",
   "id": "859a3a61",
   "metadata": {},
   "source": [
    "Similarly, the data indicates a weak correlation and does not seemed to indicate that wind speed had an impact on my distance.\n",
    "\n",
    "Again, we should note the caveat that this may not be fully accurate."
   ]
  },
  {
   "cell_type": "markdown",
   "id": "75c8a1e6",
   "metadata": {},
   "source": [
    "## The longer I run, the more effort required?"
   ]
  },
  {
   "cell_type": "code",
   "execution_count": 29,
   "id": "43252a17",
   "metadata": {},
   "outputs": [
    {
     "data": {
      "text/plain": [
       "Relative Effort    0.89584\n",
       "Name: Distance, dtype: float64"
      ]
     },
     "execution_count": 29,
     "metadata": {},
     "output_type": "execute_result"
    }
   ],
   "source": [
    "run_data.corr()['Distance'][['Relative Effort']]"
   ]
  },
  {
   "cell_type": "code",
   "execution_count": 30,
   "id": "da29c2c4",
   "metadata": {},
   "outputs": [
    {
     "data": {
      "image/png": "[encoded data removed]",
      "text/plain": [
       "<Figure size 432x288 with 1 Axes>"
      ]
     },
     "metadata": {},
     "output_type": "display_data"
    }
   ],
   "source": [
    "fig, ax = plt.subplots()\n",
    "ax.scatter(run_data['Distance'], run_data['Relative Effort'])\n",
    "\n",
    "plt.show()"
   ]
  },
  {
   "cell_type": "markdown",
   "id": "734b51b9",
   "metadata": {},
   "source": [
    "As expected, there is a strong positive correlation between distance and relative effort. We would expect a higher exertion as the distance increases.\n",
    "\n",
    "Not surprising as based on Strava, the more time you spend going full gas and the longer the activity, the higher the relative effort."
   ]
  },
  {
   "cell_type": "markdown",
   "id": "e7f9c695",
   "metadata": {},
   "source": [
    "# Impact on my pace\n",
    "\n",
    "## Do I run slower if it is hot?"
   ]
  },
  {
   "cell_type": "code",
   "execution_count": 37,
   "id": "18a17c81",
   "metadata": {},
   "outputs": [
    {
     "data": {
      "text/plain": [
       "wet_bulb_temperature   -0.047066\n",
       "Name: pace, dtype: float64"
      ]
     },
     "execution_count": 37,
     "metadata": {},
     "output_type": "execute_result"
    }
   ],
   "source": [
    "run_data_till_sep21.corr()['pace'][['wet_bulb_temperature']]"
   ]
  },
  {
   "cell_type": "code",
   "execution_count": 38,
   "id": "f09f96d2",
   "metadata": {},
   "outputs": [
    {
     "data": {
      "image/png": "[encoded data removed]",
      "text/plain": [
       "<Figure size 432x288 with 1 Axes>"
      ]
     },
     "metadata": {},
     "output_type": "display_data"
    }
   ],
   "source": [
    "fig, ax = plt.subplots()\n",
    "ax.scatter(run_data_till_sep21['pace'], run_data_till_sep21['wet_bulb_temperature'])\n",
    "\n",
    "plt.show()"
   ]
  },
  {
   "cell_type": "markdown",
   "id": "ccd0a687",
   "metadata": {},
   "source": [
    "Again, a weak correlation between pace and daily mean temperature."
   ]
  },
  {
   "cell_type": "markdown",
   "id": "5ebb2873",
   "metadata": {},
   "source": [
    "## Do I run faster if it is windy?"
   ]
  },
  {
   "cell_type": "code",
   "execution_count": 33,
   "id": "bd36712d",
   "metadata": {},
   "outputs": [
    {
     "data": {
      "text/plain": [
       "Mean_Wind    0.167602\n",
       "Name: pace, dtype: float64"
      ]
     },
     "execution_count": 33,
     "metadata": {},
     "output_type": "execute_result"
    }
   ],
   "source": [
    "run_data_till_sep21.corr()['pace'][['Mean_Wind']]"
   ]
  },
  {
   "cell_type": "code",
   "execution_count": 34,
   "id": "54f71818",
   "metadata": {},
   "outputs": [
    {
     "data": {
      "image/png": "[encoded data removed]",
      "text/plain": [
       "<Figure size 432x288 with 1 Axes>"
      ]
     },
     "metadata": {},
     "output_type": "display_data"
    }
   ],
   "source": [
    "fig, ax = plt.subplots()\n",
    "ax.scatter(run_data_till_sep21['pace'], run_data_till_sep21['Mean_Wind'])\n",
    "\n",
    "plt.show()"
   ]
  },
  {
   "cell_type": "markdown",
   "id": "d2b2f413",
   "metadata": {},
   "source": [
    "Similarly, a weak correlation between pace and windspeed."
   ]
  },
  {
   "cell_type": "markdown",
   "id": "2060ced8",
   "metadata": {},
   "source": [
    "# Conclusion\n",
    "\n",
    "Preliminary from the data available, weather does not have a significant impact on the distance or pace. However, we note that due to the limitation in the granularity of weather data, this may not be entirely accurate."
   ]
  }
 ],
 "metadata": {
  "kernelspec": {
   "display_name": "Python 3",
   "language": "python",
   "name": "python3"
  },
  "language_info": {
   "codemirror_mode": {
    "name": "ipython",
    "version": 3
   },
   "file_extension": ".py",
   "mimetype": "text/x-python",
   "name": "python",
   "nbconvert_exporter": "python",
   "pygments_lexer": "ipython3",
   "version": "3.8.8"
  }
 },
 "nbformat": 4,
 "nbformat_minor": 5
}
