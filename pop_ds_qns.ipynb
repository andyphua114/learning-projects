{
 "cells": [
  {
   "cell_type": "markdown",
   "id": "ed4b5a67",
   "metadata": {},
   "source": [
    "# Popular Data Science Questions\n",
    "\n",
    "In this project, you are working for a company that creates data science content, be it books, online articles, videos or interactive text-based platforms. You are tasked with figuring out what is best content to write about.\n",
    "\n",
    "To begin, we can try and reference website like Stack Exchange. We will focus on Data Science Stack Exchange (DSSE) as it is a data science dedicated site (contrarily to the others), coupled with it having a lot of unanswered questions. This makes it an ideal candidate for this investigation."
   ]
  },
  {
   "cell_type": "markdown",
   "id": "dcdb1ca0",
   "metadata": {},
   "source": [
    "## Understanding Data Science Stack Exchange\n",
    "\n",
    "We will have a quick look at DSSE to better understanding what it is about, so as to aid our analysis later.\n",
    "\n",
    "### Type of questions on the site\n",
    "\n",
    "* Make sure that the question is on-topic\n",
    "* Avoid asking subjective questions\n",
    "* Summarise the problem, provide details, and describe what were tried\n",
    "\n",
    "### Other information on the site\n",
    "\n",
    "* Tags to categorise questions to easily find and answer\n",
    "* Users, which can be sorted by Reputation, New users, Voters, Editors and Moderators\n",
    "* Unanswered questions with no upvoted or accepted answers\n",
    "\n",
    "### Information available on each post\n",
    "\n",
    "* Title of the post\n",
    "* When the question was asked\n",
    "* When the post was last active\n",
    "* View counts of the post\n",
    "* Details of the post\n",
    "* Upvote/downvote of the post\n",
    "* Answers, which can be sorted by Active, Oldest or Votes\n",
    "* Upvote/downvote of the answer"
   ]
  },
  {
   "cell_type": "markdown",
   "id": "8e395491",
   "metadata": {},
   "source": [
    "### Exploring DSSE's data model\n",
    "\n",
    "Stack Exchange provides a public database for each of its websites.\n",
    "\n",
    "If we look at the Tags database,\n",
    "* Top five tags are: machine-learning, python, deep-learning, neural-network, and classification\n",
    "\n",
    "If we look at the Posts database, we could make use of the following to gauge the popularity level:\n",
    "* PostTypeId\n",
    "* CreationDate\n",
    "* ViewCount\n",
    "* Score\n",
    "* Tags\n",
    "* AnswerCount\n",
    "* CommentCount\n",
    "* FavoriteCount"
   ]
  },
  {
   "cell_type": "markdown",
   "id": "6fe431c6",
   "metadata": {},
   "source": [
    "## Exploring the Data"
   ]
  },
  {
   "cell_type": "code",
   "execution_count": 1,
   "id": "89710b08",
   "metadata": {},
   "outputs": [],
   "source": [
    "import numpy as np\n",
    "import pandas as pd\n",
    "import matplotlib.pyplot as plt\n",
    "%matplotlib inline\n",
    "import datetime as dt"
   ]
  },
  {
   "cell_type": "code",
   "execution_count": 2,
   "id": "15a825d6",
   "metadata": {},
   "outputs": [],
   "source": [
    "questions = pd.read_csv(r'C:\\Users\\Andy\\Desktop\\Learning\\Dataquest\\Project_10\\2019_questions.csv', parse_dates=['CreationDate'])"
   ]
  },
  {
   "cell_type": "code",
   "execution_count": 3,
   "id": "82450605",
   "metadata": {},
   "outputs": [
    {
     "name": "stdout",
     "output_type": "stream",
     "text": [
      "<class 'pandas.core.frame.DataFrame'>\n",
      "RangeIndex: 8839 entries, 0 to 8838\n",
      "Data columns (total 7 columns):\n",
      " #   Column         Non-Null Count  Dtype         \n",
      "---  ------         --------------  -----         \n",
      " 0   Id             8839 non-null   int64         \n",
      " 1   CreationDate   8839 non-null   datetime64[ns]\n",
      " 2   Score          8839 non-null   int64         \n",
      " 3   ViewCount      8839 non-null   int64         \n",
      " 4   Tags           8839 non-null   object        \n",
      " 5   AnswerCount    8839 non-null   int64         \n",
      " 6   FavoriteCount  1407 non-null   float64       \n",
      "dtypes: datetime64[ns](1), float64(1), int64(4), object(1)\n",
      "memory usage: 483.5+ KB\n"
     ]
    }
   ],
   "source": [
    "questions.info()"
   ]
  },
  {
   "cell_type": "code",
   "execution_count": 4,
   "id": "f13a6091",
   "metadata": {},
   "outputs": [
    {
     "data": {
      "text/html": [
       "<div>\n",
       "<style scoped>\n",
       "    .dataframe tbody tr th:only-of-type {\n",
       "        vertical-align: middle;\n",
       "    }\n",
       "\n",
       "    .dataframe tbody tr th {\n",
       "        vertical-align: top;\n",
       "    }\n",
       "\n",
       "    .dataframe thead th {\n",
       "        text-align: right;\n",
       "    }\n",
       "</style>\n",
       "<table border=\"1\" class=\"dataframe\">\n",
       "  <thead>\n",
       "    <tr style=\"text-align: right;\">\n",
       "      <th></th>\n",
       "      <th>Id</th>\n",
       "      <th>CreationDate</th>\n",
       "      <th>Score</th>\n",
       "      <th>ViewCount</th>\n",
       "      <th>Tags</th>\n",
       "      <th>AnswerCount</th>\n",
       "      <th>FavoriteCount</th>\n",
       "    </tr>\n",
       "  </thead>\n",
       "  <tbody>\n",
       "    <tr>\n",
       "      <th>0</th>\n",
       "      <td>44419</td>\n",
       "      <td>2019-01-23 09:21:13</td>\n",
       "      <td>1</td>\n",
       "      <td>21</td>\n",
       "      <td>&lt;machine-learning&gt;&lt;data-mining&gt;</td>\n",
       "      <td>0</td>\n",
       "      <td>NaN</td>\n",
       "    </tr>\n",
       "    <tr>\n",
       "      <th>1</th>\n",
       "      <td>44420</td>\n",
       "      <td>2019-01-23 09:34:01</td>\n",
       "      <td>0</td>\n",
       "      <td>25</td>\n",
       "      <td>&lt;machine-learning&gt;&lt;regression&gt;&lt;linear-regressi...</td>\n",
       "      <td>0</td>\n",
       "      <td>NaN</td>\n",
       "    </tr>\n",
       "    <tr>\n",
       "      <th>2</th>\n",
       "      <td>44423</td>\n",
       "      <td>2019-01-23 09:58:41</td>\n",
       "      <td>2</td>\n",
       "      <td>1651</td>\n",
       "      <td>&lt;python&gt;&lt;time-series&gt;&lt;forecast&gt;&lt;forecasting&gt;</td>\n",
       "      <td>0</td>\n",
       "      <td>NaN</td>\n",
       "    </tr>\n",
       "    <tr>\n",
       "      <th>3</th>\n",
       "      <td>44427</td>\n",
       "      <td>2019-01-23 10:57:09</td>\n",
       "      <td>0</td>\n",
       "      <td>55</td>\n",
       "      <td>&lt;machine-learning&gt;&lt;scikit-learn&gt;&lt;pca&gt;</td>\n",
       "      <td>1</td>\n",
       "      <td>NaN</td>\n",
       "    </tr>\n",
       "    <tr>\n",
       "      <th>4</th>\n",
       "      <td>44428</td>\n",
       "      <td>2019-01-23 11:02:15</td>\n",
       "      <td>0</td>\n",
       "      <td>19</td>\n",
       "      <td>&lt;dataset&gt;&lt;bigdata&gt;&lt;data&gt;&lt;speech-to-text&gt;</td>\n",
       "      <td>0</td>\n",
       "      <td>NaN</td>\n",
       "    </tr>\n",
       "  </tbody>\n",
       "</table>\n",
       "</div>"
      ],
      "text/plain": [
       "      Id        CreationDate  Score  ViewCount  \\\n",
       "0  44419 2019-01-23 09:21:13      1         21   \n",
       "1  44420 2019-01-23 09:34:01      0         25   \n",
       "2  44423 2019-01-23 09:58:41      2       1651   \n",
       "3  44427 2019-01-23 10:57:09      0         55   \n",
       "4  44428 2019-01-23 11:02:15      0         19   \n",
       "\n",
       "                                                Tags  AnswerCount  \\\n",
       "0                    <machine-learning><data-mining>            0   \n",
       "1  <machine-learning><regression><linear-regressi...            0   \n",
       "2       <python><time-series><forecast><forecasting>            0   \n",
       "3              <machine-learning><scikit-learn><pca>            1   \n",
       "4           <dataset><bigdata><data><speech-to-text>            0   \n",
       "\n",
       "   FavoriteCount  \n",
       "0            NaN  \n",
       "1            NaN  \n",
       "2            NaN  \n",
       "3            NaN  \n",
       "4            NaN  "
      ]
     },
     "execution_count": 4,
     "metadata": {},
     "output_type": "execute_result"
    }
   ],
   "source": [
    "questions.head(5)"
   ]
  },
  {
   "cell_type": "code",
   "execution_count": 5,
   "id": "9e7f9e73",
   "metadata": {},
   "outputs": [
    {
     "data": {
      "text/plain": [
       "array([nan,  1.,  2.,  3.,  0., 11.,  4.,  5.,  7.,  6., 16.,  8.])"
      ]
     },
     "execution_count": 5,
     "metadata": {},
     "output_type": "execute_result"
    }
   ],
   "source": [
    "questions['FavoriteCount'].unique()"
   ]
  },
  {
   "cell_type": "markdown",
   "id": "2927603e",
   "metadata": {},
   "source": [
    "We notice that there are missing values in `FavoriteCount` and it is formatted as `float64` type. To correct the missing values, we can replace the null value with 0 instead. Since the count should be integer, we can also format it as such.\n",
    "\n",
    "For `Tags`, we notice that multiple tags are combined together and each tag is separated by `<>`, which can be used to seperate them into each unique tag."
   ]
  },
  {
   "cell_type": "code",
   "execution_count": 6,
   "id": "96a258a9",
   "metadata": {},
   "outputs": [],
   "source": [
    "# correct missing values in FavoriteCount with 0\n",
    "questions['FavoriteCount'].fillna(0, inplace=True)\n",
    "questions['FavoriteCount'] = questions['FavoriteCount'].astype('int64')"
   ]
  },
  {
   "cell_type": "code",
   "execution_count": 7,
   "id": "eac1468b",
   "metadata": {},
   "outputs": [],
   "source": [
    "questions['Tags'] = questions['Tags'].str.replace(\"^<|>$\",\"\", regex=True)\n",
    "questions['Tags'] = questions['Tags'].str.split(\"><\")"
   ]
  },
  {
   "cell_type": "markdown",
   "id": "c96eb3e6",
   "metadata": {},
   "source": [
    "We now focus on determining the most popular tags. We will do so by considering two different popularity proxies. For each tag we will:\n",
    "* count how many times the tag was used\n",
    "* how many times a question with that tag was viewed"
   ]
  },
  {
   "cell_type": "code",
   "execution_count": 8,
   "id": "c04a10ce",
   "metadata": {},
   "outputs": [
    {
     "data": {
      "text/plain": [
       "0                      [machine-learning, data-mining]\n",
       "1    [machine-learning, regression, linear-regressi...\n",
       "2         [python, time-series, forecast, forecasting]\n",
       "3                [machine-learning, scikit-learn, pca]\n",
       "4             [dataset, bigdata, data, speech-to-text]\n",
       "Name: Tags, dtype: object"
      ]
     },
     "execution_count": 8,
     "metadata": {},
     "output_type": "execute_result"
    }
   ],
   "source": [
    "questions['Tags'].head()"
   ]
  },
  {
   "cell_type": "code",
   "execution_count": 9,
   "id": "5442f52c",
   "metadata": {},
   "outputs": [],
   "source": [
    "tag_count_dict = {}\n",
    "\n",
    "for tags in questions['Tags']:\n",
    "    for t in tags:\n",
    "        if t in tag_count_dict:\n",
    "            tag_count_dict[t] += 1\n",
    "        else:\n",
    "            tag_count_dict[t] = 1          "
   ]
  },
  {
   "cell_type": "code",
   "execution_count": 10,
   "id": "b97aec51",
   "metadata": {},
   "outputs": [],
   "source": [
    "tag_count = pd.DataFrame.from_dict(tag_count_dict, orient='index', columns=['count']).sort_values(by='count',ascending=False)"
   ]
  },
  {
   "cell_type": "code",
   "execution_count": 11,
   "id": "7d087496",
   "metadata": {},
   "outputs": [
    {
     "data": {
      "text/html": [
       "<div>\n",
       "<style scoped>\n",
       "    .dataframe tbody tr th:only-of-type {\n",
       "        vertical-align: middle;\n",
       "    }\n",
       "\n",
       "    .dataframe tbody tr th {\n",
       "        vertical-align: top;\n",
       "    }\n",
       "\n",
       "    .dataframe thead th {\n",
       "        text-align: right;\n",
       "    }\n",
       "</style>\n",
       "<table border=\"1\" class=\"dataframe\">\n",
       "  <thead>\n",
       "    <tr style=\"text-align: right;\">\n",
       "      <th></th>\n",
       "      <th>count</th>\n",
       "    </tr>\n",
       "  </thead>\n",
       "  <tbody>\n",
       "    <tr>\n",
       "      <th>machine-learning</th>\n",
       "      <td>2693</td>\n",
       "    </tr>\n",
       "    <tr>\n",
       "      <th>python</th>\n",
       "      <td>1814</td>\n",
       "    </tr>\n",
       "    <tr>\n",
       "      <th>deep-learning</th>\n",
       "      <td>1220</td>\n",
       "    </tr>\n",
       "    <tr>\n",
       "      <th>neural-network</th>\n",
       "      <td>1055</td>\n",
       "    </tr>\n",
       "    <tr>\n",
       "      <th>keras</th>\n",
       "      <td>935</td>\n",
       "    </tr>\n",
       "  </tbody>\n",
       "</table>\n",
       "</div>"
      ],
      "text/plain": [
       "                  count\n",
       "machine-learning   2693\n",
       "python             1814\n",
       "deep-learning      1220\n",
       "neural-network     1055\n",
       "keras               935"
      ]
     },
     "execution_count": 11,
     "metadata": {},
     "output_type": "execute_result"
    }
   ],
   "source": [
    "tag_count.head()"
   ]
  },
  {
   "cell_type": "code",
   "execution_count": 12,
   "id": "a6fba163",
   "metadata": {},
   "outputs": [],
   "source": [
    "tag_count_top20 = tag_count.iloc[0:20].copy()\n",
    "\n",
    "tag_count_top20.sort_values(by='count',ascending=True,inplace=True)"
   ]
  },
  {
   "cell_type": "code",
   "execution_count": 13,
   "id": "2aa91b6e",
   "metadata": {},
   "outputs": [
    {
     "data": {
      "image/png": "[encoded data removed]",
      "text/plain": [
       "<Figure size 720x576 with 1 Axes>"
      ]
     },
     "metadata": {
      "needs_background": "light"
     },
     "output_type": "display_data"
    }
   ],
   "source": [
    "fig, ax = plt.subplots(figsize=(10,8))\n",
    "\n",
    "ax.barh(tag_count_top20.index, tag_count_top20['count'], height=0.6)\n",
    "ax.text(x=0, y=21, s='Number of Uses in Posts', size=12, weight='bold')\n",
    "\n",
    "plt.show()"
   ]
  },
  {
   "cell_type": "code",
   "execution_count": 14,
   "id": "eb483773",
   "metadata": {},
   "outputs": [],
   "source": [
    "tag_viewcount_dict = {}\n",
    "\n",
    "for index, row in questions.iterrows():\n",
    "    for tags in row['Tags']:\n",
    "        if tags in tag_viewcount_dict:\n",
    "            tag_viewcount_dict[tags] += row['ViewCount']\n",
    "        else:\n",
    "            tag_viewcount_dict[tags] = row['ViewCount']             "
   ]
  },
  {
   "cell_type": "code",
   "execution_count": 15,
   "id": "5984c961",
   "metadata": {},
   "outputs": [],
   "source": [
    "tag_viewcount = pd.DataFrame.from_dict(tag_viewcount_dict, orient='index', columns=['count']).sort_values(by='count',ascending=False)"
   ]
  },
  {
   "cell_type": "code",
   "execution_count": 16,
   "id": "0d0fffda",
   "metadata": {},
   "outputs": [
    {
     "data": {
      "text/html": [
       "<div>\n",
       "<style scoped>\n",
       "    .dataframe tbody tr th:only-of-type {\n",
       "        vertical-align: middle;\n",
       "    }\n",
       "\n",
       "    .dataframe tbody tr th {\n",
       "        vertical-align: top;\n",
       "    }\n",
       "\n",
       "    .dataframe thead th {\n",
       "        text-align: right;\n",
       "    }\n",
       "</style>\n",
       "<table border=\"1\" class=\"dataframe\">\n",
       "  <thead>\n",
       "    <tr style=\"text-align: right;\">\n",
       "      <th></th>\n",
       "      <th>count</th>\n",
       "    </tr>\n",
       "  </thead>\n",
       "  <tbody>\n",
       "    <tr>\n",
       "      <th>python</th>\n",
       "      <td>537585</td>\n",
       "    </tr>\n",
       "    <tr>\n",
       "      <th>machine-learning</th>\n",
       "      <td>388499</td>\n",
       "    </tr>\n",
       "    <tr>\n",
       "      <th>keras</th>\n",
       "      <td>268608</td>\n",
       "    </tr>\n",
       "    <tr>\n",
       "      <th>deep-learning</th>\n",
       "      <td>233628</td>\n",
       "    </tr>\n",
       "    <tr>\n",
       "      <th>pandas</th>\n",
       "      <td>201787</td>\n",
       "    </tr>\n",
       "  </tbody>\n",
       "</table>\n",
       "</div>"
      ],
      "text/plain": [
       "                   count\n",
       "python            537585\n",
       "machine-learning  388499\n",
       "keras             268608\n",
       "deep-learning     233628\n",
       "pandas            201787"
      ]
     },
     "execution_count": 16,
     "metadata": {},
     "output_type": "execute_result"
    }
   ],
   "source": [
    "tag_viewcount.head()"
   ]
  },
  {
   "cell_type": "code",
   "execution_count": 17,
   "id": "e6278f8c",
   "metadata": {},
   "outputs": [],
   "source": [
    "tag_viewcount_top20 = tag_viewcount.iloc[0:20].copy()\n",
    "\n",
    "tag_viewcount_top20.sort_values(by='count',ascending=True,inplace=True)"
   ]
  },
  {
   "cell_type": "code",
   "execution_count": 18,
   "id": "1652cb2e",
   "metadata": {},
   "outputs": [
    {
     "data": {
      "image/png": "[encoded data removed]",
      "text/plain": [
       "<Figure size 720x576 with 1 Axes>"
      ]
     },
     "metadata": {
      "needs_background": "light"
     },
     "output_type": "display_data"
    }
   ],
   "source": [
    "fig, ax = plt.subplots(figsize=(10,8))\n",
    "\n",
    "ax.barh(tag_viewcount_top20.index, tag_viewcount_top20['count'], height=0.6)\n",
    "ax.text(x=0, y=21, s='Number of Viewcounts', size=12, weight='bold')\n",
    "\n",
    "plt.show()"
   ]
  },
  {
   "cell_type": "markdown",
   "id": "7d6a552d",
   "metadata": {},
   "source": [
    "## Relations Between Tags"
   ]
  },
  {
   "cell_type": "code",
   "execution_count": 19,
   "id": "62217529",
   "metadata": {},
   "outputs": [
    {
     "data": {
      "text/html": [
       "<div>\n",
       "<style scoped>\n",
       "    .dataframe tbody tr th:only-of-type {\n",
       "        vertical-align: middle;\n",
       "    }\n",
       "\n",
       "    .dataframe tbody tr th {\n",
       "        vertical-align: top;\n",
       "    }\n",
       "\n",
       "    .dataframe thead th {\n",
       "        text-align: right;\n",
       "    }\n",
       "</style>\n",
       "<table border=\"1\" class=\"dataframe\">\n",
       "  <thead>\n",
       "    <tr style=\"text-align: right;\">\n",
       "      <th></th>\n",
       "      <th>count_count</th>\n",
       "      <th>count_viewcount</th>\n",
       "    </tr>\n",
       "  </thead>\n",
       "  <tbody>\n",
       "    <tr>\n",
       "      <th>machine-learning-model</th>\n",
       "      <td>224</td>\n",
       "      <td>NaN</td>\n",
       "    </tr>\n",
       "    <tr>\n",
       "      <th>statistics</th>\n",
       "      <td>234</td>\n",
       "      <td>NaN</td>\n",
       "    </tr>\n",
       "    <tr>\n",
       "      <th>clustering</th>\n",
       "      <td>257</td>\n",
       "      <td>33928.0</td>\n",
       "    </tr>\n",
       "    <tr>\n",
       "      <th>predictive-modeling</th>\n",
       "      <td>265</td>\n",
       "      <td>NaN</td>\n",
       "    </tr>\n",
       "    <tr>\n",
       "      <th>r</th>\n",
       "      <td>268</td>\n",
       "      <td>NaN</td>\n",
       "    </tr>\n",
       "    <tr>\n",
       "      <th>dataset</th>\n",
       "      <td>340</td>\n",
       "      <td>43151.0</td>\n",
       "    </tr>\n",
       "    <tr>\n",
       "      <th>regression</th>\n",
       "      <td>347</td>\n",
       "      <td>49451.0</td>\n",
       "    </tr>\n",
       "    <tr>\n",
       "      <th>pandas</th>\n",
       "      <td>354</td>\n",
       "      <td>201787.0</td>\n",
       "    </tr>\n",
       "    <tr>\n",
       "      <th>lstm</th>\n",
       "      <td>402</td>\n",
       "      <td>74458.0</td>\n",
       "    </tr>\n",
       "    <tr>\n",
       "      <th>time-series</th>\n",
       "      <td>466</td>\n",
       "      <td>64134.0</td>\n",
       "    </tr>\n",
       "    <tr>\n",
       "      <th>cnn</th>\n",
       "      <td>489</td>\n",
       "      <td>70349.0</td>\n",
       "    </tr>\n",
       "    <tr>\n",
       "      <th>nlp</th>\n",
       "      <td>493</td>\n",
       "      <td>71382.0</td>\n",
       "    </tr>\n",
       "    <tr>\n",
       "      <th>scikit-learn</th>\n",
       "      <td>540</td>\n",
       "      <td>128110.0</td>\n",
       "    </tr>\n",
       "    <tr>\n",
       "      <th>tensorflow</th>\n",
       "      <td>584</td>\n",
       "      <td>121369.0</td>\n",
       "    </tr>\n",
       "    <tr>\n",
       "      <th>classification</th>\n",
       "      <td>685</td>\n",
       "      <td>104457.0</td>\n",
       "    </tr>\n",
       "    <tr>\n",
       "      <th>keras</th>\n",
       "      <td>935</td>\n",
       "      <td>268608.0</td>\n",
       "    </tr>\n",
       "    <tr>\n",
       "      <th>neural-network</th>\n",
       "      <td>1055</td>\n",
       "      <td>185367.0</td>\n",
       "    </tr>\n",
       "    <tr>\n",
       "      <th>deep-learning</th>\n",
       "      <td>1220</td>\n",
       "      <td>233628.0</td>\n",
       "    </tr>\n",
       "    <tr>\n",
       "      <th>python</th>\n",
       "      <td>1814</td>\n",
       "      <td>537585.0</td>\n",
       "    </tr>\n",
       "    <tr>\n",
       "      <th>machine-learning</th>\n",
       "      <td>2693</td>\n",
       "      <td>388499.0</td>\n",
       "    </tr>\n",
       "  </tbody>\n",
       "</table>\n",
       "</div>"
      ],
      "text/plain": [
       "                        count_count  count_viewcount\n",
       "machine-learning-model          224              NaN\n",
       "statistics                      234              NaN\n",
       "clustering                      257          33928.0\n",
       "predictive-modeling             265              NaN\n",
       "r                               268              NaN\n",
       "dataset                         340          43151.0\n",
       "regression                      347          49451.0\n",
       "pandas                          354         201787.0\n",
       "lstm                            402          74458.0\n",
       "time-series                     466          64134.0\n",
       "cnn                             489          70349.0\n",
       "nlp                             493          71382.0\n",
       "scikit-learn                    540         128110.0\n",
       "tensorflow                      584         121369.0\n",
       "classification                  685         104457.0\n",
       "keras                           935         268608.0\n",
       "neural-network                 1055         185367.0\n",
       "deep-learning                  1220         233628.0\n",
       "python                         1814         537585.0\n",
       "machine-learning               2693         388499.0"
      ]
     },
     "execution_count": 19,
     "metadata": {},
     "output_type": "execute_result"
    }
   ],
   "source": [
    "#tag_viewcount_top20\n",
    "#tag_count_top20\n",
    "\n",
    "in_used = pd.merge(tag_count_top20, tag_viewcount_top20, how='left', left_index=True, right_index=True, suffixes=['_count','_viewcount'])\n",
    "in_used.head(20)"
   ]
  },
  {
   "cell_type": "code",
   "execution_count": 20,
   "id": "5f6af9fa",
   "metadata": {},
   "outputs": [
    {
     "data": {
      "text/html": [
       "<div>\n",
       "<style scoped>\n",
       "    .dataframe tbody tr th:only-of-type {\n",
       "        vertical-align: middle;\n",
       "    }\n",
       "\n",
       "    .dataframe tbody tr th {\n",
       "        vertical-align: top;\n",
       "    }\n",
       "\n",
       "    .dataframe thead th {\n",
       "        text-align: right;\n",
       "    }\n",
       "</style>\n",
       "<table border=\"1\" class=\"dataframe\">\n",
       "  <thead>\n",
       "    <tr style=\"text-align: right;\">\n",
       "      <th></th>\n",
       "      <th>count_count</th>\n",
       "      <th>count_viewcount</th>\n",
       "    </tr>\n",
       "  </thead>\n",
       "  <tbody>\n",
       "    <tr>\n",
       "      <th>clustering</th>\n",
       "      <td>257.0</td>\n",
       "      <td>33928</td>\n",
       "    </tr>\n",
       "    <tr>\n",
       "      <th>csv</th>\n",
       "      <td>NaN</td>\n",
       "      <td>38654</td>\n",
       "    </tr>\n",
       "    <tr>\n",
       "      <th>pytorch</th>\n",
       "      <td>NaN</td>\n",
       "      <td>40240</td>\n",
       "    </tr>\n",
       "    <tr>\n",
       "      <th>dataset</th>\n",
       "      <td>340.0</td>\n",
       "      <td>43151</td>\n",
       "    </tr>\n",
       "    <tr>\n",
       "      <th>regression</th>\n",
       "      <td>347.0</td>\n",
       "      <td>49451</td>\n",
       "    </tr>\n",
       "    <tr>\n",
       "      <th>numpy</th>\n",
       "      <td>NaN</td>\n",
       "      <td>49767</td>\n",
       "    </tr>\n",
       "    <tr>\n",
       "      <th>time-series</th>\n",
       "      <td>466.0</td>\n",
       "      <td>64134</td>\n",
       "    </tr>\n",
       "    <tr>\n",
       "      <th>cnn</th>\n",
       "      <td>489.0</td>\n",
       "      <td>70349</td>\n",
       "    </tr>\n",
       "    <tr>\n",
       "      <th>nlp</th>\n",
       "      <td>493.0</td>\n",
       "      <td>71382</td>\n",
       "    </tr>\n",
       "    <tr>\n",
       "      <th>lstm</th>\n",
       "      <td>402.0</td>\n",
       "      <td>74458</td>\n",
       "    </tr>\n",
       "    <tr>\n",
       "      <th>dataframe</th>\n",
       "      <td>NaN</td>\n",
       "      <td>89352</td>\n",
       "    </tr>\n",
       "    <tr>\n",
       "      <th>classification</th>\n",
       "      <td>685.0</td>\n",
       "      <td>104457</td>\n",
       "    </tr>\n",
       "    <tr>\n",
       "      <th>tensorflow</th>\n",
       "      <td>584.0</td>\n",
       "      <td>121369</td>\n",
       "    </tr>\n",
       "    <tr>\n",
       "      <th>scikit-learn</th>\n",
       "      <td>540.0</td>\n",
       "      <td>128110</td>\n",
       "    </tr>\n",
       "    <tr>\n",
       "      <th>neural-network</th>\n",
       "      <td>1055.0</td>\n",
       "      <td>185367</td>\n",
       "    </tr>\n",
       "    <tr>\n",
       "      <th>pandas</th>\n",
       "      <td>354.0</td>\n",
       "      <td>201787</td>\n",
       "    </tr>\n",
       "    <tr>\n",
       "      <th>deep-learning</th>\n",
       "      <td>1220.0</td>\n",
       "      <td>233628</td>\n",
       "    </tr>\n",
       "    <tr>\n",
       "      <th>keras</th>\n",
       "      <td>935.0</td>\n",
       "      <td>268608</td>\n",
       "    </tr>\n",
       "    <tr>\n",
       "      <th>machine-learning</th>\n",
       "      <td>2693.0</td>\n",
       "      <td>388499</td>\n",
       "    </tr>\n",
       "    <tr>\n",
       "      <th>python</th>\n",
       "      <td>1814.0</td>\n",
       "      <td>537585</td>\n",
       "    </tr>\n",
       "  </tbody>\n",
       "</table>\n",
       "</div>"
      ],
      "text/plain": [
       "                  count_count  count_viewcount\n",
       "clustering              257.0            33928\n",
       "csv                       NaN            38654\n",
       "pytorch                   NaN            40240\n",
       "dataset                 340.0            43151\n",
       "regression              347.0            49451\n",
       "numpy                     NaN            49767\n",
       "time-series             466.0            64134\n",
       "cnn                     489.0            70349\n",
       "nlp                     493.0            71382\n",
       "lstm                    402.0            74458\n",
       "dataframe                 NaN            89352\n",
       "classification          685.0           104457\n",
       "tensorflow              584.0           121369\n",
       "scikit-learn            540.0           128110\n",
       "neural-network         1055.0           185367\n",
       "pandas                  354.0           201787\n",
       "deep-learning          1220.0           233628\n",
       "keras                   935.0           268608\n",
       "machine-learning       2693.0           388499\n",
       "python                 1814.0           537585"
      ]
     },
     "execution_count": 20,
     "metadata": {},
     "output_type": "execute_result"
    }
   ],
   "source": [
    "in_view = pd.merge(tag_count_top20, tag_viewcount_top20, how='right', left_index=True, right_index=True, suffixes=['_count','_viewcount'])\n",
    "in_view.head(20)"
   ]
  },
  {
   "cell_type": "markdown",
   "id": "cb4d4bc2",
   "metadata": {},
   "source": [
    "## Domain Knowledge"
   ]
  },
  {
   "cell_type": "code",
   "execution_count": 21,
   "id": "b032b741",
   "metadata": {},
   "outputs": [
    {
     "name": "stdout",
     "output_type": "stream",
     "text": [
      "{'scikit-learn', 'neural-network', 'machine-learning', 'deep-learning', 'tensorflow', 'keras', 'classification', 'python'}\n"
     ]
    }
   ],
   "source": [
    "common_topic = set(in_view.tail(10).index).intersection(in_used.tail(10).index)\n",
    "print(common_topic)"
   ]
  },
  {
   "cell_type": "markdown",
   "id": "fb41b80a",
   "metadata": {},
   "source": [
    "We notice that the most used tags are also the most viewed. From the top 10 tags of each, here's a list of the tags in common: `python`, `machine-learning`, `deep-learning`, `neural-network`, `keras`, `tensorflow`, `classification`, `scikit-learn`.\n",
    "\n",
    "By comparing across the tags, we can deduce that deep learning is a popular topic."
   ]
  },
  {
   "cell_type": "markdown",
   "id": "f2faad56",
   "metadata": {},
   "source": [
    "## Is Deep Learning Just a Fad? \n",
    "\n",
    "The file `all_questions.csv` holds the result of the query that fetches all of the questions ever asked on DSSE, their dates and tags.\n",
    "\n",
    "In this we will track the interest in deep learning across time. We will:\n",
    "* Count how many deep learning questions are asked per time period.\n",
    "* The total amount of questions per time period.\n",
    "* How many deep learning questions there are relative to the total amount of questions per time period."
   ]
  },
  {
   "cell_type": "code",
   "execution_count": 22,
   "id": "9a724834",
   "metadata": {},
   "outputs": [],
   "source": [
    "all_questions = pd.read_csv(r\"C:\\Users\\Andy\\Desktop\\Learning\\Dataquest\\Project_10\\all_questions.csv\",parse_dates=['CreationDate'])"
   ]
  },
  {
   "cell_type": "code",
   "execution_count": 23,
   "id": "02539e15",
   "metadata": {},
   "outputs": [
    {
     "name": "stdout",
     "output_type": "stream",
     "text": [
      "<class 'pandas.core.frame.DataFrame'>\n",
      "RangeIndex: 21576 entries, 0 to 21575\n",
      "Data columns (total 3 columns):\n",
      " #   Column        Non-Null Count  Dtype         \n",
      "---  ------        --------------  -----         \n",
      " 0   Id            21576 non-null  int64         \n",
      " 1   CreationDate  21576 non-null  datetime64[ns]\n",
      " 2   Tags          21576 non-null  object        \n",
      "dtypes: datetime64[ns](1), int64(1), object(1)\n",
      "memory usage: 505.8+ KB\n"
     ]
    }
   ],
   "source": [
    "all_questions.info()"
   ]
  },
  {
   "cell_type": "code",
   "execution_count": 24,
   "id": "77316303",
   "metadata": {},
   "outputs": [
    {
     "data": {
      "text/html": [
       "<div>\n",
       "<style scoped>\n",
       "    .dataframe tbody tr th:only-of-type {\n",
       "        vertical-align: middle;\n",
       "    }\n",
       "\n",
       "    .dataframe tbody tr th {\n",
       "        vertical-align: top;\n",
       "    }\n",
       "\n",
       "    .dataframe thead th {\n",
       "        text-align: right;\n",
       "    }\n",
       "</style>\n",
       "<table border=\"1\" class=\"dataframe\">\n",
       "  <thead>\n",
       "    <tr style=\"text-align: right;\">\n",
       "      <th></th>\n",
       "      <th>Id</th>\n",
       "      <th>CreationDate</th>\n",
       "      <th>Tags</th>\n",
       "    </tr>\n",
       "  </thead>\n",
       "  <tbody>\n",
       "    <tr>\n",
       "      <th>0</th>\n",
       "      <td>45416</td>\n",
       "      <td>2019-02-12 00:36:29</td>\n",
       "      <td>&lt;python&gt;&lt;keras&gt;&lt;tensorflow&gt;&lt;cnn&gt;&lt;probability&gt;</td>\n",
       "    </tr>\n",
       "    <tr>\n",
       "      <th>1</th>\n",
       "      <td>45418</td>\n",
       "      <td>2019-02-12 00:50:39</td>\n",
       "      <td>&lt;neural-network&gt;</td>\n",
       "    </tr>\n",
       "    <tr>\n",
       "      <th>2</th>\n",
       "      <td>45422</td>\n",
       "      <td>2019-02-12 04:40:51</td>\n",
       "      <td>&lt;python&gt;&lt;ibm-watson&gt;&lt;chatbot&gt;</td>\n",
       "    </tr>\n",
       "    <tr>\n",
       "      <th>3</th>\n",
       "      <td>45426</td>\n",
       "      <td>2019-02-12 04:51:49</td>\n",
       "      <td>&lt;keras&gt;</td>\n",
       "    </tr>\n",
       "    <tr>\n",
       "      <th>4</th>\n",
       "      <td>45427</td>\n",
       "      <td>2019-02-12 05:08:24</td>\n",
       "      <td>&lt;r&gt;&lt;predictive-modeling&gt;&lt;machine-learning-mode...</td>\n",
       "    </tr>\n",
       "  </tbody>\n",
       "</table>\n",
       "</div>"
      ],
      "text/plain": [
       "      Id        CreationDate  \\\n",
       "0  45416 2019-02-12 00:36:29   \n",
       "1  45418 2019-02-12 00:50:39   \n",
       "2  45422 2019-02-12 04:40:51   \n",
       "3  45426 2019-02-12 04:51:49   \n",
       "4  45427 2019-02-12 05:08:24   \n",
       "\n",
       "                                                Tags  \n",
       "0      <python><keras><tensorflow><cnn><probability>  \n",
       "1                                   <neural-network>  \n",
       "2                      <python><ibm-watson><chatbot>  \n",
       "3                                            <keras>  \n",
       "4  <r><predictive-modeling><machine-learning-mode...  "
      ]
     },
     "execution_count": 24,
     "metadata": {},
     "output_type": "execute_result"
    }
   ],
   "source": [
    "all_questions.head()"
   ]
  },
  {
   "cell_type": "code",
   "execution_count": 25,
   "id": "5d1e4292",
   "metadata": {},
   "outputs": [],
   "source": [
    "all_questions['Tags'] = all_questions['Tags'].str.replace(\"^<|>$\",\"\", regex=True)\n",
    "all_questions['Tags'] = all_questions['Tags'].str.split(\"><\")"
   ]
  },
  {
   "cell_type": "markdown",
   "id": "9c0f0038",
   "metadata": {},
   "source": [
    "### Deciding Deep Learning questions\n",
    "\n",
    "From the list of the tags in common, we will classify questions with related tags as deep learning related questions."
   ]
  },
  {
   "cell_type": "code",
   "execution_count": 26,
   "id": "c9fb663f",
   "metadata": {},
   "outputs": [],
   "source": [
    "deep_learning_related = ['deep-learning','neural-network','keras','tensorflow','scikit-learn','cnn','lstm']"
   ]
  },
  {
   "cell_type": "code",
   "execution_count": 27,
   "id": "7209bb0c",
   "metadata": {},
   "outputs": [],
   "source": [
    "def dl_related(x):\n",
    "    for t in x:\n",
    "        if t in deep_learning_related:\n",
    "            return 1;\n",
    "    return 0;"
   ]
  },
  {
   "cell_type": "code",
   "execution_count": 28,
   "id": "9ea2b098",
   "metadata": {},
   "outputs": [],
   "source": [
    "all_questions['dl_related'] = all_questions['Tags'].apply(dl_related)"
   ]
  },
  {
   "cell_type": "code",
   "execution_count": 29,
   "id": "e561a34d",
   "metadata": {},
   "outputs": [
    {
     "data": {
      "text/html": [
       "<div>\n",
       "<style scoped>\n",
       "    .dataframe tbody tr th:only-of-type {\n",
       "        vertical-align: middle;\n",
       "    }\n",
       "\n",
       "    .dataframe tbody tr th {\n",
       "        vertical-align: top;\n",
       "    }\n",
       "\n",
       "    .dataframe thead th {\n",
       "        text-align: right;\n",
       "    }\n",
       "</style>\n",
       "<table border=\"1\" class=\"dataframe\">\n",
       "  <thead>\n",
       "    <tr style=\"text-align: right;\">\n",
       "      <th></th>\n",
       "      <th>Id</th>\n",
       "      <th>CreationDate</th>\n",
       "      <th>Tags</th>\n",
       "      <th>dl_related</th>\n",
       "    </tr>\n",
       "  </thead>\n",
       "  <tbody>\n",
       "    <tr>\n",
       "      <th>21320</th>\n",
       "      <td>66684</td>\n",
       "      <td>2020-01-18 21:17:34</td>\n",
       "      <td>[machine-learning, python, matplotlib, csv]</td>\n",
       "      <td>0</td>\n",
       "    </tr>\n",
       "    <tr>\n",
       "      <th>21321</th>\n",
       "      <td>66685</td>\n",
       "      <td>2020-01-18 23:56:27</td>\n",
       "      <td>[machine-learning, nlp, named-entity-recognition]</td>\n",
       "      <td>0</td>\n",
       "    </tr>\n",
       "    <tr>\n",
       "      <th>21322</th>\n",
       "      <td>66686</td>\n",
       "      <td>2020-01-19 00:49:00</td>\n",
       "      <td>[data-mining, bigdata, association-rules]</td>\n",
       "      <td>0</td>\n",
       "    </tr>\n",
       "    <tr>\n",
       "      <th>21323</th>\n",
       "      <td>66690</td>\n",
       "      <td>2020-01-19 02:21:53</td>\n",
       "      <td>[keras, gan]</td>\n",
       "      <td>1</td>\n",
       "    </tr>\n",
       "    <tr>\n",
       "      <th>21324</th>\n",
       "      <td>66691</td>\n",
       "      <td>2020-01-19 03:01:03</td>\n",
       "      <td>[python, pandas, anaconda, statsmodels]</td>\n",
       "      <td>0</td>\n",
       "    </tr>\n",
       "  </tbody>\n",
       "</table>\n",
       "</div>"
      ],
      "text/plain": [
       "          Id        CreationDate  \\\n",
       "21320  66684 2020-01-18 21:17:34   \n",
       "21321  66685 2020-01-18 23:56:27   \n",
       "21322  66686 2020-01-19 00:49:00   \n",
       "21323  66690 2020-01-19 02:21:53   \n",
       "21324  66691 2020-01-19 03:01:03   \n",
       "\n",
       "                                                    Tags  dl_related  \n",
       "21320        [machine-learning, python, matplotlib, csv]           0  \n",
       "21321  [machine-learning, nlp, named-entity-recognition]           0  \n",
       "21322          [data-mining, bigdata, association-rules]           0  \n",
       "21323                                       [keras, gan]           1  \n",
       "21324            [python, pandas, anaconda, statsmodels]           0  "
      ]
     },
     "execution_count": 29,
     "metadata": {},
     "output_type": "execute_result"
    }
   ],
   "source": [
    "all_questions.sort_values('CreationDate').tail()"
   ]
  },
  {
   "cell_type": "markdown",
   "id": "0a23309d",
   "metadata": {},
   "source": [
    "We will track interest in deep learning across a quarterly basis.\n",
    "\n",
    "Since only have data up till 2020-01-19, we will remove data that is from 2020 onwards"
   ]
  },
  {
   "cell_type": "code",
   "execution_count": 30,
   "id": "9f9e5adb",
   "metadata": {},
   "outputs": [],
   "source": [
    "all_questions = all_questions[all_questions['CreationDate'].dt.year < 2020]"
   ]
  },
  {
   "cell_type": "markdown",
   "id": "f8356eba",
   "metadata": {},
   "source": [
    "We will now need to classify each entry into quarter basis."
   ]
  },
  {
   "cell_type": "code",
   "execution_count": 31,
   "id": "c1a7129c",
   "metadata": {},
   "outputs": [],
   "source": [
    "def classify_quarter(x):\n",
    "    year = str(x.year%2000)\n",
    "    month = str((x.month-1) // 3 + 1)\n",
    "    return year + 'Q' + month"
   ]
  },
  {
   "cell_type": "code",
   "execution_count": 32,
   "id": "908369d4",
   "metadata": {},
   "outputs": [],
   "source": [
    "all_questions['quarter'] = all_questions['CreationDate'].apply(classify_quarter)"
   ]
  },
  {
   "cell_type": "code",
   "execution_count": 33,
   "id": "1edec25b",
   "metadata": {},
   "outputs": [
    {
     "data": {
      "text/html": [
       "<div>\n",
       "<style scoped>\n",
       "    .dataframe tbody tr th:only-of-type {\n",
       "        vertical-align: middle;\n",
       "    }\n",
       "\n",
       "    .dataframe tbody tr th {\n",
       "        vertical-align: top;\n",
       "    }\n",
       "\n",
       "    .dataframe thead th {\n",
       "        text-align: right;\n",
       "    }\n",
       "</style>\n",
       "<table border=\"1\" class=\"dataframe\">\n",
       "  <thead>\n",
       "    <tr style=\"text-align: right;\">\n",
       "      <th></th>\n",
       "      <th>Id</th>\n",
       "      <th>CreationDate</th>\n",
       "      <th>Tags</th>\n",
       "      <th>dl_related</th>\n",
       "      <th>quarter</th>\n",
       "    </tr>\n",
       "  </thead>\n",
       "  <tbody>\n",
       "    <tr>\n",
       "      <th>0</th>\n",
       "      <td>45416</td>\n",
       "      <td>2019-02-12 00:36:29</td>\n",
       "      <td>[python, keras, tensorflow, cnn, probability]</td>\n",
       "      <td>1</td>\n",
       "      <td>19Q1</td>\n",
       "    </tr>\n",
       "    <tr>\n",
       "      <th>1</th>\n",
       "      <td>45418</td>\n",
       "      <td>2019-02-12 00:50:39</td>\n",
       "      <td>[neural-network]</td>\n",
       "      <td>1</td>\n",
       "      <td>19Q1</td>\n",
       "    </tr>\n",
       "    <tr>\n",
       "      <th>2</th>\n",
       "      <td>45422</td>\n",
       "      <td>2019-02-12 04:40:51</td>\n",
       "      <td>[python, ibm-watson, chatbot]</td>\n",
       "      <td>0</td>\n",
       "      <td>19Q1</td>\n",
       "    </tr>\n",
       "    <tr>\n",
       "      <th>3</th>\n",
       "      <td>45426</td>\n",
       "      <td>2019-02-12 04:51:49</td>\n",
       "      <td>[keras]</td>\n",
       "      <td>1</td>\n",
       "      <td>19Q1</td>\n",
       "    </tr>\n",
       "    <tr>\n",
       "      <th>4</th>\n",
       "      <td>45427</td>\n",
       "      <td>2019-02-12 05:08:24</td>\n",
       "      <td>[r, predictive-modeling, machine-learning-mode...</td>\n",
       "      <td>0</td>\n",
       "      <td>19Q1</td>\n",
       "    </tr>\n",
       "  </tbody>\n",
       "</table>\n",
       "</div>"
      ],
      "text/plain": [
       "      Id        CreationDate  \\\n",
       "0  45416 2019-02-12 00:36:29   \n",
       "1  45418 2019-02-12 00:50:39   \n",
       "2  45422 2019-02-12 04:40:51   \n",
       "3  45426 2019-02-12 04:51:49   \n",
       "4  45427 2019-02-12 05:08:24   \n",
       "\n",
       "                                                Tags  dl_related quarter  \n",
       "0      [python, keras, tensorflow, cnn, probability]           1    19Q1  \n",
       "1                                   [neural-network]           1    19Q1  \n",
       "2                      [python, ibm-watson, chatbot]           0    19Q1  \n",
       "3                                            [keras]           1    19Q1  \n",
       "4  [r, predictive-modeling, machine-learning-mode...           0    19Q1  "
      ]
     },
     "execution_count": 33,
     "metadata": {},
     "output_type": "execute_result"
    }
   ],
   "source": [
    "all_questions.head()"
   ]
  },
  {
   "cell_type": "code",
   "execution_count": 51,
   "id": "e2de6068",
   "metadata": {},
   "outputs": [],
   "source": [
    "quarterly = all_questions.pivot_table(values='dl_related', index='quarter', aggfunc=(np.size,np.sum)).reset_index().rename(\n",
    "    {'sum':'DeepLearningQuestions', 'size':'TotalQuestions'}, axis=1)"
   ]
  },
  {
   "cell_type": "code",
   "execution_count": 55,
   "id": "d475e3a4",
   "metadata": {},
   "outputs": [],
   "source": [
    "quarterly['%_DL_Qns'] = quarterly['DeepLearningQuestions'] / quarterly['TotalQuestions'] * 100"
   ]
  },
  {
   "cell_type": "code",
   "execution_count": 57,
   "id": "9dbc8d72",
   "metadata": {},
   "outputs": [
    {
     "data": {
      "text/html": [
       "<div>\n",
       "<style scoped>\n",
       "    .dataframe tbody tr th:only-of-type {\n",
       "        vertical-align: middle;\n",
       "    }\n",
       "\n",
       "    .dataframe tbody tr th {\n",
       "        vertical-align: top;\n",
       "    }\n",
       "\n",
       "    .dataframe thead th {\n",
       "        text-align: right;\n",
       "    }\n",
       "</style>\n",
       "<table border=\"1\" class=\"dataframe\">\n",
       "  <thead>\n",
       "    <tr style=\"text-align: right;\">\n",
       "      <th></th>\n",
       "      <th>quarter</th>\n",
       "      <th>TotalQuestions</th>\n",
       "      <th>DeepLearningQuestions</th>\n",
       "      <th>%_DL_Qns</th>\n",
       "    </tr>\n",
       "  </thead>\n",
       "  <tbody>\n",
       "    <tr>\n",
       "      <th>15</th>\n",
       "      <td>18Q1</td>\n",
       "      <td>1221</td>\n",
       "      <td>554</td>\n",
       "      <td>45.372645</td>\n",
       "    </tr>\n",
       "    <tr>\n",
       "      <th>17</th>\n",
       "      <td>18Q3</td>\n",
       "      <td>1512</td>\n",
       "      <td>685</td>\n",
       "      <td>45.304233</td>\n",
       "    </tr>\n",
       "    <tr>\n",
       "      <th>18</th>\n",
       "      <td>18Q4</td>\n",
       "      <td>1294</td>\n",
       "      <td>531</td>\n",
       "      <td>41.035549</td>\n",
       "    </tr>\n",
       "    <tr>\n",
       "      <th>19</th>\n",
       "      <td>19Q1</td>\n",
       "      <td>1987</td>\n",
       "      <td>804</td>\n",
       "      <td>40.463010</td>\n",
       "    </tr>\n",
       "    <tr>\n",
       "      <th>22</th>\n",
       "      <td>19Q4</td>\n",
       "      <td>2036</td>\n",
       "      <td>809</td>\n",
       "      <td>39.734774</td>\n",
       "    </tr>\n",
       "  </tbody>\n",
       "</table>\n",
       "</div>"
      ],
      "text/plain": [
       "   quarter  TotalQuestions  DeepLearningQuestions   %_DL_Qns\n",
       "15    18Q1            1221                    554  45.372645\n",
       "17    18Q3            1512                    685  45.304233\n",
       "18    18Q4            1294                    531  41.035549\n",
       "19    19Q1            1987                    804  40.463010\n",
       "22    19Q4            2036                    809  39.734774"
      ]
     },
     "execution_count": 57,
     "metadata": {},
     "output_type": "execute_result"
    }
   ],
   "source": [
    "quarterly.sort_values('%_DL_Qns',ascending=False).head()"
   ]
  },
  {
   "cell_type": "code",
   "execution_count": 75,
   "id": "fb38d65b",
   "metadata": {},
   "outputs": [
    {
     "data": {
      "image/png": "[encoded data removed]",
      "text/plain": [
       "<Figure size 1080x432 with 1 Axes>"
      ]
     },
     "metadata": {
      "needs_background": "light"
     },
     "output_type": "display_data"
    }
   ],
   "source": [
    "fig, ax = plt.subplots(figsize = (15,6))\n",
    "\n",
    "ax.plot(quarterly['quarter'], quarterly['%_DL_Qns'])\n",
    "\n",
    "ax.text(x=7, y=49, s='Percentage of Deep Learning Questions', size=12, weight='bold')\n",
    "\n",
    "plt.show()"
   ]
  },
  {
   "cell_type": "markdown",
   "id": "7d8c1e04",
   "metadata": {},
   "source": [
    "It looks like the percentage of deep learning related questions posted on DSSE had increased over the years, and looks like it has reached a steady state. There is still a relatively high interest level in deep learning given that it accounts for almost half of the total questions posted."
   ]
  },
  {
   "cell_type": "code",
   "execution_count": null,
   "id": "56ecb385",
   "metadata": {},
   "outputs": [],
   "source": []
  }
 ],
 "metadata": {
  "kernelspec": {
   "display_name": "Python 3",
   "language": "python",
   "name": "python3"
  },
  "language_info": {
   "codemirror_mode": {
    "name": "ipython",
    "version": 3
   },
   "file_extension": ".py",
   "mimetype": "text/x-python",
   "name": "python",
   "nbconvert_exporter": "python",
   "pygments_lexer": "ipython3",
   "version": "3.8.8"
  }
 },
 "nbformat": 4,
 "nbformat_minor": 5
}
